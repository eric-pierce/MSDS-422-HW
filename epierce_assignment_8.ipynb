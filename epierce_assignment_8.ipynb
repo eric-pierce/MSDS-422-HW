{
  "nbformat": 4,
  "nbformat_minor": 0,
  "metadata": {
    "colab": {
      "name": "epierce_assignment_8.ipynb",
      "version": "0.3.2",
      "provenance": [],
      "collapsed_sections": [
        "VQrdb1UJGaan"
      ],
      "toc_visible": true,
      "include_colab_link": true
    },
    "kernelspec": {
      "name": "python3",
      "display_name": "Python 3"
    },
    "accelerator": "GPU"
  },
  "cells": [
    {
      "cell_type": "markdown",
      "metadata": {
        "id": "view-in-github",
        "colab_type": "text"
      },
      "source": [
        "<a href=\"https://colab.research.google.com/github/eric-pierce/MSDS-422-HW/blob/master/epierce_assignment_8.ipynb\" target=\"_parent\"><img src=\"https://colab.research.google.com/assets/colab-badge.svg\" alt=\"Open In Colab\"/></a>"
      ]
    },
    {
      "cell_type": "markdown",
      "metadata": {
        "id": "-5zceVtRCaiv",
        "colab_type": "text"
      },
      "source": [
        "# Assignment 8: Language Modeling With an RNN\n",
        "## MSDS-422 Spring 2019 - Eric Pierce\n",
        "## Background  \n",
        "Management is interested in using sentiment analysis to understand the most critical customer complaints from collected reviews and call logs so that customer support can be assigned to those cases. The GloVe 50d pretrained embeddings <glove.6B.50d.txt> are being leveraged alongside a dataset containing 500 positive and 500 negative movie reviews in order to understand the sentiment of these customer complaints. GloVe 50d consists of 400,000 words with 50 vectors each.\n",
        "## Objective\n",
        "Management is evaluating machine learning technologies to improve customer relationship management. This is focused on neural network typology and hyperparameter settings with Recurrant Neural Networks to determine accuracy."
      ]
    },
    {
      "cell_type": "markdown",
      "metadata": {
        "id": "nYEMbhy2CzhL",
        "colab_type": "text"
      },
      "source": [
        "# Setup and Data Import\n",
        "Initialize the data and libraries used as part of this project"
      ]
    },
    {
      "cell_type": "markdown",
      "metadata": {
        "id": "kGc5tYFCFJ_W",
        "colab_type": "text"
      },
      "source": [
        "### Library Import and Setting Initialization"
      ]
    },
    {
      "cell_type": "code",
      "metadata": {
        "id": "ePXywTrhwMY0",
        "colab_type": "code",
        "outputId": "277b5e19-7e22-49cb-fb93-3e60dfa0cea3",
        "colab": {
          "base_uri": "https://localhost:8080/",
          "height": 35
        }
      },
      "source": [
        "# import base packages into the namespace for this program\n",
        "import numpy as np\n",
        "import pandas as pd\n",
        "import matplotlib\n",
        "import matplotlib.pyplot as plt\n",
        "import seaborn as sns\n",
        "import datetime\n",
        "import keras\n",
        "\n",
        "import tensorflow as tf\n",
        "import os\n",
        "import os.path\n",
        "import re\n",
        "import nltk\n",
        "from __future__ import absolute_import\n",
        "from __future__ import division\n",
        "from __future__ import print_function\n",
        "from nltk.tokenize import TreebankWordTokenizer\n",
        "from collections import defaultdict\n",
        "from sklearn.model_selection import train_test_split\n",
        "\n",
        "from keras.models import Sequential\n",
        "from keras.layers import Dense, Dropout\n",
        "from keras.optimizers import RMSprop\n",
        "from sklearn.metrics import confusion_matrix\n",
        "from sklearn.preprocessing import StandardScaler\n",
        "\n",
        "from google.colab import drive\n",
        "drive.mount('/content/gdrive')\n",
        "\n",
        "# seed value for random number generators to obtain reproducible results\n",
        "RANDOM_SEED = 1"
      ],
      "execution_count": 88,
      "outputs": [
        {
          "output_type": "stream",
          "text": [
            "Drive already mounted at /content/gdrive; to attempt to forcibly remount, call drive.mount(\"/content/gdrive\", force_remount=True).\n"
          ],
          "name": "stdout"
        }
      ]
    },
    {
      "cell_type": "markdown",
      "metadata": {
        "id": "BWtxf9-nFyzK",
        "colab_type": "text"
      },
      "source": [
        "### Data Import"
      ]
    },
    {
      "cell_type": "code",
      "metadata": {
        "id": "nENa0SBjwUO1",
        "colab_type": "code",
        "colab": {}
      },
      "source": [
        "g6b50d = pd.read_csv(\"/content/gdrive/My Drive/MSDS-422-Gift/module_8/embeddings/glove.6B.50d.txt\", sep=\"\\s\", engine=\"python\", names=np.arange(1,51))\n",
        "g6b50d.index.name = \"word\""
      ],
      "execution_count": 0,
      "outputs": []
    },
    {
      "cell_type": "markdown",
      "metadata": {
        "id": "VQrdb1UJGaan",
        "colab_type": "text"
      },
      "source": [
        "# Exploratory Data Analysis\n",
        "*   Clean Data\n",
        "*   Identify Data Descriptions and Statistics\n",
        "*   Visualize Input Data"
      ]
    },
    {
      "cell_type": "markdown",
      "metadata": {
        "id": "ks9OAB1ZHV2x",
        "colab_type": "text"
      },
      "source": [
        "### Clean Data"
      ]
    },
    {
      "cell_type": "markdown",
      "metadata": {
        "id": "-gHDXqHqfj0O",
        "colab_type": "text"
      },
      "source": [
        "Examine the shape of original input data"
      ]
    },
    {
      "cell_type": "code",
      "metadata": {
        "id": "svM252TmHZrl",
        "colab_type": "code",
        "outputId": "7b6526d2-6031-4d75-cc1f-46a0710e0a72",
        "colab": {
          "base_uri": "https://localhost:8080/",
          "height": 35
        }
      },
      "source": [
        "print(g6b50d.shape)"
      ],
      "execution_count": 0,
      "outputs": [
        {
          "output_type": "stream",
          "text": [
            "(400000, 50)\n"
          ],
          "name": "stdout"
        }
      ]
    },
    {
      "cell_type": "markdown",
      "metadata": {
        "id": "IbpEiKD8fqGc",
        "colab_type": "text"
      },
      "source": [
        "After dropping any non-populated values the shape is the same, therefore all values are populated"
      ]
    },
    {
      "cell_type": "code",
      "metadata": {
        "id": "iaC7IgSUG2Sv",
        "colab_type": "code",
        "outputId": "b1e1b5c9-0cd3-4d41-8eb6-e2732f322340",
        "colab": {
          "base_uri": "https://localhost:8080/",
          "height": 35
        }
      },
      "source": [
        "g6b50d.dropna()\n",
        "print(g6b50d.shape)"
      ],
      "execution_count": 0,
      "outputs": [
        {
          "output_type": "stream",
          "text": [
            "(400000, 50)\n"
          ],
          "name": "stdout"
        }
      ]
    },
    {
      "cell_type": "markdown",
      "metadata": {
        "id": "bBOBIIH8f61p",
        "colab_type": "text"
      },
      "source": [
        "Sample rows, each row consists of a label identifying the actual number written, followed by 783 pixels (28x28 image)"
      ]
    },
    {
      "cell_type": "code",
      "metadata": {
        "id": "fbnNXlucC_Nh",
        "colab_type": "code",
        "outputId": "5425b0a2-2c98-4cf1-cf9b-4d53fc5a6ebb",
        "colab": {
          "base_uri": "https://localhost:8080/",
          "height": 258
        }
      },
      "source": [
        "g6b50d.head()"
      ],
      "execution_count": 0,
      "outputs": [
        {
          "output_type": "execute_result",
          "data": {
            "text/html": [
              "<div>\n",
              "<style scoped>\n",
              "    .dataframe tbody tr th:only-of-type {\n",
              "        vertical-align: middle;\n",
              "    }\n",
              "\n",
              "    .dataframe tbody tr th {\n",
              "        vertical-align: top;\n",
              "    }\n",
              "\n",
              "    .dataframe thead th {\n",
              "        text-align: right;\n",
              "    }\n",
              "</style>\n",
              "<table border=\"1\" class=\"dataframe\">\n",
              "  <thead>\n",
              "    <tr style=\"text-align: right;\">\n",
              "      <th></th>\n",
              "      <th>1</th>\n",
              "      <th>2</th>\n",
              "      <th>3</th>\n",
              "      <th>4</th>\n",
              "      <th>5</th>\n",
              "      <th>6</th>\n",
              "      <th>7</th>\n",
              "      <th>8</th>\n",
              "      <th>9</th>\n",
              "      <th>10</th>\n",
              "      <th>11</th>\n",
              "      <th>12</th>\n",
              "      <th>13</th>\n",
              "      <th>14</th>\n",
              "      <th>15</th>\n",
              "      <th>16</th>\n",
              "      <th>17</th>\n",
              "      <th>18</th>\n",
              "      <th>19</th>\n",
              "      <th>20</th>\n",
              "      <th>21</th>\n",
              "      <th>22</th>\n",
              "      <th>23</th>\n",
              "      <th>24</th>\n",
              "      <th>25</th>\n",
              "      <th>26</th>\n",
              "      <th>27</th>\n",
              "      <th>28</th>\n",
              "      <th>29</th>\n",
              "      <th>30</th>\n",
              "      <th>31</th>\n",
              "      <th>32</th>\n",
              "      <th>33</th>\n",
              "      <th>34</th>\n",
              "      <th>35</th>\n",
              "      <th>36</th>\n",
              "      <th>37</th>\n",
              "      <th>38</th>\n",
              "      <th>39</th>\n",
              "      <th>40</th>\n",
              "      <th>41</th>\n",
              "      <th>42</th>\n",
              "      <th>43</th>\n",
              "      <th>44</th>\n",
              "      <th>45</th>\n",
              "      <th>46</th>\n",
              "      <th>47</th>\n",
              "      <th>48</th>\n",
              "      <th>49</th>\n",
              "      <th>50</th>\n",
              "    </tr>\n",
              "    <tr>\n",
              "      <th>word</th>\n",
              "      <th></th>\n",
              "      <th></th>\n",
              "      <th></th>\n",
              "      <th></th>\n",
              "      <th></th>\n",
              "      <th></th>\n",
              "      <th></th>\n",
              "      <th></th>\n",
              "      <th></th>\n",
              "      <th></th>\n",
              "      <th></th>\n",
              "      <th></th>\n",
              "      <th></th>\n",
              "      <th></th>\n",
              "      <th></th>\n",
              "      <th></th>\n",
              "      <th></th>\n",
              "      <th></th>\n",
              "      <th></th>\n",
              "      <th></th>\n",
              "      <th></th>\n",
              "      <th></th>\n",
              "      <th></th>\n",
              "      <th></th>\n",
              "      <th></th>\n",
              "      <th></th>\n",
              "      <th></th>\n",
              "      <th></th>\n",
              "      <th></th>\n",
              "      <th></th>\n",
              "      <th></th>\n",
              "      <th></th>\n",
              "      <th></th>\n",
              "      <th></th>\n",
              "      <th></th>\n",
              "      <th></th>\n",
              "      <th></th>\n",
              "      <th></th>\n",
              "      <th></th>\n",
              "      <th></th>\n",
              "      <th></th>\n",
              "      <th></th>\n",
              "      <th></th>\n",
              "      <th></th>\n",
              "      <th></th>\n",
              "      <th></th>\n",
              "      <th></th>\n",
              "      <th></th>\n",
              "      <th></th>\n",
              "      <th></th>\n",
              "    </tr>\n",
              "  </thead>\n",
              "  <tbody>\n",
              "    <tr>\n",
              "      <th>the</th>\n",
              "      <td>0.418000</td>\n",
              "      <td>0.249680</td>\n",
              "      <td>-0.41242</td>\n",
              "      <td>0.12170</td>\n",
              "      <td>0.34527</td>\n",
              "      <td>-0.044457</td>\n",
              "      <td>-0.49688</td>\n",
              "      <td>-0.17862</td>\n",
              "      <td>-0.00066</td>\n",
              "      <td>-0.656600</td>\n",
              "      <td>0.278430</td>\n",
              "      <td>-0.147670</td>\n",
              "      <td>-0.55677</td>\n",
              "      <td>0.14658</td>\n",
              "      <td>-0.00951</td>\n",
              "      <td>0.011658</td>\n",
              "      <td>0.102040</td>\n",
              "      <td>-0.127920</td>\n",
              "      <td>-0.84430</td>\n",
              "      <td>-0.121810</td>\n",
              "      <td>-0.016801</td>\n",
              "      <td>-0.332790</td>\n",
              "      <td>-0.155200</td>\n",
              "      <td>-0.231310</td>\n",
              "      <td>-0.191810</td>\n",
              "      <td>-1.8823</td>\n",
              "      <td>-0.76746</td>\n",
              "      <td>0.099051</td>\n",
              "      <td>-0.421250</td>\n",
              "      <td>-0.19526</td>\n",
              "      <td>4.0071</td>\n",
              "      <td>-0.185940</td>\n",
              "      <td>-0.522870</td>\n",
              "      <td>-0.31681</td>\n",
              "      <td>0.000592</td>\n",
              "      <td>0.007445</td>\n",
              "      <td>0.17778</td>\n",
              "      <td>-0.158970</td>\n",
              "      <td>0.012041</td>\n",
              "      <td>-0.054223</td>\n",
              "      <td>-0.298710</td>\n",
              "      <td>-0.157490</td>\n",
              "      <td>-0.347580</td>\n",
              "      <td>-0.045637</td>\n",
              "      <td>-0.44251</td>\n",
              "      <td>0.187850</td>\n",
              "      <td>0.002785</td>\n",
              "      <td>-0.184110</td>\n",
              "      <td>-0.115140</td>\n",
              "      <td>-0.78581</td>\n",
              "    </tr>\n",
              "    <tr>\n",
              "      <th>,</th>\n",
              "      <td>0.013441</td>\n",
              "      <td>0.236820</td>\n",
              "      <td>-0.16899</td>\n",
              "      <td>0.40951</td>\n",
              "      <td>0.63812</td>\n",
              "      <td>0.477090</td>\n",
              "      <td>-0.42852</td>\n",
              "      <td>-0.55641</td>\n",
              "      <td>-0.36400</td>\n",
              "      <td>-0.239380</td>\n",
              "      <td>0.130010</td>\n",
              "      <td>-0.063734</td>\n",
              "      <td>-0.39575</td>\n",
              "      <td>-0.48162</td>\n",
              "      <td>0.23291</td>\n",
              "      <td>0.090201</td>\n",
              "      <td>-0.133240</td>\n",
              "      <td>0.078639</td>\n",
              "      <td>-0.41634</td>\n",
              "      <td>-0.154280</td>\n",
              "      <td>0.100680</td>\n",
              "      <td>0.488910</td>\n",
              "      <td>0.312260</td>\n",
              "      <td>-0.125200</td>\n",
              "      <td>-0.037512</td>\n",
              "      <td>-1.5179</td>\n",
              "      <td>0.12612</td>\n",
              "      <td>-0.024420</td>\n",
              "      <td>-0.042961</td>\n",
              "      <td>-0.28351</td>\n",
              "      <td>3.5416</td>\n",
              "      <td>-0.119560</td>\n",
              "      <td>-0.014533</td>\n",
              "      <td>-0.14990</td>\n",
              "      <td>0.218640</td>\n",
              "      <td>-0.334120</td>\n",
              "      <td>-0.13872</td>\n",
              "      <td>0.318060</td>\n",
              "      <td>0.703580</td>\n",
              "      <td>0.448580</td>\n",
              "      <td>-0.080262</td>\n",
              "      <td>0.630030</td>\n",
              "      <td>0.321110</td>\n",
              "      <td>-0.467650</td>\n",
              "      <td>0.22786</td>\n",
              "      <td>0.360340</td>\n",
              "      <td>-0.378180</td>\n",
              "      <td>-0.566570</td>\n",
              "      <td>0.044691</td>\n",
              "      <td>0.30392</td>\n",
              "    </tr>\n",
              "    <tr>\n",
              "      <th>.</th>\n",
              "      <td>0.151640</td>\n",
              "      <td>0.301770</td>\n",
              "      <td>-0.16763</td>\n",
              "      <td>0.17684</td>\n",
              "      <td>0.31719</td>\n",
              "      <td>0.339730</td>\n",
              "      <td>-0.43478</td>\n",
              "      <td>-0.31086</td>\n",
              "      <td>-0.44999</td>\n",
              "      <td>-0.294860</td>\n",
              "      <td>0.166080</td>\n",
              "      <td>0.119630</td>\n",
              "      <td>-0.41328</td>\n",
              "      <td>-0.42353</td>\n",
              "      <td>0.59868</td>\n",
              "      <td>0.288250</td>\n",
              "      <td>-0.115470</td>\n",
              "      <td>-0.041848</td>\n",
              "      <td>-0.67989</td>\n",
              "      <td>-0.250630</td>\n",
              "      <td>0.184720</td>\n",
              "      <td>0.086876</td>\n",
              "      <td>0.465820</td>\n",
              "      <td>0.015035</td>\n",
              "      <td>0.043474</td>\n",
              "      <td>-1.4671</td>\n",
              "      <td>-0.30384</td>\n",
              "      <td>-0.023441</td>\n",
              "      <td>0.305890</td>\n",
              "      <td>-0.21785</td>\n",
              "      <td>3.7460</td>\n",
              "      <td>0.004228</td>\n",
              "      <td>-0.184360</td>\n",
              "      <td>-0.46209</td>\n",
              "      <td>0.098329</td>\n",
              "      <td>-0.119070</td>\n",
              "      <td>0.23919</td>\n",
              "      <td>0.116100</td>\n",
              "      <td>0.417050</td>\n",
              "      <td>0.056763</td>\n",
              "      <td>-0.000064</td>\n",
              "      <td>0.068987</td>\n",
              "      <td>0.087939</td>\n",
              "      <td>-0.102850</td>\n",
              "      <td>-0.13931</td>\n",
              "      <td>0.223140</td>\n",
              "      <td>-0.080803</td>\n",
              "      <td>-0.356520</td>\n",
              "      <td>0.016413</td>\n",
              "      <td>0.10216</td>\n",
              "    </tr>\n",
              "    <tr>\n",
              "      <th>of</th>\n",
              "      <td>0.708530</td>\n",
              "      <td>0.570880</td>\n",
              "      <td>-0.47160</td>\n",
              "      <td>0.18048</td>\n",
              "      <td>0.54449</td>\n",
              "      <td>0.726030</td>\n",
              "      <td>0.18157</td>\n",
              "      <td>-0.52393</td>\n",
              "      <td>0.10381</td>\n",
              "      <td>-0.175660</td>\n",
              "      <td>0.078852</td>\n",
              "      <td>-0.362160</td>\n",
              "      <td>-0.11829</td>\n",
              "      <td>-0.83336</td>\n",
              "      <td>0.11917</td>\n",
              "      <td>-0.166050</td>\n",
              "      <td>0.061555</td>\n",
              "      <td>-0.012719</td>\n",
              "      <td>-0.56623</td>\n",
              "      <td>0.013616</td>\n",
              "      <td>0.228510</td>\n",
              "      <td>-0.143960</td>\n",
              "      <td>-0.067549</td>\n",
              "      <td>-0.381570</td>\n",
              "      <td>-0.236980</td>\n",
              "      <td>-1.7037</td>\n",
              "      <td>-0.86692</td>\n",
              "      <td>-0.267040</td>\n",
              "      <td>-0.258900</td>\n",
              "      <td>0.17670</td>\n",
              "      <td>3.8676</td>\n",
              "      <td>-0.161300</td>\n",
              "      <td>-0.132730</td>\n",
              "      <td>-0.68881</td>\n",
              "      <td>0.184440</td>\n",
              "      <td>0.005246</td>\n",
              "      <td>-0.33874</td>\n",
              "      <td>-0.078956</td>\n",
              "      <td>0.241850</td>\n",
              "      <td>0.365760</td>\n",
              "      <td>-0.347270</td>\n",
              "      <td>0.284830</td>\n",
              "      <td>0.075693</td>\n",
              "      <td>-0.062178</td>\n",
              "      <td>-0.38988</td>\n",
              "      <td>0.229020</td>\n",
              "      <td>-0.216170</td>\n",
              "      <td>-0.225620</td>\n",
              "      <td>-0.093918</td>\n",
              "      <td>-0.80375</td>\n",
              "    </tr>\n",
              "    <tr>\n",
              "      <th>to</th>\n",
              "      <td>0.680470</td>\n",
              "      <td>-0.039263</td>\n",
              "      <td>0.30186</td>\n",
              "      <td>-0.17792</td>\n",
              "      <td>0.42962</td>\n",
              "      <td>0.032246</td>\n",
              "      <td>-0.41376</td>\n",
              "      <td>0.13228</td>\n",
              "      <td>-0.29847</td>\n",
              "      <td>-0.085253</td>\n",
              "      <td>0.171180</td>\n",
              "      <td>0.224190</td>\n",
              "      <td>-0.10046</td>\n",
              "      <td>-0.43653</td>\n",
              "      <td>0.33418</td>\n",
              "      <td>0.678460</td>\n",
              "      <td>0.057204</td>\n",
              "      <td>-0.344480</td>\n",
              "      <td>-0.42785</td>\n",
              "      <td>-0.432750</td>\n",
              "      <td>0.559630</td>\n",
              "      <td>0.100320</td>\n",
              "      <td>0.186770</td>\n",
              "      <td>-0.268540</td>\n",
              "      <td>0.037334</td>\n",
              "      <td>-2.0932</td>\n",
              "      <td>0.22171</td>\n",
              "      <td>-0.398680</td>\n",
              "      <td>0.209120</td>\n",
              "      <td>-0.55725</td>\n",
              "      <td>3.8826</td>\n",
              "      <td>0.474660</td>\n",
              "      <td>-0.956580</td>\n",
              "      <td>-0.37788</td>\n",
              "      <td>0.208690</td>\n",
              "      <td>-0.327520</td>\n",
              "      <td>0.12751</td>\n",
              "      <td>0.088359</td>\n",
              "      <td>0.163510</td>\n",
              "      <td>-0.216340</td>\n",
              "      <td>-0.094375</td>\n",
              "      <td>0.018324</td>\n",
              "      <td>0.210480</td>\n",
              "      <td>-0.030880</td>\n",
              "      <td>-0.19722</td>\n",
              "      <td>0.082279</td>\n",
              "      <td>-0.094340</td>\n",
              "      <td>-0.073297</td>\n",
              "      <td>-0.064699</td>\n",
              "      <td>-0.26044</td>\n",
              "    </tr>\n",
              "  </tbody>\n",
              "</table>\n",
              "</div>"
            ],
            "text/plain": [
              "            1         2        3   ...        48        49       50\n",
              "word                               ...                             \n",
              "the   0.418000  0.249680 -0.41242  ... -0.184110 -0.115140 -0.78581\n",
              ",     0.013441  0.236820 -0.16899  ... -0.566570  0.044691  0.30392\n",
              ".     0.151640  0.301770 -0.16763  ... -0.356520  0.016413  0.10216\n",
              "of    0.708530  0.570880 -0.47160  ... -0.225620 -0.093918 -0.80375\n",
              "to    0.680470 -0.039263  0.30186  ... -0.073297 -0.064699 -0.26044\n",
              "\n",
              "[5 rows x 50 columns]"
            ]
          },
          "metadata": {
            "tags": []
          },
          "execution_count": 19
        }
      ]
    },
    {
      "cell_type": "markdown",
      "metadata": {
        "id": "jtthegLWMgxB",
        "colab_type": "text"
      },
      "source": [
        "### Visualize Input Data"
      ]
    },
    {
      "cell_type": "markdown",
      "metadata": {
        "id": "yXBkegeHe4C5",
        "colab_type": "text"
      },
      "source": [
        "#### Numeric Parameter Histograms"
      ]
    },
    {
      "cell_type": "code",
      "metadata": {
        "id": "xs1M6IC4mjJR",
        "colab_type": "code",
        "outputId": "e48bb2a2-6868-440a-a5c7-d16849c6888f",
        "colab": {
          "base_uri": "https://localhost:8080/",
          "height": 378
        }
      },
      "source": [
        "g6b50d.iloc[:, 1:].iloc[1].hist(figsize=(10,6))\n",
        "plt.show()"
      ],
      "execution_count": 0,
      "outputs": [
        {
          "output_type": "display_data",
          "data": {
            "image/png": "[encoded data removed]",
            "text/plain": [
              "<Figure size 720x432 with 1 Axes>"
            ]
          },
          "metadata": {
            "tags": []
          }
        }
      ]
    },
    {
      "cell_type": "markdown",
      "metadata": {
        "id": "Wnmu8dIQfuij",
        "colab_type": "text"
      },
      "source": [
        "# Initial Tensorflow Model Training with JumpStart"
      ]
    },
    {
      "cell_type": "markdown",
      "metadata": {
        "id": "JEAeZC5ufLBn",
        "colab_type": "text"
      },
      "source": [
        "Set Parameters"
      ]
    },
    {
      "cell_type": "code",
      "metadata": {
        "id": "kvJwWwqKfLL5",
        "colab_type": "code",
        "colab": {}
      },
      "source": [
        "EVOCABSIZE = 10000  # specify desired size of pre-defined embedding vocabulary "
      ],
      "execution_count": 0,
      "outputs": []
    },
    {
      "cell_type": "markdown",
      "metadata": {
        "id": "BMLe9P_rpXat",
        "colab_type": "text"
      },
      "source": [
        "Define helper Functions"
      ]
    },
    {
      "cell_type": "code",
      "metadata": {
        "id": "NwJNr9SdpTHk",
        "colab_type": "code",
        "colab": {}
      },
      "source": [
        "def load_embedding_from_disks(embeddings_filename, with_indexes=True):\n",
        "    if with_indexes:\n",
        "        word_to_index_dict = dict()\n",
        "        index_to_embedding_array = []\n",
        "    else:\n",
        "        word_to_embedding_dict = dict()\n",
        "\n",
        "    with open(embeddings_filename, 'r', encoding='utf-8') as embeddings_file:\n",
        "        for (i, line) in enumerate(embeddings_file):\n",
        "\n",
        "            split = line.split(' ')\n",
        "\n",
        "            word = split[0]\n",
        "\n",
        "            representation = split[1:]\n",
        "            representation = np.array([float(val) for val in representation])\n",
        "\n",
        "            if with_indexes:\n",
        "                word_to_index_dict[word] = i\n",
        "                index_to_embedding_array.append(representation)\n",
        "            else:\n",
        "                word_to_embedding_dict[word] = representation\n",
        "\n",
        "    # Empty representation for unknown words.\n",
        "    _WORD_NOT_FOUND = [0.0] * len(representation)\n",
        "    if with_indexes:\n",
        "        _LAST_INDEX = i + 1\n",
        "        word_to_index_dict = defaultdict(\n",
        "            lambda: _LAST_INDEX, word_to_index_dict)\n",
        "        index_to_embedding_array = np.array(\n",
        "            index_to_embedding_array + [_WORD_NOT_FOUND])\n",
        "        return word_to_index_dict, index_to_embedding_array\n",
        "    else:\n",
        "        word_to_embedding_dict = defaultdict(lambda: _WORD_NOT_FOUND)\n",
        "        return word_to_embedding_dict\n",
        "\n",
        "def default_factory():\n",
        "    return EVOCABSIZE  # last/unknown-word row in limited_index_to_embedding\n",
        "\n",
        "def text_parse(string):\n",
        "    # replace non-alphanumeric with space \n",
        "    temp_string = re.sub('[^a-zA-Z\\r\\n\\t]', '  ', string)      \n",
        "    # replace single-character words with space\n",
        "    temp_string = re.sub('\\s.\\s', ' ', temp_string)   \n",
        "    # convert uppercase to lowercase\n",
        "    temp_string = temp_string.lower()        \n",
        "    # replace multiple blank characters with one blank character\n",
        "    temp_string = re.sub('\\s+', ' ', temp_string)    \n",
        "    return(temp_string)    \n",
        "\n",
        "def read_data(filename):\n",
        "  with open(filename, encoding='utf-8') as f:\n",
        "    data = tf.compat.as_str(f.read())\n",
        "    data = data.lower()\n",
        "    data = text_parse(data)\n",
        "    data = TreebankWordTokenizer().tokenize(data)  # The Penn Treebank\n",
        "  return data\n",
        "\n",
        "# To make output stable across runs\n",
        "def reset_graph(seed=RANDOM_SEED):\n",
        "    tf.reset_default_graph()\n",
        "    tf.set_random_seed(seed)\n",
        "    np.random.seed(seed)"
      ],
      "execution_count": 0,
      "outputs": []
    },
    {
      "cell_type": "markdown",
      "metadata": {
        "id": "mleaDMRbfC1_",
        "colab_type": "text"
      },
      "source": [
        "Load and Process Embeddings. We return a tuple of two dictionaries (word_to_index_dict, index_to_embedding_array), otherwise we return only a direct word_to_embedding_dict dictionary mapping from a string to a numpy array."
      ]
    },
    {
      "cell_type": "code",
      "metadata": {
        "id": "psXxZ8mUSs2-",
        "colab_type": "code",
        "outputId": "5a281628-00ac-4e2f-b56e-39ed4b69ccab",
        "colab": {
          "base_uri": "https://localhost:8080/",
          "height": 72
        }
      },
      "source": [
        "embeddings_directory = '/content/gdrive/My Drive/MSDS-422-Gift/module_8/embeddings'\n",
        "filename = 'glove.6B.50d.txt'\n",
        "embeddings_filename = os.path.join(embeddings_directory, filename)\n",
        "      \n",
        "print('\\nLoading embeddings from', embeddings_filename)\n",
        "word_to_index, index_to_embedding = load_embedding_from_disks(embeddings_filename, with_indexes=True)\n",
        "print(\"Embedding loaded from disks.\")"
      ],
      "execution_count": 155,
      "outputs": [
        {
          "output_type": "stream",
          "text": [
            "\n",
            "Loading embeddings from /content/gdrive/My Drive/MSDS-422-Gift/module_8/embeddings/glove.6B.50d.txt\n",
            "Embedding loaded from disks.\n"
          ],
          "name": "stdout"
        }
      ]
    },
    {
      "cell_type": "markdown",
      "metadata": {
        "id": "XG7YattfprJU",
        "colab_type": "text"
      },
      "source": [
        "Read in Movie Review Data. Data will be stored in a list of lists where the each list represents, a document and document is a list of words. We then break the text into words."
      ]
    },
    {
      "cell_type": "code",
      "metadata": {
        "id": "iGMmU6qKprQI",
        "colab_type": "code",
        "outputId": "afa8ad90-e743-4e32-efc2-3bbcb57d3bbb",
        "colab": {
          "base_uri": "https://localhost:8080/",
          "height": 164
        }
      },
      "source": [
        "# -----------------------------------------------\n",
        "# gather data for 500 negative movie reviews\n",
        "# -----------------------------------------------\n",
        "\n",
        "dir_name = '/content/gdrive/My Drive/MSDS-422-Gift/module_8/movie-reviews-negative'\n",
        "    \n",
        "filenames = [i for i in os.listdir(dir_name)]\n",
        "num_files = len(filenames)\n",
        "\n",
        "for i in range(len(filenames)):\n",
        "    file_exists = os.path.isfile(os.path.join(dir_name, filenames[i]))\n",
        "    assert file_exists\n",
        "print('%d negative reviews found' % len(filenames))\n",
        "\n",
        "negative_documents = []\n",
        "\n",
        "for i in range(num_files):\n",
        "    words = read_data(os.path.join(dir_name, filenames[i]))\n",
        "    negative_documents.append(words)\n",
        "print('negative reviews loaded')\n",
        "\n",
        "# -----------------------------------------------\n",
        "# gather data for 500 positive movie reviews\n",
        "# -----------------------------------------------\n",
        "\n",
        "dir_name = '/content/gdrive/My Drive/MSDS-422-Gift/module_8/movie-reviews-positive'\n",
        "filenames = [i for i in os.listdir(dir_name)]\n",
        "num_files = len(filenames)\n",
        "\n",
        "for i in range(len(filenames)):\n",
        "    file_exists = os.path.isfile(os.path.join(dir_name, filenames[i]))\n",
        "    assert file_exists\n",
        "print('\\n%d positive reviews found' % len(filenames))\n",
        "\n",
        "positive_documents = []\n",
        "\n",
        "for i in range(num_files):\n",
        "    words = read_data(os.path.join(dir_name, filenames[i]))\n",
        "    positive_documents.append(words)\n",
        "print('positive reviews loaded')\n",
        "\n",
        "max_review_length = 0\n",
        "min_review_length = 9999999\n",
        "for doc in negative_documents:\n",
        "    max_review_length = max(max_review_length, len(doc))\n",
        "    min_review_length = min(min_review_length, len(doc))\n",
        "for doc in positive_documents:\n",
        "    max_review_length = max(max_review_length, len(doc))\n",
        "    min_review_length = min(min_review_length, len(doc))\n",
        "print('\\nmax_review_length:', max_review_length)\n",
        "print('min_review_length:', min_review_length)\n",
        "\n",
        "# Define the labels to be used 500 negative (0) and 500 positive (1)\n",
        "thumbs_down_up = np.concatenate((np.zeros((500), dtype = np.int32), np.ones((500), dtype = np.int32)), axis = 0)"
      ],
      "execution_count": 135,
      "outputs": [
        {
          "output_type": "stream",
          "text": [
            "500 negative reviews found\n",
            "negative reviews loaded\n",
            "\n",
            "500 positive reviews found\n",
            "positive reviews loaded\n",
            "\n",
            "max_review_length: 1052\n",
            "min_review_length: 22\n"
          ],
          "name": "stdout"
        }
      ]
    },
    {
      "cell_type": "markdown",
      "metadata": {
        "id": "q4MIBwVD0nxE",
        "colab_type": "text"
      },
      "source": [
        "Format embeddings for use in an RNN"
      ]
    },
    {
      "cell_type": "code",
      "metadata": {
        "id": "tUTtTfuV0n8y",
        "colab_type": "code",
        "colab": {}
      },
      "source": [
        "limited_word_to_index = defaultdict(default_factory, {k: v for k, v in word_to_index.items() if v < EVOCABSIZE})\n",
        "limited_index_to_embedding = index_to_embedding[0:EVOCABSIZE,:]\n",
        "limited_index_to_embedding = np.append(limited_index_to_embedding, index_to_embedding[index_to_embedding.shape[0] - 1, :].reshape(1,index_to_embedding.shape[1]), axis = 0)\n",
        "\n",
        "# construct list of 1000 lists with 40 words in each list\n",
        "from itertools import chain\n",
        "documents = []\n",
        "for doc in negative_documents:\n",
        "    doc_begin = doc[0:20]\n",
        "    doc_end = doc[len(doc) - 20: len(doc)]\n",
        "    documents.append(list(chain(*[doc_begin, doc_end])))    \n",
        "for doc in positive_documents:\n",
        "    doc_begin = doc[0:20]\n",
        "    doc_end = doc[len(doc) - 20: len(doc)]\n",
        "    documents.append(list(chain(*[doc_begin, doc_end])))    \n",
        "\n",
        "# create list of lists of lists for embeddings\n",
        "embeddings = []    \n",
        "for doc in documents:\n",
        "    embedding = []\n",
        "    for word in doc:\n",
        "       embedding.append(limited_index_to_embedding[limited_word_to_index[word]]) \n",
        "    embeddings.append(embedding)\n",
        "\n",
        "embeddings_array = np.array(embeddings)"
      ],
      "execution_count": 0,
      "outputs": []
    },
    {
      "cell_type": "markdown",
      "metadata": {
        "id": "29vjp9uB1Fyv",
        "colab_type": "text"
      },
      "source": [
        "Define test/train datasets for validation in RNN"
      ]
    },
    {
      "cell_type": "code",
      "metadata": {
        "id": "aKodd41F1F75",
        "colab_type": "code",
        "colab": {}
      },
      "source": [
        "X_train, X_test, y_train, y_test = train_test_split(embeddings_array, thumbs_down_up, test_size=0.20, random_state = RANDOM_SEED)\n",
        "reset_graph()"
      ],
      "execution_count": 0,
      "outputs": []
    },
    {
      "cell_type": "markdown",
      "metadata": {
        "id": "7h4gzsgBkSOK",
        "colab_type": "text"
      },
      "source": [
        "### Model Definition and Training"
      ]
    },
    {
      "cell_type": "markdown",
      "metadata": {
        "id": "i42fY_5U3f10",
        "colab_type": "text"
      },
      "source": [
        "Run an initial RNN using the Jumpstart RNN TF Raw code"
      ]
    },
    {
      "cell_type": "code",
      "metadata": {
        "id": "Yo5t2PYBmftB",
        "colab_type": "code",
        "outputId": "a359ff59-54a7-4cac-cb2c-662b30c707cc",
        "colab": {
          "base_uri": "https://localhost:8080/",
          "height": 935
        }
      },
      "source": [
        "n_steps = embeddings_array.shape[1]  # number of words per document \n",
        "n_inputs = embeddings_array.shape[2]  # dimension of  pre-trained embeddings\n",
        "n_neurons = 20  # analyst specified number of neurons\n",
        "n_outputs = 2  # thumbs-down or thumbs-up\n",
        "\n",
        "learning_rate = 0.001\n",
        "\n",
        "X = tf.placeholder(tf.float32, [None, n_steps, n_inputs])\n",
        "y = tf.placeholder(tf.int32, [None])\n",
        "\n",
        "basic_cell = tf.contrib.rnn.BasicRNNCell(num_units=n_neurons)\n",
        "outputs, states = tf.nn.dynamic_rnn(basic_cell, X, dtype=tf.float32)\n",
        "\n",
        "logits = tf.layers.dense(states, n_outputs)\n",
        "xentropy = tf.nn.sparse_softmax_cross_entropy_with_logits(labels=y, logits=logits)\n",
        "loss = tf.reduce_mean(xentropy)\n",
        "optimizer = tf.train.AdamOptimizer(learning_rate=learning_rate)\n",
        "training_op = optimizer.minimize(loss)\n",
        "correct = tf.nn.in_top_k(logits, y, 1)\n",
        "accuracy = tf.reduce_mean(tf.cast(correct, tf.float32))\n",
        "\n",
        "init = tf.global_variables_initializer()\n",
        "\n",
        "n_epochs = 50\n",
        "batch_size = 100\n",
        "\n",
        "model_results={}\n",
        "\n",
        "with tf.Session() as sess:\n",
        "    init.run()\n",
        "    for epoch in range(n_epochs):\n",
        "        for iteration in range(y_train.shape[0] // batch_size):          \n",
        "            X_batch = X_train[iteration*batch_size:(iteration + 1)*batch_size,:]\n",
        "            y_batch = y_train[iteration*batch_size:(iteration + 1)*batch_size]\n",
        "            sess.run(training_op, feed_dict={X: X_batch, y: y_batch})\n",
        "        acc_train = accuracy.eval(feed_dict={X: X_batch, y: y_batch})\n",
        "        acc_test = accuracy.eval(feed_dict={X: X_test, y: y_test})\n",
        "        print('Epoch',epoch,'Train accuracy:', acc_train, 'Test accuracy:', acc_test)\n",
        "        model_results[epoch]= {'Train_Acc':acc_train, 'Test_Acc':acc_test}"
      ],
      "execution_count": 158,
      "outputs": [
        {
          "output_type": "stream",
          "text": [
            "Epoch 0 Train accuracy: 0.57 Test accuracy: 0.465\n",
            "Epoch 1 Train accuracy: 0.58 Test accuracy: 0.46\n",
            "Epoch 2 Train accuracy: 0.61 Test accuracy: 0.47\n",
            "Epoch 3 Train accuracy: 0.59 Test accuracy: 0.46\n",
            "Epoch 4 Train accuracy: 0.65 Test accuracy: 0.44\n",
            "Epoch 5 Train accuracy: 0.62 Test accuracy: 0.46\n",
            "Epoch 6 Train accuracy: 0.62 Test accuracy: 0.47\n",
            "Epoch 7 Train accuracy: 0.59 Test accuracy: 0.465\n",
            "Epoch 8 Train accuracy: 0.58 Test accuracy: 0.47\n",
            "Epoch 9 Train accuracy: 0.59 Test accuracy: 0.485\n",
            "Epoch 10 Train accuracy: 0.61 Test accuracy: 0.48\n",
            "Epoch 11 Train accuracy: 0.61 Test accuracy: 0.48\n",
            "Epoch 12 Train accuracy: 0.65 Test accuracy: 0.485\n",
            "Epoch 13 Train accuracy: 0.64 Test accuracy: 0.5\n",
            "Epoch 14 Train accuracy: 0.66 Test accuracy: 0.485\n",
            "Epoch 15 Train accuracy: 0.65 Test accuracy: 0.485\n",
            "Epoch 16 Train accuracy: 0.66 Test accuracy: 0.48\n",
            "Epoch 17 Train accuracy: 0.67 Test accuracy: 0.495\n",
            "Epoch 18 Train accuracy: 0.68 Test accuracy: 0.5\n",
            "Epoch 19 Train accuracy: 0.66 Test accuracy: 0.5\n",
            "Epoch 20 Train accuracy: 0.66 Test accuracy: 0.505\n",
            "Epoch 21 Train accuracy: 0.66 Test accuracy: 0.515\n",
            "Epoch 22 Train accuracy: 0.69 Test accuracy: 0.525\n",
            "Epoch 23 Train accuracy: 0.7 Test accuracy: 0.525\n",
            "Epoch 24 Train accuracy: 0.71 Test accuracy: 0.535\n",
            "Epoch 25 Train accuracy: 0.71 Test accuracy: 0.55\n",
            "Epoch 26 Train accuracy: 0.72 Test accuracy: 0.555\n",
            "Epoch 27 Train accuracy: 0.72 Test accuracy: 0.55\n",
            "Epoch 28 Train accuracy: 0.74 Test accuracy: 0.565\n",
            "Epoch 29 Train accuracy: 0.75 Test accuracy: 0.57\n",
            "Epoch 30 Train accuracy: 0.74 Test accuracy: 0.585\n",
            "Epoch 31 Train accuracy: 0.74 Test accuracy: 0.595\n",
            "Epoch 32 Train accuracy: 0.72 Test accuracy: 0.595\n",
            "Epoch 33 Train accuracy: 0.7 Test accuracy: 0.62\n",
            "Epoch 34 Train accuracy: 0.74 Test accuracy: 0.645\n",
            "Epoch 35 Train accuracy: 0.75 Test accuracy: 0.635\n",
            "Epoch 36 Train accuracy: 0.75 Test accuracy: 0.62\n",
            "Epoch 37 Train accuracy: 0.76 Test accuracy: 0.64\n",
            "Epoch 38 Train accuracy: 0.77 Test accuracy: 0.685\n",
            "Epoch 39 Train accuracy: 0.76 Test accuracy: 0.695\n",
            "Epoch 40 Train accuracy: 0.79 Test accuracy: 0.695\n",
            "Epoch 41 Train accuracy: 0.78 Test accuracy: 0.66\n",
            "Epoch 42 Train accuracy: 0.78 Test accuracy: 0.665\n",
            "Epoch 43 Train accuracy: 0.8 Test accuracy: 0.69\n",
            "Epoch 44 Train accuracy: 0.8 Test accuracy: 0.695\n",
            "Epoch 45 Train accuracy: 0.81 Test accuracy: 0.69\n",
            "Epoch 46 Train accuracy: 0.81 Test accuracy: 0.695\n",
            "Epoch 47 Train accuracy: 0.81 Test accuracy: 0.695\n",
            "Epoch 48 Train accuracy: 0.81 Test accuracy: 0.7\n",
            "Epoch 49 Train accuracy: 0.81 Test accuracy: 0.705\n"
          ],
          "name": "stdout"
        }
      ]
    },
    {
      "cell_type": "markdown",
      "metadata": {
        "id": "c7n3dtYKmRSJ",
        "colab_type": "text"
      },
      "source": [
        "### Model Results"
      ]
    },
    {
      "cell_type": "code",
      "metadata": {
        "id": "rWj6y9YoDoA6",
        "colab_type": "code",
        "outputId": "137c8ca7-3902-4060-97c6-049a9117c4e4",
        "colab": {
          "base_uri": "https://localhost:8080/",
          "height": 320
        }
      },
      "source": [
        "model_results_df = pd.DataFrame.from_dict(model_results)\n",
        "model_results_df.plot(kind='bar', legend=False)\n",
        "plt.title('Accuracy')\n",
        "\n",
        "plt.show()"
      ],
      "execution_count": 159,
      "outputs": [
        {
          "output_type": "display_data",
          "data": {
            "image/png": "[encoded data removed]",
            "text/plain": [
              "<Figure size 432x288 with 1 Axes>"
            ]
          },
          "metadata": {
            "tags": []
          }
        }
      ]
    },
    {
      "cell_type": "code",
      "metadata": {
        "id": "BS3Nhuhy-HMP",
        "colab_type": "code",
        "outputId": "4f14a92c-d8f6-48b9-e8ad-503c84f16600",
        "colab": {
          "base_uri": "https://localhost:8080/",
          "height": 112
        }
      },
      "source": [
        "results_df = pd.DataFrame({'TestName': '50d Dataset Tensorflow',\n",
        "   'VocabluarySize': [EVOCABSIZE],\n",
        "   'Dimensions': [n_epochs],\n",
        "   'Neurons': [n_neurons],\n",
        "   'LearningRate': [learning_rate],\n",
        "   'TrainingSetAccuracy': [acc_train],\n",
        "   'TestSetAccuracy': [acc_test]})\n",
        "results_df.set_index('TestName', inplace=True)\n",
        "results_df"
      ],
      "execution_count": 161,
      "outputs": [
        {
          "output_type": "execute_result",
          "data": {
            "text/html": [
              "<div>\n",
              "<style scoped>\n",
              "    .dataframe tbody tr th:only-of-type {\n",
              "        vertical-align: middle;\n",
              "    }\n",
              "\n",
              "    .dataframe tbody tr th {\n",
              "        vertical-align: top;\n",
              "    }\n",
              "\n",
              "    .dataframe thead th {\n",
              "        text-align: right;\n",
              "    }\n",
              "</style>\n",
              "<table border=\"1\" class=\"dataframe\">\n",
              "  <thead>\n",
              "    <tr style=\"text-align: right;\">\n",
              "      <th></th>\n",
              "      <th>VocabluarySize</th>\n",
              "      <th>Dimensions</th>\n",
              "      <th>Neurons</th>\n",
              "      <th>LearningRate</th>\n",
              "      <th>TrainingSetAccuracy</th>\n",
              "      <th>TestSetAccuracy</th>\n",
              "    </tr>\n",
              "    <tr>\n",
              "      <th>TestName</th>\n",
              "      <th></th>\n",
              "      <th></th>\n",
              "      <th></th>\n",
              "      <th></th>\n",
              "      <th></th>\n",
              "      <th></th>\n",
              "    </tr>\n",
              "  </thead>\n",
              "  <tbody>\n",
              "    <tr>\n",
              "      <th>50d Dataset Tensorflow</th>\n",
              "      <td>10000</td>\n",
              "      <td>50</td>\n",
              "      <td>20</td>\n",
              "      <td>0.001</td>\n",
              "      <td>0.81</td>\n",
              "      <td>0.705</td>\n",
              "    </tr>\n",
              "  </tbody>\n",
              "</table>\n",
              "</div>"
            ],
            "text/plain": [
              "                        VocabluarySize  ...  TestSetAccuracy\n",
              "TestName                                ...                 \n",
              "50d Dataset Tensorflow           10000  ...            0.705\n",
              "\n",
              "[1 rows x 6 columns]"
            ]
          },
          "metadata": {
            "tags": []
          },
          "execution_count": 161
        }
      ]
    },
    {
      "cell_type": "markdown",
      "metadata": {
        "colab_type": "text",
        "id": "jSu4fXOpAWzX"
      },
      "source": [
        ""
      ]
    },
    {
      "cell_type": "markdown",
      "metadata": {
        "colab_type": "text",
        "id": "IIzu6yIPO4F6"
      },
      "source": [
        "# Second Tensorflow Model Training with Jumpstart and 100d Dataset"
      ]
    },
    {
      "cell_type": "markdown",
      "metadata": {
        "colab_type": "text",
        "id": "I_9dwSxFO4F4"
      },
      "source": [
        "Update Vocab size to be larger"
      ]
    },
    {
      "cell_type": "code",
      "metadata": {
        "colab_type": "code",
        "id": "QSioYq26O4F0",
        "colab": {}
      },
      "source": [
        "EVOCABSIZE = 400000  # specify desired size of pre-defined embedding vocabulary "
      ],
      "execution_count": 0,
      "outputs": []
    },
    {
      "cell_type": "markdown",
      "metadata": {
        "colab_type": "text",
        "id": "MrIszTvFO4Fy"
      },
      "source": [
        "### Setup processing for 100d Dataset"
      ]
    },
    {
      "cell_type": "markdown",
      "metadata": {
        "colab_type": "text",
        "id": "4aza7dTuO4Fx"
      },
      "source": [
        "Load 100d embedding"
      ]
    },
    {
      "cell_type": "code",
      "metadata": {
        "colab_type": "code",
        "outputId": "2b186ffe-d4a9-48c8-a190-2b84b697df65",
        "id": "IfZIR0ErO4Fq",
        "colab": {
          "base_uri": "https://localhost:8080/",
          "height": 72
        }
      },
      "source": [
        "embeddings_directory = '/content/gdrive/My Drive/MSDS-422-Gift/module_8/embeddings'\n",
        "filename = 'glove.6B.100d.txt'\n",
        "embeddings_filename = os.path.join(embeddings_directory, filename)\n",
        "\n",
        "print('\\nLoading embeddings from', embeddings_filename)\n",
        "word_to_index, index_to_embedding = load_embedding_from_disks(embeddings_filename, with_indexes=True)\n",
        "print(\"Embedding loaded from disks.\")"
      ],
      "execution_count": 163,
      "outputs": [
        {
          "output_type": "stream",
          "text": [
            "\n",
            "Loading embeddings from /content/gdrive/My Drive/MSDS-422-Gift/module_8/embeddings/glove.6B.100d.txt\n",
            "Embedding loaded from disks.\n"
          ],
          "name": "stdout"
        }
      ]
    },
    {
      "cell_type": "markdown",
      "metadata": {
        "colab_type": "text",
        "id": "r8Tak7pyO4Fp"
      },
      "source": [
        "Process embedding"
      ]
    },
    {
      "cell_type": "code",
      "metadata": {
        "colab_type": "code",
        "outputId": "67b2e8c0-4d8b-4bd5-b897-72990953e02c",
        "id": "psUE6IOCO4Fd",
        "colab": {
          "base_uri": "https://localhost:8080/",
          "height": 35
        }
      },
      "source": [
        "limited_word_to_index = defaultdict(default_factory, {k: v for k, v in word_to_index.items() if v < EVOCABSIZE})\n",
        "limited_index_to_embedding = index_to_embedding[0:EVOCABSIZE,:]\n",
        "limited_index_to_embedding = np.append(limited_index_to_embedding, index_to_embedding[index_to_embedding.shape[0] - 1, :].reshape(1,index_to_embedding.shape[1]), axis = 0)\n",
        "\n",
        "# construct list of 1000 lists with 40 words in each list\n",
        "from itertools import chain\n",
        "documents = []\n",
        "for doc in negative_documents:\n",
        "    doc_begin = doc[0:20]\n",
        "    doc_end = doc[len(doc) - 20: len(doc)]\n",
        "    documents.append(list(chain(*[doc_begin, doc_end])))    \n",
        "for doc in positive_documents:\n",
        "    doc_begin = doc[0:20]\n",
        "    doc_end = doc[len(doc) - 20: len(doc)]\n",
        "    documents.append(list(chain(*[doc_begin, doc_end])))    \n",
        "\n",
        "# create list of lists of lists for embeddings\n",
        "embeddings = []    \n",
        "for doc in documents:\n",
        "    embedding = []\n",
        "    for word in doc:\n",
        "       embedding.append(limited_index_to_embedding[limited_word_to_index[word]]) \n",
        "    embeddings.append(embedding)\n",
        "\n",
        "embeddings_array = np.array(embeddings)\n",
        "embeddings_array.shape"
      ],
      "execution_count": 164,
      "outputs": [
        {
          "output_type": "execute_result",
          "data": {
            "text/plain": [
              "(1000, 40, 100)"
            ]
          },
          "metadata": {
            "tags": []
          },
          "execution_count": 164
        }
      ]
    },
    {
      "cell_type": "markdown",
      "metadata": {
        "colab_type": "text",
        "id": "1r5eWB-hO4Fd"
      },
      "source": [
        "Define test/train datasets for validation in RNN"
      ]
    },
    {
      "cell_type": "code",
      "metadata": {
        "colab_type": "code",
        "id": "GFf20r0-O4FY",
        "colab": {}
      },
      "source": [
        "X_train, X_test, y_train, y_test = train_test_split(embeddings_array, thumbs_down_up, test_size=0.20, random_state = RANDOM_SEED)\n",
        "reset_graph()"
      ],
      "execution_count": 0,
      "outputs": []
    },
    {
      "cell_type": "markdown",
      "metadata": {
        "colab_type": "text",
        "id": "iuZntrKPO4FW"
      },
      "source": [
        "### Model Definition and Training"
      ]
    },
    {
      "cell_type": "code",
      "metadata": {
        "colab_type": "code",
        "outputId": "021de93a-7452-4f93-a737-b46bd2ef5e24",
        "id": "7cDc4JNmO4FP",
        "colab": {
          "base_uri": "https://localhost:8080/",
          "height": 2772
        }
      },
      "source": [
        "n_steps = embeddings_array.shape[1]  # number of words per document \n",
        "n_inputs = embeddings_array.shape[2]  # dimension of  pre-trained embeddings\n",
        "n_neurons = 20  # analyst specified number of neurons\n",
        "n_outputs = 2  # thumbs-down or thumbs-up\n",
        "\n",
        "learning_rate = 0.001\n",
        "\n",
        "X = tf.placeholder(tf.float32, [None, n_steps, n_inputs])\n",
        "y = tf.placeholder(tf.int32, [None])\n",
        "\n",
        "basic_cell = tf.contrib.rnn.BasicRNNCell(num_units=n_neurons)\n",
        "outputs, states = tf.nn.dynamic_rnn(basic_cell, X, dtype=tf.float32)\n",
        "\n",
        "logits = tf.layers.dense(states, n_outputs)\n",
        "xentropy = tf.nn.sparse_softmax_cross_entropy_with_logits(labels=y, logits=logits)\n",
        "loss = tf.reduce_mean(xentropy)\n",
        "optimizer = tf.train.AdamOptimizer(learning_rate=learning_rate)\n",
        "training_op = optimizer.minimize(loss)\n",
        "correct = tf.nn.in_top_k(logits, y, 1)\n",
        "accuracy = tf.reduce_mean(tf.cast(correct, tf.float32))\n",
        "\n",
        "init = tf.global_variables_initializer()\n",
        "\n",
        "n_epochs = 150\n",
        "batch_size = 100\n",
        "\n",
        "model_results={}\n",
        "\n",
        "with tf.Session() as sess:\n",
        "    init.run()\n",
        "    for epoch in range(n_epochs):\n",
        "        for iteration in range(y_train.shape[0] // batch_size):          \n",
        "            X_batch = X_train[iteration*batch_size:(iteration + 1)*batch_size,:]\n",
        "            y_batch = y_train[iteration*batch_size:(iteration + 1)*batch_size]\n",
        "            sess.run(training_op, feed_dict={X: X_batch, y: y_batch})\n",
        "        acc_train = accuracy.eval(feed_dict={X: X_batch, y: y_batch})\n",
        "        acc_test = accuracy.eval(feed_dict={X: X_test, y: y_test})\n",
        "        print('Epoch',epoch,'Train accuracy:', acc_train, 'Test accuracy:', acc_test)\n",
        "        model_results[epoch]= {'Train_Acc':acc_train, 'Test_Acc':acc_test}"
      ],
      "execution_count": 166,
      "outputs": [
        {
          "output_type": "stream",
          "text": [
            "Epoch 0 Train accuracy: 0.53 Test accuracy: 0.485\n",
            "Epoch 1 Train accuracy: 0.53 Test accuracy: 0.48\n",
            "Epoch 2 Train accuracy: 0.59 Test accuracy: 0.45\n",
            "Epoch 3 Train accuracy: 0.58 Test accuracy: 0.545\n",
            "Epoch 4 Train accuracy: 0.62 Test accuracy: 0.53\n",
            "Epoch 5 Train accuracy: 0.67 Test accuracy: 0.495\n",
            "Epoch 6 Train accuracy: 0.67 Test accuracy: 0.485\n",
            "Epoch 7 Train accuracy: 0.7 Test accuracy: 0.485\n",
            "Epoch 8 Train accuracy: 0.69 Test accuracy: 0.485\n",
            "Epoch 9 Train accuracy: 0.7 Test accuracy: 0.5\n",
            "Epoch 10 Train accuracy: 0.71 Test accuracy: 0.505\n",
            "Epoch 11 Train accuracy: 0.72 Test accuracy: 0.54\n",
            "Epoch 12 Train accuracy: 0.75 Test accuracy: 0.545\n",
            "Epoch 13 Train accuracy: 0.76 Test accuracy: 0.54\n",
            "Epoch 14 Train accuracy: 0.78 Test accuracy: 0.545\n",
            "Epoch 15 Train accuracy: 0.78 Test accuracy: 0.56\n",
            "Epoch 16 Train accuracy: 0.78 Test accuracy: 0.565\n",
            "Epoch 17 Train accuracy: 0.78 Test accuracy: 0.585\n",
            "Epoch 18 Train accuracy: 0.78 Test accuracy: 0.59\n",
            "Epoch 19 Train accuracy: 0.8 Test accuracy: 0.59\n",
            "Epoch 20 Train accuracy: 0.8 Test accuracy: 0.6\n",
            "Epoch 21 Train accuracy: 0.81 Test accuracy: 0.605\n",
            "Epoch 22 Train accuracy: 0.83 Test accuracy: 0.605\n",
            "Epoch 23 Train accuracy: 0.84 Test accuracy: 0.625\n",
            "Epoch 24 Train accuracy: 0.85 Test accuracy: 0.63\n",
            "Epoch 25 Train accuracy: 0.85 Test accuracy: 0.63\n",
            "Epoch 26 Train accuracy: 0.87 Test accuracy: 0.645\n",
            "Epoch 27 Train accuracy: 0.88 Test accuracy: 0.655\n",
            "Epoch 28 Train accuracy: 0.9 Test accuracy: 0.65\n",
            "Epoch 29 Train accuracy: 0.91 Test accuracy: 0.655\n",
            "Epoch 30 Train accuracy: 0.91 Test accuracy: 0.655\n",
            "Epoch 31 Train accuracy: 0.92 Test accuracy: 0.665\n",
            "Epoch 32 Train accuracy: 0.92 Test accuracy: 0.67\n",
            "Epoch 33 Train accuracy: 0.93 Test accuracy: 0.67\n",
            "Epoch 34 Train accuracy: 0.93 Test accuracy: 0.67\n",
            "Epoch 35 Train accuracy: 0.93 Test accuracy: 0.665\n",
            "Epoch 36 Train accuracy: 0.93 Test accuracy: 0.665\n",
            "Epoch 37 Train accuracy: 0.94 Test accuracy: 0.66\n",
            "Epoch 38 Train accuracy: 0.93 Test accuracy: 0.66\n",
            "Epoch 39 Train accuracy: 0.93 Test accuracy: 0.655\n",
            "Epoch 40 Train accuracy: 0.93 Test accuracy: 0.675\n",
            "Epoch 41 Train accuracy: 0.93 Test accuracy: 0.67\n",
            "Epoch 42 Train accuracy: 0.92 Test accuracy: 0.67\n",
            "Epoch 43 Train accuracy: 0.92 Test accuracy: 0.675\n",
            "Epoch 44 Train accuracy: 0.94 Test accuracy: 0.675\n",
            "Epoch 45 Train accuracy: 0.94 Test accuracy: 0.68\n",
            "Epoch 46 Train accuracy: 0.94 Test accuracy: 0.675\n",
            "Epoch 47 Train accuracy: 0.95 Test accuracy: 0.675\n",
            "Epoch 48 Train accuracy: 0.95 Test accuracy: 0.685\n",
            "Epoch 49 Train accuracy: 0.95 Test accuracy: 0.685\n",
            "Epoch 50 Train accuracy: 0.96 Test accuracy: 0.69\n",
            "Epoch 51 Train accuracy: 0.96 Test accuracy: 0.69\n",
            "Epoch 52 Train accuracy: 0.96 Test accuracy: 0.69\n",
            "Epoch 53 Train accuracy: 0.97 Test accuracy: 0.69\n",
            "Epoch 54 Train accuracy: 0.95 Test accuracy: 0.705\n",
            "Epoch 55 Train accuracy: 0.96 Test accuracy: 0.705\n",
            "Epoch 56 Train accuracy: 0.95 Test accuracy: 0.69\n",
            "Epoch 57 Train accuracy: 0.95 Test accuracy: 0.665\n",
            "Epoch 58 Train accuracy: 0.95 Test accuracy: 0.645\n",
            "Epoch 59 Train accuracy: 0.97 Test accuracy: 0.65\n",
            "Epoch 60 Train accuracy: 0.98 Test accuracy: 0.655\n",
            "Epoch 61 Train accuracy: 0.98 Test accuracy: 0.66\n",
            "Epoch 62 Train accuracy: 0.96 Test accuracy: 0.65\n",
            "Epoch 63 Train accuracy: 0.98 Test accuracy: 0.65\n",
            "Epoch 64 Train accuracy: 0.98 Test accuracy: 0.67\n",
            "Epoch 65 Train accuracy: 0.99 Test accuracy: 0.68\n",
            "Epoch 66 Train accuracy: 0.99 Test accuracy: 0.675\n",
            "Epoch 67 Train accuracy: 0.98 Test accuracy: 0.665\n",
            "Epoch 68 Train accuracy: 0.98 Test accuracy: 0.66\n",
            "Epoch 69 Train accuracy: 0.98 Test accuracy: 0.665\n",
            "Epoch 70 Train accuracy: 0.98 Test accuracy: 0.675\n",
            "Epoch 71 Train accuracy: 0.98 Test accuracy: 0.67\n",
            "Epoch 72 Train accuracy: 0.98 Test accuracy: 0.675\n",
            "Epoch 73 Train accuracy: 0.99 Test accuracy: 0.67\n",
            "Epoch 74 Train accuracy: 0.99 Test accuracy: 0.675\n",
            "Epoch 75 Train accuracy: 0.98 Test accuracy: 0.675\n",
            "Epoch 76 Train accuracy: 0.99 Test accuracy: 0.665\n",
            "Epoch 77 Train accuracy: 0.98 Test accuracy: 0.67\n",
            "Epoch 78 Train accuracy: 0.98 Test accuracy: 0.675\n",
            "Epoch 79 Train accuracy: 0.99 Test accuracy: 0.665\n",
            "Epoch 80 Train accuracy: 0.99 Test accuracy: 0.67\n",
            "Epoch 81 Train accuracy: 0.99 Test accuracy: 0.67\n",
            "Epoch 82 Train accuracy: 0.99 Test accuracy: 0.675\n",
            "Epoch 83 Train accuracy: 0.99 Test accuracy: 0.66\n",
            "Epoch 84 Train accuracy: 0.99 Test accuracy: 0.67\n",
            "Epoch 85 Train accuracy: 0.99 Test accuracy: 0.665\n",
            "Epoch 86 Train accuracy: 0.99 Test accuracy: 0.675\n",
            "Epoch 87 Train accuracy: 0.99 Test accuracy: 0.665\n",
            "Epoch 88 Train accuracy: 0.99 Test accuracy: 0.67\n",
            "Epoch 89 Train accuracy: 0.99 Test accuracy: 0.68\n",
            "Epoch 90 Train accuracy: 0.99 Test accuracy: 0.675\n",
            "Epoch 91 Train accuracy: 1.0 Test accuracy: 0.675\n",
            "Epoch 92 Train accuracy: 1.0 Test accuracy: 0.675\n",
            "Epoch 93 Train accuracy: 1.0 Test accuracy: 0.67\n",
            "Epoch 94 Train accuracy: 0.97 Test accuracy: 0.65\n",
            "Epoch 95 Train accuracy: 0.99 Test accuracy: 0.66\n",
            "Epoch 96 Train accuracy: 0.99 Test accuracy: 0.67\n",
            "Epoch 97 Train accuracy: 0.99 Test accuracy: 0.665\n",
            "Epoch 98 Train accuracy: 1.0 Test accuracy: 0.67\n",
            "Epoch 99 Train accuracy: 0.99 Test accuracy: 0.655\n",
            "Epoch 100 Train accuracy: 1.0 Test accuracy: 0.665\n",
            "Epoch 101 Train accuracy: 1.0 Test accuracy: 0.685\n",
            "Epoch 102 Train accuracy: 1.0 Test accuracy: 0.685\n",
            "Epoch 103 Train accuracy: 1.0 Test accuracy: 0.685\n",
            "Epoch 104 Train accuracy: 1.0 Test accuracy: 0.675\n",
            "Epoch 105 Train accuracy: 1.0 Test accuracy: 0.67\n",
            "Epoch 106 Train accuracy: 1.0 Test accuracy: 0.675\n",
            "Epoch 107 Train accuracy: 1.0 Test accuracy: 0.675\n",
            "Epoch 108 Train accuracy: 1.0 Test accuracy: 0.68\n",
            "Epoch 109 Train accuracy: 1.0 Test accuracy: 0.68\n",
            "Epoch 110 Train accuracy: 1.0 Test accuracy: 0.68\n",
            "Epoch 111 Train accuracy: 1.0 Test accuracy: 0.685\n",
            "Epoch 112 Train accuracy: 1.0 Test accuracy: 0.68\n",
            "Epoch 113 Train accuracy: 1.0 Test accuracy: 0.685\n",
            "Epoch 114 Train accuracy: 1.0 Test accuracy: 0.685\n",
            "Epoch 115 Train accuracy: 1.0 Test accuracy: 0.685\n",
            "Epoch 116 Train accuracy: 1.0 Test accuracy: 0.685\n",
            "Epoch 117 Train accuracy: 1.0 Test accuracy: 0.685\n",
            "Epoch 118 Train accuracy: 1.0 Test accuracy: 0.685\n",
            "Epoch 119 Train accuracy: 1.0 Test accuracy: 0.68\n",
            "Epoch 120 Train accuracy: 1.0 Test accuracy: 0.68\n",
            "Epoch 121 Train accuracy: 1.0 Test accuracy: 0.68\n",
            "Epoch 122 Train accuracy: 1.0 Test accuracy: 0.68\n",
            "Epoch 123 Train accuracy: 1.0 Test accuracy: 0.685\n",
            "Epoch 124 Train accuracy: 1.0 Test accuracy: 0.69\n",
            "Epoch 125 Train accuracy: 1.0 Test accuracy: 0.695\n",
            "Epoch 126 Train accuracy: 1.0 Test accuracy: 0.695\n",
            "Epoch 127 Train accuracy: 1.0 Test accuracy: 0.695\n",
            "Epoch 128 Train accuracy: 1.0 Test accuracy: 0.695\n",
            "Epoch 129 Train accuracy: 1.0 Test accuracy: 0.695\n",
            "Epoch 130 Train accuracy: 1.0 Test accuracy: 0.695\n",
            "Epoch 131 Train accuracy: 1.0 Test accuracy: 0.7\n",
            "Epoch 132 Train accuracy: 1.0 Test accuracy: 0.705\n",
            "Epoch 133 Train accuracy: 1.0 Test accuracy: 0.705\n",
            "Epoch 134 Train accuracy: 1.0 Test accuracy: 0.705\n",
            "Epoch 135 Train accuracy: 1.0 Test accuracy: 0.705\n",
            "Epoch 136 Train accuracy: 1.0 Test accuracy: 0.705\n",
            "Epoch 137 Train accuracy: 1.0 Test accuracy: 0.705\n",
            "Epoch 138 Train accuracy: 1.0 Test accuracy: 0.705\n",
            "Epoch 139 Train accuracy: 1.0 Test accuracy: 0.705\n",
            "Epoch 140 Train accuracy: 1.0 Test accuracy: 0.705\n",
            "Epoch 141 Train accuracy: 1.0 Test accuracy: 0.71\n",
            "Epoch 142 Train accuracy: 1.0 Test accuracy: 0.71\n",
            "Epoch 143 Train accuracy: 1.0 Test accuracy: 0.71\n",
            "Epoch 144 Train accuracy: 1.0 Test accuracy: 0.71\n",
            "Epoch 145 Train accuracy: 1.0 Test accuracy: 0.71\n",
            "Epoch 146 Train accuracy: 1.0 Test accuracy: 0.71\n",
            "Epoch 147 Train accuracy: 1.0 Test accuracy: 0.71\n",
            "Epoch 148 Train accuracy: 1.0 Test accuracy: 0.71\n",
            "Epoch 149 Train accuracy: 1.0 Test accuracy: 0.71\n"
          ],
          "name": "stdout"
        }
      ]
    },
    {
      "cell_type": "markdown",
      "metadata": {
        "colab_type": "text",
        "id": "arDtzhO5O4FM"
      },
      "source": [
        "### Model Results"
      ]
    },
    {
      "cell_type": "code",
      "metadata": {
        "colab_type": "code",
        "outputId": "1fe83505-a1e8-4867-f792-e8071a9defa6",
        "id": "3ExsNY08O4FG",
        "colab": {
          "base_uri": "https://localhost:8080/",
          "height": 320
        }
      },
      "source": [
        "model_results_df = pd.DataFrame.from_dict(model_results)\n",
        "model_results_df.plot(kind='bar', legend=False)\n",
        "plt.title('Accuracy')\n",
        "\n",
        "plt.show()"
      ],
      "execution_count": 167,
      "outputs": [
        {
          "output_type": "display_data",
          "data": {
            "image/png": "[encoded data removed]",
            "text/plain": [
              "<Figure size 432x288 with 1 Axes>"
            ]
          },
          "metadata": {
            "tags": []
          }
        }
      ]
    },
    {
      "cell_type": "code",
      "metadata": {
        "colab_type": "code",
        "outputId": "bf83149f-23e4-495b-8e0b-de5d707ac96b",
        "id": "P7StjFz3O4E-",
        "colab": {
          "base_uri": "https://localhost:8080/",
          "height": 112
        }
      },
      "source": [
        "results_df2=(pd.DataFrame({'TestName': '100d Dataset Tensorflow',\n",
        "   'VocabluarySize': [EVOCABSIZE],\n",
        "   'Dimensions': [n_epochs],\n",
        "   'Neurons': [n_neurons],\n",
        "   'LearningRate': [learning_rate],\n",
        "   'TrainingSetAccuracy': [acc_train],\n",
        "   'TestSetAccuracy': [acc_test]}))\n",
        "results_df2.set_index('TestName', inplace=True)\n",
        "results_df2"
      ],
      "execution_count": 168,
      "outputs": [
        {
          "output_type": "execute_result",
          "data": {
            "text/html": [
              "<div>\n",
              "<style scoped>\n",
              "    .dataframe tbody tr th:only-of-type {\n",
              "        vertical-align: middle;\n",
              "    }\n",
              "\n",
              "    .dataframe tbody tr th {\n",
              "        vertical-align: top;\n",
              "    }\n",
              "\n",
              "    .dataframe thead th {\n",
              "        text-align: right;\n",
              "    }\n",
              "</style>\n",
              "<table border=\"1\" class=\"dataframe\">\n",
              "  <thead>\n",
              "    <tr style=\"text-align: right;\">\n",
              "      <th></th>\n",
              "      <th>VocabluarySize</th>\n",
              "      <th>Dimensions</th>\n",
              "      <th>Neurons</th>\n",
              "      <th>LearningRate</th>\n",
              "      <th>TrainingSetAccuracy</th>\n",
              "      <th>TestSetAccuracy</th>\n",
              "    </tr>\n",
              "    <tr>\n",
              "      <th>TestName</th>\n",
              "      <th></th>\n",
              "      <th></th>\n",
              "      <th></th>\n",
              "      <th></th>\n",
              "      <th></th>\n",
              "      <th></th>\n",
              "    </tr>\n",
              "  </thead>\n",
              "  <tbody>\n",
              "    <tr>\n",
              "      <th>100d Dataset Tensorflow</th>\n",
              "      <td>400000</td>\n",
              "      <td>150</td>\n",
              "      <td>20</td>\n",
              "      <td>0.001</td>\n",
              "      <td>1.0</td>\n",
              "      <td>0.71</td>\n",
              "    </tr>\n",
              "  </tbody>\n",
              "</table>\n",
              "</div>"
            ],
            "text/plain": [
              "                         VocabluarySize  ...  TestSetAccuracy\n",
              "TestName                                 ...                 \n",
              "100d Dataset Tensorflow          400000  ...             0.71\n",
              "\n",
              "[1 rows x 6 columns]"
            ]
          },
          "metadata": {
            "tags": []
          },
          "execution_count": 168
        }
      ]
    },
    {
      "cell_type": "markdown",
      "metadata": {
        "colab_type": "text",
        "id": "gd2CaKsmPrz7"
      },
      "source": [
        "# Third Tensorflow Model Training with Jumpstart and 100d Dataset"
      ]
    },
    {
      "cell_type": "markdown",
      "metadata": {
        "colab_type": "text",
        "id": "clty6EWbPrz-"
      },
      "source": [
        "Update Vocab size to be larger"
      ]
    },
    {
      "cell_type": "code",
      "metadata": {
        "colab_type": "code",
        "id": "5x3WboChPr0A",
        "colab": {}
      },
      "source": [
        "EVOCABSIZE = 400000  # specify desired size of pre-defined embedding vocabulary "
      ],
      "execution_count": 0,
      "outputs": []
    },
    {
      "cell_type": "markdown",
      "metadata": {
        "colab_type": "text",
        "id": "mLHFFYHFPr0I"
      },
      "source": [
        "### Setup processing for 100d Dataset"
      ]
    },
    {
      "cell_type": "markdown",
      "metadata": {
        "colab_type": "text",
        "id": "y1VN7pR1Pr0L"
      },
      "source": [
        "Load 100d embedding"
      ]
    },
    {
      "cell_type": "code",
      "metadata": {
        "colab_type": "code",
        "outputId": "d9ef9f12-d09a-4329-ad0e-bb7cfa736f95",
        "id": "g-_8kbsmPr0N",
        "colab": {
          "base_uri": "https://localhost:8080/",
          "height": 72
        }
      },
      "source": [
        "embeddings_directory = '/content/gdrive/My Drive/MSDS-422-Gift/module_8/embeddings'\n",
        "filename = 'glove.6B.100d.txt'\n",
        "embeddings_filename = os.path.join(embeddings_directory, filename)\n",
        "\n",
        "print('\\nLoading embeddings from', embeddings_filename)\n",
        "word_to_index, index_to_embedding = load_embedding_from_disks(embeddings_filename, with_indexes=True)\n",
        "print(\"Embedding loaded from disks.\")"
      ],
      "execution_count": 107,
      "outputs": [
        {
          "output_type": "stream",
          "text": [
            "\n",
            "Loading embeddings from /content/gdrive/My Drive/MSDS-422-Gift/module_8/embeddings/glove.6B.100d.txt\n",
            "Embedding loaded from disks.\n"
          ],
          "name": "stdout"
        }
      ]
    },
    {
      "cell_type": "markdown",
      "metadata": {
        "colab_type": "text",
        "id": "q3M7dhjCPr0Z"
      },
      "source": [
        "Process embedding"
      ]
    },
    {
      "cell_type": "code",
      "metadata": {
        "colab_type": "code",
        "outputId": "5b372224-3439-4092-b7cc-c2d55afa5af5",
        "id": "Wrbl886ZPr0a",
        "colab": {
          "base_uri": "https://localhost:8080/",
          "height": 35
        }
      },
      "source": [
        "limited_word_to_index = defaultdict(default_factory, {k: v for k, v in word_to_index.items() if v < EVOCABSIZE})\n",
        "limited_index_to_embedding = index_to_embedding[0:EVOCABSIZE,:]\n",
        "limited_index_to_embedding = np.append(limited_index_to_embedding, index_to_embedding[index_to_embedding.shape[0] - 1, :].reshape(1,index_to_embedding.shape[1]), axis = 0)\n",
        "\n",
        "# construct list of 1000 lists with 40 words in each list\n",
        "from itertools import chain\n",
        "documents = []\n",
        "for doc in negative_documents:\n",
        "    doc_begin = doc[0:20]\n",
        "    doc_end = doc[len(doc) - 20: len(doc)]\n",
        "    documents.append(list(chain(*[doc_begin, doc_end])))    \n",
        "for doc in positive_documents:\n",
        "    doc_begin = doc[0:20]\n",
        "    doc_end = doc[len(doc) - 20: len(doc)]\n",
        "    documents.append(list(chain(*[doc_begin, doc_end])))    \n",
        "\n",
        "# create list of lists of lists for embeddings\n",
        "embeddings = []    \n",
        "for doc in documents:\n",
        "    embedding = []\n",
        "    for word in doc:\n",
        "       embedding.append(limited_index_to_embedding[limited_word_to_index[word]]) \n",
        "    embeddings.append(embedding)\n",
        "\n",
        "embeddings_array = np.array(embeddings)\n",
        "embeddings_array.shape"
      ],
      "execution_count": 170,
      "outputs": [
        {
          "output_type": "execute_result",
          "data": {
            "text/plain": [
              "(1000, 40, 100)"
            ]
          },
          "metadata": {
            "tags": []
          },
          "execution_count": 170
        }
      ]
    },
    {
      "cell_type": "markdown",
      "metadata": {
        "colab_type": "text",
        "id": "eLHdQH_jPr0k"
      },
      "source": [
        "Define test/train datasets for validation in RNN"
      ]
    },
    {
      "cell_type": "code",
      "metadata": {
        "colab_type": "code",
        "id": "Pl2_5yAdPr0m",
        "colab": {}
      },
      "source": [
        "X_train, X_test, y_train, y_test = train_test_split(embeddings_array, thumbs_down_up, test_size=0.20, random_state = RANDOM_SEED)\n",
        "reset_graph()"
      ],
      "execution_count": 0,
      "outputs": []
    },
    {
      "cell_type": "markdown",
      "metadata": {
        "colab_type": "text",
        "id": "6paBTiDSPr0r"
      },
      "source": [
        "### Model Definition and Training"
      ]
    },
    {
      "cell_type": "code",
      "metadata": {
        "colab_type": "code",
        "outputId": "922b29f5-3842-40fa-c852-ad271e377f80",
        "id": "dnPP47yIPr0x",
        "colab": {
          "base_uri": "https://localhost:8080/",
          "height": 2772
        }
      },
      "source": [
        "n_steps = embeddings_array.shape[1]  # number of words per document \n",
        "n_inputs = embeddings_array.shape[2]  # dimension of  pre-trained embeddings\n",
        "n_neurons = 40  # analyst specified number of neurons\n",
        "n_outputs = 2  # thumbs-down or thumbs-up\n",
        "\n",
        "learning_rate = 0.01\n",
        "\n",
        "X = tf.placeholder(tf.float32, [None, n_steps, n_inputs])\n",
        "y = tf.placeholder(tf.int32, [None])\n",
        "\n",
        "basic_cell = tf.contrib.rnn.BasicRNNCell(num_units=n_neurons)\n",
        "outputs, states = tf.nn.dynamic_rnn(basic_cell, X, dtype=tf.float32)\n",
        "\n",
        "logits = tf.layers.dense(states, n_outputs)\n",
        "xentropy = tf.nn.sparse_softmax_cross_entropy_with_logits(labels=y, logits=logits)\n",
        "loss = tf.reduce_mean(xentropy)\n",
        "optimizer = tf.train.AdamOptimizer(learning_rate=learning_rate)\n",
        "training_op = optimizer.minimize(loss)\n",
        "correct = tf.nn.in_top_k(logits, y, 1)\n",
        "accuracy = tf.reduce_mean(tf.cast(correct, tf.float32))\n",
        "\n",
        "init = tf.global_variables_initializer()\n",
        "\n",
        "n_epochs = 150\n",
        "batch_size = 100\n",
        "\n",
        "model_results={}\n",
        "\n",
        "with tf.Session() as sess:\n",
        "    init.run()\n",
        "    for epoch in range(n_epochs):\n",
        "        for iteration in range(y_train.shape[0] // batch_size):          \n",
        "            X_batch = X_train[iteration*batch_size:(iteration + 1)*batch_size,:]\n",
        "            y_batch = y_train[iteration*batch_size:(iteration + 1)*batch_size]\n",
        "            sess.run(training_op, feed_dict={X: X_batch, y: y_batch})\n",
        "        acc_train = accuracy.eval(feed_dict={X: X_batch, y: y_batch})\n",
        "        acc_test = accuracy.eval(feed_dict={X: X_test, y: y_test})\n",
        "        print('Epoch',epoch,'Train accuracy:', acc_train, 'Test accuracy:', acc_test)\n",
        "        model_results[epoch]= {'Train_Acc':acc_train, 'Test_Acc':acc_test}"
      ],
      "execution_count": 172,
      "outputs": [
        {
          "output_type": "stream",
          "text": [
            "Epoch 0 Train accuracy: 0.67 Test accuracy: 0.54\n",
            "Epoch 1 Train accuracy: 0.75 Test accuracy: 0.55\n",
            "Epoch 2 Train accuracy: 0.76 Test accuracy: 0.59\n",
            "Epoch 3 Train accuracy: 0.85 Test accuracy: 0.57\n",
            "Epoch 4 Train accuracy: 0.86 Test accuracy: 0.615\n",
            "Epoch 5 Train accuracy: 0.94 Test accuracy: 0.585\n",
            "Epoch 6 Train accuracy: 0.97 Test accuracy: 0.6\n",
            "Epoch 7 Train accuracy: 0.98 Test accuracy: 0.585\n",
            "Epoch 8 Train accuracy: 0.96 Test accuracy: 0.51\n",
            "Epoch 9 Train accuracy: 0.85 Test accuracy: 0.48\n",
            "Epoch 10 Train accuracy: 0.94 Test accuracy: 0.52\n",
            "Epoch 11 Train accuracy: 0.94 Test accuracy: 0.51\n",
            "Epoch 12 Train accuracy: 0.98 Test accuracy: 0.52\n",
            "Epoch 13 Train accuracy: 1.0 Test accuracy: 0.52\n",
            "Epoch 14 Train accuracy: 1.0 Test accuracy: 0.475\n",
            "Epoch 15 Train accuracy: 1.0 Test accuracy: 0.48\n",
            "Epoch 16 Train accuracy: 1.0 Test accuracy: 0.49\n",
            "Epoch 17 Train accuracy: 1.0 Test accuracy: 0.485\n",
            "Epoch 18 Train accuracy: 1.0 Test accuracy: 0.48\n",
            "Epoch 19 Train accuracy: 1.0 Test accuracy: 0.475\n",
            "Epoch 20 Train accuracy: 1.0 Test accuracy: 0.485\n",
            "Epoch 21 Train accuracy: 1.0 Test accuracy: 0.48\n",
            "Epoch 22 Train accuracy: 1.0 Test accuracy: 0.48\n",
            "Epoch 23 Train accuracy: 1.0 Test accuracy: 0.48\n",
            "Epoch 24 Train accuracy: 1.0 Test accuracy: 0.48\n",
            "Epoch 25 Train accuracy: 1.0 Test accuracy: 0.485\n",
            "Epoch 26 Train accuracy: 1.0 Test accuracy: 0.49\n",
            "Epoch 27 Train accuracy: 1.0 Test accuracy: 0.495\n",
            "Epoch 28 Train accuracy: 1.0 Test accuracy: 0.495\n",
            "Epoch 29 Train accuracy: 1.0 Test accuracy: 0.5\n",
            "Epoch 30 Train accuracy: 1.0 Test accuracy: 0.5\n",
            "Epoch 31 Train accuracy: 1.0 Test accuracy: 0.5\n",
            "Epoch 32 Train accuracy: 1.0 Test accuracy: 0.5\n",
            "Epoch 33 Train accuracy: 1.0 Test accuracy: 0.5\n",
            "Epoch 34 Train accuracy: 1.0 Test accuracy: 0.5\n",
            "Epoch 35 Train accuracy: 1.0 Test accuracy: 0.5\n",
            "Epoch 36 Train accuracy: 1.0 Test accuracy: 0.495\n",
            "Epoch 37 Train accuracy: 1.0 Test accuracy: 0.495\n",
            "Epoch 38 Train accuracy: 1.0 Test accuracy: 0.495\n",
            "Epoch 39 Train accuracy: 1.0 Test accuracy: 0.495\n",
            "Epoch 40 Train accuracy: 1.0 Test accuracy: 0.495\n",
            "Epoch 41 Train accuracy: 1.0 Test accuracy: 0.495\n",
            "Epoch 42 Train accuracy: 1.0 Test accuracy: 0.495\n",
            "Epoch 43 Train accuracy: 1.0 Test accuracy: 0.495\n",
            "Epoch 44 Train accuracy: 1.0 Test accuracy: 0.495\n",
            "Epoch 45 Train accuracy: 1.0 Test accuracy: 0.495\n",
            "Epoch 46 Train accuracy: 1.0 Test accuracy: 0.495\n",
            "Epoch 47 Train accuracy: 1.0 Test accuracy: 0.495\n",
            "Epoch 48 Train accuracy: 1.0 Test accuracy: 0.495\n",
            "Epoch 49 Train accuracy: 1.0 Test accuracy: 0.495\n",
            "Epoch 50 Train accuracy: 1.0 Test accuracy: 0.495\n",
            "Epoch 51 Train accuracy: 1.0 Test accuracy: 0.495\n",
            "Epoch 52 Train accuracy: 1.0 Test accuracy: 0.495\n",
            "Epoch 53 Train accuracy: 1.0 Test accuracy: 0.495\n",
            "Epoch 54 Train accuracy: 1.0 Test accuracy: 0.495\n",
            "Epoch 55 Train accuracy: 1.0 Test accuracy: 0.49\n",
            "Epoch 56 Train accuracy: 1.0 Test accuracy: 0.49\n",
            "Epoch 57 Train accuracy: 1.0 Test accuracy: 0.49\n",
            "Epoch 58 Train accuracy: 1.0 Test accuracy: 0.49\n",
            "Epoch 59 Train accuracy: 1.0 Test accuracy: 0.49\n",
            "Epoch 60 Train accuracy: 1.0 Test accuracy: 0.49\n",
            "Epoch 61 Train accuracy: 1.0 Test accuracy: 0.495\n",
            "Epoch 62 Train accuracy: 1.0 Test accuracy: 0.495\n",
            "Epoch 63 Train accuracy: 1.0 Test accuracy: 0.495\n",
            "Epoch 64 Train accuracy: 1.0 Test accuracy: 0.495\n",
            "Epoch 65 Train accuracy: 1.0 Test accuracy: 0.495\n",
            "Epoch 66 Train accuracy: 1.0 Test accuracy: 0.495\n",
            "Epoch 67 Train accuracy: 1.0 Test accuracy: 0.495\n",
            "Epoch 68 Train accuracy: 1.0 Test accuracy: 0.495\n",
            "Epoch 69 Train accuracy: 1.0 Test accuracy: 0.495\n",
            "Epoch 70 Train accuracy: 1.0 Test accuracy: 0.495\n",
            "Epoch 71 Train accuracy: 1.0 Test accuracy: 0.495\n",
            "Epoch 72 Train accuracy: 1.0 Test accuracy: 0.495\n",
            "Epoch 73 Train accuracy: 1.0 Test accuracy: 0.5\n",
            "Epoch 74 Train accuracy: 1.0 Test accuracy: 0.5\n",
            "Epoch 75 Train accuracy: 1.0 Test accuracy: 0.5\n",
            "Epoch 76 Train accuracy: 1.0 Test accuracy: 0.5\n",
            "Epoch 77 Train accuracy: 1.0 Test accuracy: 0.5\n",
            "Epoch 78 Train accuracy: 1.0 Test accuracy: 0.5\n",
            "Epoch 79 Train accuracy: 1.0 Test accuracy: 0.495\n",
            "Epoch 80 Train accuracy: 1.0 Test accuracy: 0.495\n",
            "Epoch 81 Train accuracy: 1.0 Test accuracy: 0.495\n",
            "Epoch 82 Train accuracy: 1.0 Test accuracy: 0.495\n",
            "Epoch 83 Train accuracy: 1.0 Test accuracy: 0.495\n",
            "Epoch 84 Train accuracy: 1.0 Test accuracy: 0.495\n",
            "Epoch 85 Train accuracy: 1.0 Test accuracy: 0.495\n",
            "Epoch 86 Train accuracy: 1.0 Test accuracy: 0.495\n",
            "Epoch 87 Train accuracy: 1.0 Test accuracy: 0.495\n",
            "Epoch 88 Train accuracy: 1.0 Test accuracy: 0.495\n",
            "Epoch 89 Train accuracy: 1.0 Test accuracy: 0.495\n",
            "Epoch 90 Train accuracy: 1.0 Test accuracy: 0.495\n",
            "Epoch 91 Train accuracy: 1.0 Test accuracy: 0.5\n",
            "Epoch 92 Train accuracy: 1.0 Test accuracy: 0.5\n",
            "Epoch 93 Train accuracy: 1.0 Test accuracy: 0.5\n",
            "Epoch 94 Train accuracy: 1.0 Test accuracy: 0.5\n",
            "Epoch 95 Train accuracy: 1.0 Test accuracy: 0.5\n",
            "Epoch 96 Train accuracy: 1.0 Test accuracy: 0.5\n",
            "Epoch 97 Train accuracy: 1.0 Test accuracy: 0.5\n",
            "Epoch 98 Train accuracy: 1.0 Test accuracy: 0.5\n",
            "Epoch 99 Train accuracy: 1.0 Test accuracy: 0.5\n",
            "Epoch 100 Train accuracy: 1.0 Test accuracy: 0.5\n",
            "Epoch 101 Train accuracy: 1.0 Test accuracy: 0.5\n",
            "Epoch 102 Train accuracy: 1.0 Test accuracy: 0.5\n",
            "Epoch 103 Train accuracy: 1.0 Test accuracy: 0.5\n",
            "Epoch 104 Train accuracy: 1.0 Test accuracy: 0.5\n",
            "Epoch 105 Train accuracy: 1.0 Test accuracy: 0.5\n",
            "Epoch 106 Train accuracy: 1.0 Test accuracy: 0.5\n",
            "Epoch 107 Train accuracy: 1.0 Test accuracy: 0.5\n",
            "Epoch 108 Train accuracy: 1.0 Test accuracy: 0.5\n",
            "Epoch 109 Train accuracy: 1.0 Test accuracy: 0.5\n",
            "Epoch 110 Train accuracy: 1.0 Test accuracy: 0.5\n",
            "Epoch 111 Train accuracy: 1.0 Test accuracy: 0.5\n",
            "Epoch 112 Train accuracy: 1.0 Test accuracy: 0.5\n",
            "Epoch 113 Train accuracy: 1.0 Test accuracy: 0.5\n",
            "Epoch 114 Train accuracy: 1.0 Test accuracy: 0.5\n",
            "Epoch 115 Train accuracy: 1.0 Test accuracy: 0.5\n",
            "Epoch 116 Train accuracy: 1.0 Test accuracy: 0.495\n",
            "Epoch 117 Train accuracy: 1.0 Test accuracy: 0.495\n",
            "Epoch 118 Train accuracy: 1.0 Test accuracy: 0.495\n",
            "Epoch 119 Train accuracy: 1.0 Test accuracy: 0.495\n",
            "Epoch 120 Train accuracy: 1.0 Test accuracy: 0.5\n",
            "Epoch 121 Train accuracy: 1.0 Test accuracy: 0.5\n",
            "Epoch 122 Train accuracy: 1.0 Test accuracy: 0.5\n",
            "Epoch 123 Train accuracy: 1.0 Test accuracy: 0.5\n",
            "Epoch 124 Train accuracy: 1.0 Test accuracy: 0.5\n",
            "Epoch 125 Train accuracy: 1.0 Test accuracy: 0.5\n",
            "Epoch 126 Train accuracy: 1.0 Test accuracy: 0.5\n",
            "Epoch 127 Train accuracy: 1.0 Test accuracy: 0.505\n",
            "Epoch 128 Train accuracy: 1.0 Test accuracy: 0.505\n",
            "Epoch 129 Train accuracy: 1.0 Test accuracy: 0.505\n",
            "Epoch 130 Train accuracy: 1.0 Test accuracy: 0.505\n",
            "Epoch 131 Train accuracy: 1.0 Test accuracy: 0.505\n",
            "Epoch 132 Train accuracy: 1.0 Test accuracy: 0.505\n",
            "Epoch 133 Train accuracy: 1.0 Test accuracy: 0.505\n",
            "Epoch 134 Train accuracy: 1.0 Test accuracy: 0.505\n",
            "Epoch 135 Train accuracy: 1.0 Test accuracy: 0.505\n",
            "Epoch 136 Train accuracy: 1.0 Test accuracy: 0.505\n",
            "Epoch 137 Train accuracy: 1.0 Test accuracy: 0.505\n",
            "Epoch 138 Train accuracy: 1.0 Test accuracy: 0.505\n",
            "Epoch 139 Train accuracy: 1.0 Test accuracy: 0.505\n",
            "Epoch 140 Train accuracy: 1.0 Test accuracy: 0.505\n",
            "Epoch 141 Train accuracy: 1.0 Test accuracy: 0.505\n",
            "Epoch 142 Train accuracy: 1.0 Test accuracy: 0.505\n",
            "Epoch 143 Train accuracy: 1.0 Test accuracy: 0.505\n",
            "Epoch 144 Train accuracy: 1.0 Test accuracy: 0.505\n",
            "Epoch 145 Train accuracy: 1.0 Test accuracy: 0.505\n",
            "Epoch 146 Train accuracy: 1.0 Test accuracy: 0.505\n",
            "Epoch 147 Train accuracy: 1.0 Test accuracy: 0.505\n",
            "Epoch 148 Train accuracy: 1.0 Test accuracy: 0.505\n",
            "Epoch 149 Train accuracy: 1.0 Test accuracy: 0.505\n"
          ],
          "name": "stdout"
        }
      ]
    },
    {
      "cell_type": "markdown",
      "metadata": {
        "colab_type": "text",
        "id": "y9ylL5XYPr08"
      },
      "source": [
        "### Model Results"
      ]
    },
    {
      "cell_type": "code",
      "metadata": {
        "colab_type": "code",
        "outputId": "8cece37f-4147-4058-f104-fee52e69aa00",
        "id": "pGEGNbTzPr0-",
        "colab": {
          "base_uri": "https://localhost:8080/",
          "height": 320
        }
      },
      "source": [
        "model_results_df = pd.DataFrame.from_dict(model_results)\n",
        "model_results_df.plot(kind='bar', legend=False)\n",
        "plt.title('Accuracy')\n",
        "\n",
        "plt.show()"
      ],
      "execution_count": 173,
      "outputs": [
        {
          "output_type": "display_data",
          "data": {
            "image/png": "[encoded data removed]",
            "text/plain": [
              "<Figure size 432x288 with 1 Axes>"
            ]
          },
          "metadata": {
            "tags": []
          }
        }
      ]
    },
    {
      "cell_type": "code",
      "metadata": {
        "colab_type": "code",
        "outputId": "d9932c9d-edd2-4fee-a226-4e19aa70b0a8",
        "id": "c7VZwWZvPr1G",
        "colab": {
          "base_uri": "https://localhost:8080/",
          "height": 112
        }
      },
      "source": [
        "results_df3=(pd.DataFrame({'TestName': '100d Dataset Tensorflow 40 neurons',\n",
        "   'VocabluarySize': [EVOCABSIZE],\n",
        "   'Dimensions': [n_epochs],\n",
        "   'Neurons': [n_neurons],\n",
        "   'LearningRate': [learning_rate],\n",
        "   'TrainingSetAccuracy': [acc_train],\n",
        "   'TestSetAccuracy': [acc_test]}))\n",
        "results_df3.set_index('TestName', inplace=True)\n",
        "results_df3"
      ],
      "execution_count": 174,
      "outputs": [
        {
          "output_type": "execute_result",
          "data": {
            "text/html": [
              "<div>\n",
              "<style scoped>\n",
              "    .dataframe tbody tr th:only-of-type {\n",
              "        vertical-align: middle;\n",
              "    }\n",
              "\n",
              "    .dataframe tbody tr th {\n",
              "        vertical-align: top;\n",
              "    }\n",
              "\n",
              "    .dataframe thead th {\n",
              "        text-align: right;\n",
              "    }\n",
              "</style>\n",
              "<table border=\"1\" class=\"dataframe\">\n",
              "  <thead>\n",
              "    <tr style=\"text-align: right;\">\n",
              "      <th></th>\n",
              "      <th>VocabluarySize</th>\n",
              "      <th>Dimensions</th>\n",
              "      <th>Neurons</th>\n",
              "      <th>LearningRate</th>\n",
              "      <th>TrainingSetAccuracy</th>\n",
              "      <th>TestSetAccuracy</th>\n",
              "    </tr>\n",
              "    <tr>\n",
              "      <th>TestName</th>\n",
              "      <th></th>\n",
              "      <th></th>\n",
              "      <th></th>\n",
              "      <th></th>\n",
              "      <th></th>\n",
              "      <th></th>\n",
              "    </tr>\n",
              "  </thead>\n",
              "  <tbody>\n",
              "    <tr>\n",
              "      <th>100d Dataset Tensorflow 40 neurons</th>\n",
              "      <td>400000</td>\n",
              "      <td>150</td>\n",
              "      <td>40</td>\n",
              "      <td>0.01</td>\n",
              "      <td>1.0</td>\n",
              "      <td>0.505</td>\n",
              "    </tr>\n",
              "  </tbody>\n",
              "</table>\n",
              "</div>"
            ],
            "text/plain": [
              "                                    VocabluarySize  ...  TestSetAccuracy\n",
              "TestName                                            ...                 \n",
              "100d Dataset Tensorflow 40 neurons          400000  ...            0.505\n",
              "\n",
              "[1 rows x 6 columns]"
            ]
          },
          "metadata": {
            "tags": []
          },
          "execution_count": 174
        }
      ]
    },
    {
      "cell_type": "markdown",
      "metadata": {
        "colab_type": "text",
        "id": "xIDB7XIUPtnY"
      },
      "source": [
        "# Forth Tensorflow Model Training with Jumpstart and 100d Dataset"
      ]
    },
    {
      "cell_type": "markdown",
      "metadata": {
        "colab_type": "text",
        "id": "BeUnaPv1Ptnh"
      },
      "source": [
        "Update Vocab size to be larger"
      ]
    },
    {
      "cell_type": "code",
      "metadata": {
        "colab_type": "code",
        "id": "A2_wkfCNPtnn",
        "colab": {}
      },
      "source": [
        "EVOCABSIZE = 400000  # specify desired size of pre-defined embedding vocabulary "
      ],
      "execution_count": 0,
      "outputs": []
    },
    {
      "cell_type": "markdown",
      "metadata": {
        "colab_type": "text",
        "id": "VlEha-P6Ptnx"
      },
      "source": [
        "### Setup processing for 100d Dataset"
      ]
    },
    {
      "cell_type": "markdown",
      "metadata": {
        "colab_type": "text",
        "id": "vvGMkneKPtn1"
      },
      "source": [
        "Load 100d embedding"
      ]
    },
    {
      "cell_type": "code",
      "metadata": {
        "colab_type": "code",
        "outputId": "d143f17a-e0a9-48bb-e404-44752cdee6aa",
        "id": "k-rh0XLrPtn3",
        "colab": {
          "base_uri": "https://localhost:8080/",
          "height": 72
        }
      },
      "source": [
        "embeddings_directory = '/content/gdrive/My Drive/MSDS-422-Gift/module_8/embeddings'\n",
        "filename = 'glove.6B.100d.txt'\n",
        "embeddings_filename = os.path.join(embeddings_directory, filename)\n",
        "\n",
        "print('\\nLoading embeddings from', embeddings_filename)\n",
        "word_to_index, index_to_embedding = load_embedding_from_disks(embeddings_filename, with_indexes=True)\n",
        "print(\"Embedding loaded from disks.\")"
      ],
      "execution_count": 0,
      "outputs": [
        {
          "output_type": "stream",
          "text": [
            "\n",
            "Loading embeddings from /content/gdrive/My Drive/MSDS-422-Gift/module_8/embeddings/glove.6B.100d.txt\n",
            "Embedding loaded from disks.\n"
          ],
          "name": "stdout"
        }
      ]
    },
    {
      "cell_type": "markdown",
      "metadata": {
        "colab_type": "text",
        "id": "FJ2UXvsKPtoC"
      },
      "source": [
        "Process embedding"
      ]
    },
    {
      "cell_type": "code",
      "metadata": {
        "colab_type": "code",
        "outputId": "e6c2dfb1-f55c-4c3e-ab04-432d851e5f9a",
        "id": "0VZ15qtxPtoD",
        "colab": {
          "base_uri": "https://localhost:8080/",
          "height": 35
        }
      },
      "source": [
        "limited_word_to_index = defaultdict(default_factory, {k: v for k, v in word_to_index.items() if v < EVOCABSIZE})\n",
        "limited_index_to_embedding = index_to_embedding[0:EVOCABSIZE,:]\n",
        "limited_index_to_embedding = np.append(limited_index_to_embedding, index_to_embedding[index_to_embedding.shape[0] - 1, :].reshape(1,index_to_embedding.shape[1]), axis = 0)\n",
        "\n",
        "# construct list of 1000 lists with 40 words in each list\n",
        "from itertools import chain\n",
        "documents = []\n",
        "for doc in negative_documents:\n",
        "    doc_begin = doc[0:20]\n",
        "    doc_end = doc[len(doc) - 20: len(doc)]\n",
        "    documents.append(list(chain(*[doc_begin, doc_end])))    \n",
        "for doc in positive_documents:\n",
        "    doc_begin = doc[0:20]\n",
        "    doc_end = doc[len(doc) - 20: len(doc)]\n",
        "    documents.append(list(chain(*[doc_begin, doc_end])))    \n",
        "\n",
        "# create list of lists of lists for embeddings\n",
        "embeddings = []    \n",
        "for doc in documents:\n",
        "    embedding = []\n",
        "    for word in doc:\n",
        "       embedding.append(limited_index_to_embedding[limited_word_to_index[word]]) \n",
        "    embeddings.append(embedding)\n",
        "\n",
        "embeddings_array = np.array(embeddings)\n",
        "embeddings_array.shape"
      ],
      "execution_count": 175,
      "outputs": [
        {
          "output_type": "execute_result",
          "data": {
            "text/plain": [
              "(1000, 40, 100)"
            ]
          },
          "metadata": {
            "tags": []
          },
          "execution_count": 175
        }
      ]
    },
    {
      "cell_type": "markdown",
      "metadata": {
        "colab_type": "text",
        "id": "cjUWwqZdPtoO"
      },
      "source": [
        "Define test/train datasets for validation in RNN"
      ]
    },
    {
      "cell_type": "code",
      "metadata": {
        "colab_type": "code",
        "id": "dpZ8w_IvPtoQ",
        "colab": {}
      },
      "source": [
        "X_train, X_test, y_train, y_test = train_test_split(embeddings_array, thumbs_down_up, test_size=0.20, random_state = RANDOM_SEED)\n",
        "reset_graph()"
      ],
      "execution_count": 0,
      "outputs": []
    },
    {
      "cell_type": "markdown",
      "metadata": {
        "colab_type": "text",
        "id": "klKpP15lPtoV"
      },
      "source": [
        "### Model Definition and Training"
      ]
    },
    {
      "cell_type": "code",
      "metadata": {
        "colab_type": "code",
        "outputId": "14a94387-d3d5-462f-f6cd-938baa202ee5",
        "id": "7hs74C9DPtoX",
        "colab": {
          "base_uri": "https://localhost:8080/",
          "height": 2772
        }
      },
      "source": [
        "n_steps = embeddings_array.shape[1]  # number of words per document \n",
        "n_inputs = embeddings_array.shape[2]  # dimension of  pre-trained embeddings\n",
        "n_neurons = 20  # analyst specified number of neurons\n",
        "n_outputs = 2  # thumbs-down or thumbs-up\n",
        "\n",
        "learning_rate = 0.0001\n",
        "\n",
        "X = tf.placeholder(tf.float32, [None, n_steps, n_inputs])\n",
        "y = tf.placeholder(tf.int32, [None])\n",
        "\n",
        "basic_cell = tf.contrib.rnn.BasicRNNCell(num_units=n_neurons)\n",
        "outputs, states = tf.nn.dynamic_rnn(basic_cell, X, dtype=tf.float32)\n",
        "\n",
        "logits = tf.layers.dense(states, n_outputs)\n",
        "xentropy = tf.nn.sparse_softmax_cross_entropy_with_logits(labels=y, logits=logits)\n",
        "loss = tf.reduce_mean(xentropy)\n",
        "optimizer = tf.train.AdamOptimizer(learning_rate=learning_rate)\n",
        "training_op = optimizer.minimize(loss)\n",
        "correct = tf.nn.in_top_k(logits, y, 1)\n",
        "accuracy = tf.reduce_mean(tf.cast(correct, tf.float32))\n",
        "\n",
        "init = tf.global_variables_initializer()\n",
        "\n",
        "n_epochs = 150\n",
        "batch_size = 100\n",
        "\n",
        "model_results={}\n",
        "\n",
        "with tf.Session() as sess:\n",
        "    init.run()\n",
        "    for epoch in range(n_epochs):\n",
        "        for iteration in range(y_train.shape[0] // batch_size):          \n",
        "            X_batch = X_train[iteration*batch_size:(iteration + 1)*batch_size,:]\n",
        "            y_batch = y_train[iteration*batch_size:(iteration + 1)*batch_size]\n",
        "            sess.run(training_op, feed_dict={X: X_batch, y: y_batch})\n",
        "        acc_train = accuracy.eval(feed_dict={X: X_batch, y: y_batch})\n",
        "        acc_test = accuracy.eval(feed_dict={X: X_test, y: y_test})\n",
        "        print('Epoch',epoch,'Train accuracy:', acc_train, 'Test accuracy:', acc_test)\n",
        "        model_results[epoch]= {'Train_Acc':acc_train, 'Test_Acc':acc_test}"
      ],
      "execution_count": 177,
      "outputs": [
        {
          "output_type": "stream",
          "text": [
            "Epoch 0 Train accuracy: 0.47 Test accuracy: 0.515\n",
            "Epoch 1 Train accuracy: 0.48 Test accuracy: 0.52\n",
            "Epoch 2 Train accuracy: 0.45 Test accuracy: 0.525\n",
            "Epoch 3 Train accuracy: 0.45 Test accuracy: 0.505\n",
            "Epoch 4 Train accuracy: 0.47 Test accuracy: 0.505\n",
            "Epoch 5 Train accuracy: 0.48 Test accuracy: 0.505\n",
            "Epoch 6 Train accuracy: 0.45 Test accuracy: 0.485\n",
            "Epoch 7 Train accuracy: 0.49 Test accuracy: 0.48\n",
            "Epoch 8 Train accuracy: 0.49 Test accuracy: 0.49\n",
            "Epoch 9 Train accuracy: 0.51 Test accuracy: 0.505\n",
            "Epoch 10 Train accuracy: 0.53 Test accuracy: 0.5\n",
            "Epoch 11 Train accuracy: 0.53 Test accuracy: 0.49\n",
            "Epoch 12 Train accuracy: 0.55 Test accuracy: 0.495\n",
            "Epoch 13 Train accuracy: 0.55 Test accuracy: 0.49\n",
            "Epoch 14 Train accuracy: 0.54 Test accuracy: 0.505\n",
            "Epoch 15 Train accuracy: 0.54 Test accuracy: 0.515\n",
            "Epoch 16 Train accuracy: 0.55 Test accuracy: 0.515\n",
            "Epoch 17 Train accuracy: 0.56 Test accuracy: 0.515\n",
            "Epoch 18 Train accuracy: 0.56 Test accuracy: 0.515\n",
            "Epoch 19 Train accuracy: 0.55 Test accuracy: 0.525\n",
            "Epoch 20 Train accuracy: 0.55 Test accuracy: 0.525\n",
            "Epoch 21 Train accuracy: 0.55 Test accuracy: 0.525\n",
            "Epoch 22 Train accuracy: 0.55 Test accuracy: 0.525\n",
            "Epoch 23 Train accuracy: 0.55 Test accuracy: 0.53\n",
            "Epoch 24 Train accuracy: 0.55 Test accuracy: 0.52\n",
            "Epoch 25 Train accuracy: 0.55 Test accuracy: 0.525\n",
            "Epoch 26 Train accuracy: 0.54 Test accuracy: 0.525\n",
            "Epoch 27 Train accuracy: 0.54 Test accuracy: 0.52\n",
            "Epoch 28 Train accuracy: 0.55 Test accuracy: 0.515\n",
            "Epoch 29 Train accuracy: 0.56 Test accuracy: 0.51\n",
            "Epoch 30 Train accuracy: 0.57 Test accuracy: 0.505\n",
            "Epoch 31 Train accuracy: 0.56 Test accuracy: 0.5\n",
            "Epoch 32 Train accuracy: 0.56 Test accuracy: 0.5\n",
            "Epoch 33 Train accuracy: 0.56 Test accuracy: 0.505\n",
            "Epoch 34 Train accuracy: 0.56 Test accuracy: 0.5\n",
            "Epoch 35 Train accuracy: 0.57 Test accuracy: 0.515\n",
            "Epoch 36 Train accuracy: 0.59 Test accuracy: 0.515\n",
            "Epoch 37 Train accuracy: 0.59 Test accuracy: 0.525\n",
            "Epoch 38 Train accuracy: 0.6 Test accuracy: 0.525\n",
            "Epoch 39 Train accuracy: 0.6 Test accuracy: 0.53\n",
            "Epoch 40 Train accuracy: 0.6 Test accuracy: 0.53\n",
            "Epoch 41 Train accuracy: 0.6 Test accuracy: 0.525\n",
            "Epoch 42 Train accuracy: 0.61 Test accuracy: 0.52\n",
            "Epoch 43 Train accuracy: 0.62 Test accuracy: 0.515\n",
            "Epoch 44 Train accuracy: 0.63 Test accuracy: 0.51\n",
            "Epoch 45 Train accuracy: 0.63 Test accuracy: 0.515\n",
            "Epoch 46 Train accuracy: 0.64 Test accuracy: 0.51\n",
            "Epoch 47 Train accuracy: 0.65 Test accuracy: 0.52\n",
            "Epoch 48 Train accuracy: 0.66 Test accuracy: 0.52\n",
            "Epoch 49 Train accuracy: 0.66 Test accuracy: 0.515\n",
            "Epoch 50 Train accuracy: 0.65 Test accuracy: 0.515\n",
            "Epoch 51 Train accuracy: 0.64 Test accuracy: 0.52\n",
            "Epoch 52 Train accuracy: 0.65 Test accuracy: 0.515\n",
            "Epoch 53 Train accuracy: 0.65 Test accuracy: 0.52\n",
            "Epoch 54 Train accuracy: 0.65 Test accuracy: 0.515\n",
            "Epoch 55 Train accuracy: 0.65 Test accuracy: 0.52\n",
            "Epoch 56 Train accuracy: 0.65 Test accuracy: 0.51\n",
            "Epoch 57 Train accuracy: 0.66 Test accuracy: 0.5\n",
            "Epoch 58 Train accuracy: 0.67 Test accuracy: 0.51\n",
            "Epoch 59 Train accuracy: 0.67 Test accuracy: 0.505\n",
            "Epoch 60 Train accuracy: 0.67 Test accuracy: 0.505\n",
            "Epoch 61 Train accuracy: 0.67 Test accuracy: 0.51\n",
            "Epoch 62 Train accuracy: 0.69 Test accuracy: 0.51\n",
            "Epoch 63 Train accuracy: 0.69 Test accuracy: 0.51\n",
            "Epoch 64 Train accuracy: 0.71 Test accuracy: 0.505\n",
            "Epoch 65 Train accuracy: 0.7 Test accuracy: 0.505\n",
            "Epoch 66 Train accuracy: 0.7 Test accuracy: 0.505\n",
            "Epoch 67 Train accuracy: 0.7 Test accuracy: 0.505\n",
            "Epoch 68 Train accuracy: 0.7 Test accuracy: 0.505\n",
            "Epoch 69 Train accuracy: 0.69 Test accuracy: 0.505\n",
            "Epoch 70 Train accuracy: 0.69 Test accuracy: 0.505\n",
            "Epoch 71 Train accuracy: 0.69 Test accuracy: 0.505\n",
            "Epoch 72 Train accuracy: 0.69 Test accuracy: 0.505\n",
            "Epoch 73 Train accuracy: 0.69 Test accuracy: 0.51\n",
            "Epoch 74 Train accuracy: 0.68 Test accuracy: 0.51\n",
            "Epoch 75 Train accuracy: 0.68 Test accuracy: 0.51\n",
            "Epoch 76 Train accuracy: 0.68 Test accuracy: 0.51\n",
            "Epoch 77 Train accuracy: 0.68 Test accuracy: 0.51\n",
            "Epoch 78 Train accuracy: 0.68 Test accuracy: 0.51\n",
            "Epoch 79 Train accuracy: 0.67 Test accuracy: 0.515\n",
            "Epoch 80 Train accuracy: 0.67 Test accuracy: 0.505\n",
            "Epoch 81 Train accuracy: 0.68 Test accuracy: 0.505\n",
            "Epoch 82 Train accuracy: 0.68 Test accuracy: 0.505\n",
            "Epoch 83 Train accuracy: 0.68 Test accuracy: 0.51\n",
            "Epoch 84 Train accuracy: 0.68 Test accuracy: 0.51\n",
            "Epoch 85 Train accuracy: 0.68 Test accuracy: 0.51\n",
            "Epoch 86 Train accuracy: 0.68 Test accuracy: 0.505\n",
            "Epoch 87 Train accuracy: 0.69 Test accuracy: 0.505\n",
            "Epoch 88 Train accuracy: 0.7 Test accuracy: 0.505\n",
            "Epoch 89 Train accuracy: 0.7 Test accuracy: 0.51\n",
            "Epoch 90 Train accuracy: 0.7 Test accuracy: 0.525\n",
            "Epoch 91 Train accuracy: 0.71 Test accuracy: 0.53\n",
            "Epoch 92 Train accuracy: 0.71 Test accuracy: 0.54\n",
            "Epoch 93 Train accuracy: 0.72 Test accuracy: 0.535\n",
            "Epoch 94 Train accuracy: 0.72 Test accuracy: 0.54\n",
            "Epoch 95 Train accuracy: 0.72 Test accuracy: 0.54\n",
            "Epoch 96 Train accuracy: 0.72 Test accuracy: 0.535\n",
            "Epoch 97 Train accuracy: 0.72 Test accuracy: 0.54\n",
            "Epoch 98 Train accuracy: 0.72 Test accuracy: 0.54\n",
            "Epoch 99 Train accuracy: 0.72 Test accuracy: 0.535\n",
            "Epoch 100 Train accuracy: 0.72 Test accuracy: 0.54\n",
            "Epoch 101 Train accuracy: 0.72 Test accuracy: 0.545\n",
            "Epoch 102 Train accuracy: 0.72 Test accuracy: 0.545\n",
            "Epoch 103 Train accuracy: 0.72 Test accuracy: 0.545\n",
            "Epoch 104 Train accuracy: 0.72 Test accuracy: 0.545\n",
            "Epoch 105 Train accuracy: 0.72 Test accuracy: 0.55\n",
            "Epoch 106 Train accuracy: 0.72 Test accuracy: 0.55\n",
            "Epoch 107 Train accuracy: 0.72 Test accuracy: 0.55\n",
            "Epoch 108 Train accuracy: 0.72 Test accuracy: 0.555\n",
            "Epoch 109 Train accuracy: 0.73 Test accuracy: 0.555\n",
            "Epoch 110 Train accuracy: 0.73 Test accuracy: 0.555\n",
            "Epoch 111 Train accuracy: 0.73 Test accuracy: 0.555\n",
            "Epoch 112 Train accuracy: 0.74 Test accuracy: 0.555\n",
            "Epoch 113 Train accuracy: 0.74 Test accuracy: 0.555\n",
            "Epoch 114 Train accuracy: 0.74 Test accuracy: 0.555\n",
            "Epoch 115 Train accuracy: 0.76 Test accuracy: 0.555\n",
            "Epoch 116 Train accuracy: 0.76 Test accuracy: 0.555\n",
            "Epoch 117 Train accuracy: 0.77 Test accuracy: 0.56\n",
            "Epoch 118 Train accuracy: 0.77 Test accuracy: 0.56\n",
            "Epoch 119 Train accuracy: 0.77 Test accuracy: 0.56\n",
            "Epoch 120 Train accuracy: 0.77 Test accuracy: 0.56\n",
            "Epoch 121 Train accuracy: 0.77 Test accuracy: 0.565\n",
            "Epoch 122 Train accuracy: 0.77 Test accuracy: 0.565\n",
            "Epoch 123 Train accuracy: 0.77 Test accuracy: 0.565\n",
            "Epoch 124 Train accuracy: 0.77 Test accuracy: 0.575\n",
            "Epoch 125 Train accuracy: 0.77 Test accuracy: 0.575\n",
            "Epoch 126 Train accuracy: 0.78 Test accuracy: 0.575\n",
            "Epoch 127 Train accuracy: 0.78 Test accuracy: 0.57\n",
            "Epoch 128 Train accuracy: 0.77 Test accuracy: 0.57\n",
            "Epoch 129 Train accuracy: 0.77 Test accuracy: 0.57\n",
            "Epoch 130 Train accuracy: 0.77 Test accuracy: 0.575\n",
            "Epoch 131 Train accuracy: 0.77 Test accuracy: 0.57\n",
            "Epoch 132 Train accuracy: 0.77 Test accuracy: 0.57\n",
            "Epoch 133 Train accuracy: 0.77 Test accuracy: 0.57\n",
            "Epoch 134 Train accuracy: 0.77 Test accuracy: 0.58\n",
            "Epoch 135 Train accuracy: 0.77 Test accuracy: 0.58\n",
            "Epoch 136 Train accuracy: 0.77 Test accuracy: 0.58\n",
            "Epoch 137 Train accuracy: 0.77 Test accuracy: 0.58\n",
            "Epoch 138 Train accuracy: 0.77 Test accuracy: 0.58\n",
            "Epoch 139 Train accuracy: 0.77 Test accuracy: 0.58\n",
            "Epoch 140 Train accuracy: 0.77 Test accuracy: 0.59\n",
            "Epoch 141 Train accuracy: 0.77 Test accuracy: 0.59\n",
            "Epoch 142 Train accuracy: 0.77 Test accuracy: 0.59\n",
            "Epoch 143 Train accuracy: 0.77 Test accuracy: 0.585\n",
            "Epoch 144 Train accuracy: 0.77 Test accuracy: 0.58\n",
            "Epoch 145 Train accuracy: 0.77 Test accuracy: 0.58\n",
            "Epoch 146 Train accuracy: 0.77 Test accuracy: 0.58\n",
            "Epoch 147 Train accuracy: 0.77 Test accuracy: 0.58\n",
            "Epoch 148 Train accuracy: 0.78 Test accuracy: 0.58\n",
            "Epoch 149 Train accuracy: 0.78 Test accuracy: 0.585\n"
          ],
          "name": "stdout"
        }
      ]
    },
    {
      "cell_type": "markdown",
      "metadata": {
        "colab_type": "text",
        "id": "90CIP-tePtoj"
      },
      "source": [
        "### Model Results"
      ]
    },
    {
      "cell_type": "code",
      "metadata": {
        "colab_type": "code",
        "outputId": "09bd15bc-37f6-4617-c4fd-85e751dc8a62",
        "id": "d6Mjd9NEPtok",
        "colab": {
          "base_uri": "https://localhost:8080/",
          "height": 320
        }
      },
      "source": [
        "model_results_df = pd.DataFrame.from_dict(model_results)\n",
        "model_results_df.plot(kind='bar', legend=False)\n",
        "plt.title('Accuracy')\n",
        "\n",
        "plt.show()"
      ],
      "execution_count": 178,
      "outputs": [
        {
          "output_type": "display_data",
          "data": {
            "image/png": "[encoded data removed]",
            "text/plain": [
              "<Figure size 432x288 with 1 Axes>"
            ]
          },
          "metadata": {
            "tags": []
          }
        }
      ]
    },
    {
      "cell_type": "code",
      "metadata": {
        "colab_type": "code",
        "outputId": "7fb03398-30ae-4e77-c715-dffde34eed58",
        "id": "QswvZJorPtou",
        "colab": {
          "base_uri": "https://localhost:8080/",
          "height": 112
        }
      },
      "source": [
        "results_df4=(pd.DataFrame({'TestName': '100d Dataset Tensorflow lower learning',\n",
        "   'VocabluarySize': [EVOCABSIZE],\n",
        "   'Dimensions': [n_epochs],\n",
        "   'Neurons': [n_neurons],\n",
        "   'LearningRate': [learning_rate],\n",
        "   'TrainingSetAccuracy': [acc_train],\n",
        "   'TestSetAccuracy': [acc_test]}))\n",
        "results_df4.set_index('TestName', inplace=True)\n",
        "results_df4"
      ],
      "execution_count": 179,
      "outputs": [
        {
          "output_type": "execute_result",
          "data": {
            "text/html": [
              "<div>\n",
              "<style scoped>\n",
              "    .dataframe tbody tr th:only-of-type {\n",
              "        vertical-align: middle;\n",
              "    }\n",
              "\n",
              "    .dataframe tbody tr th {\n",
              "        vertical-align: top;\n",
              "    }\n",
              "\n",
              "    .dataframe thead th {\n",
              "        text-align: right;\n",
              "    }\n",
              "</style>\n",
              "<table border=\"1\" class=\"dataframe\">\n",
              "  <thead>\n",
              "    <tr style=\"text-align: right;\">\n",
              "      <th></th>\n",
              "      <th>VocabluarySize</th>\n",
              "      <th>Dimensions</th>\n",
              "      <th>Neurons</th>\n",
              "      <th>LearningRate</th>\n",
              "      <th>TrainingSetAccuracy</th>\n",
              "      <th>TestSetAccuracy</th>\n",
              "    </tr>\n",
              "    <tr>\n",
              "      <th>TestName</th>\n",
              "      <th></th>\n",
              "      <th></th>\n",
              "      <th></th>\n",
              "      <th></th>\n",
              "      <th></th>\n",
              "      <th></th>\n",
              "    </tr>\n",
              "  </thead>\n",
              "  <tbody>\n",
              "    <tr>\n",
              "      <th>100d Dataset Tensorflow lower learning</th>\n",
              "      <td>400000</td>\n",
              "      <td>150</td>\n",
              "      <td>20</td>\n",
              "      <td>0.0001</td>\n",
              "      <td>0.78</td>\n",
              "      <td>0.585</td>\n",
              "    </tr>\n",
              "  </tbody>\n",
              "</table>\n",
              "</div>"
            ],
            "text/plain": [
              "                                        VocabluarySize  ...  TestSetAccuracy\n",
              "TestName                                                ...                 \n",
              "100d Dataset Tensorflow lower learning          400000  ...            0.585\n",
              "\n",
              "[1 rows x 6 columns]"
            ]
          },
          "metadata": {
            "tags": []
          },
          "execution_count": 179
        }
      ]
    },
    {
      "cell_type": "markdown",
      "metadata": {
        "id": "uriZJj8GS4MO",
        "colab_type": "text"
      },
      "source": [
        "# Results"
      ]
    },
    {
      "cell_type": "code",
      "metadata": {
        "id": "2zh1pV9gS52-",
        "colab_type": "code",
        "colab": {
          "base_uri": "https://localhost:8080/",
          "height": 206
        },
        "outputId": "91c83d42-21d7-47b3-d29a-5b6e78361b8e"
      },
      "source": [
        "results_df_compiled = pd.concat([results_df,results_df2,results_df3,results_df4], ignore_index=False)\n",
        "results_df_compiled"
      ],
      "execution_count": 180,
      "outputs": [
        {
          "output_type": "execute_result",
          "data": {
            "text/html": [
              "<div>\n",
              "<style scoped>\n",
              "    .dataframe tbody tr th:only-of-type {\n",
              "        vertical-align: middle;\n",
              "    }\n",
              "\n",
              "    .dataframe tbody tr th {\n",
              "        vertical-align: top;\n",
              "    }\n",
              "\n",
              "    .dataframe thead th {\n",
              "        text-align: right;\n",
              "    }\n",
              "</style>\n",
              "<table border=\"1\" class=\"dataframe\">\n",
              "  <thead>\n",
              "    <tr style=\"text-align: right;\">\n",
              "      <th></th>\n",
              "      <th>VocabluarySize</th>\n",
              "      <th>Dimensions</th>\n",
              "      <th>Neurons</th>\n",
              "      <th>LearningRate</th>\n",
              "      <th>TrainingSetAccuracy</th>\n",
              "      <th>TestSetAccuracy</th>\n",
              "    </tr>\n",
              "    <tr>\n",
              "      <th>TestName</th>\n",
              "      <th></th>\n",
              "      <th></th>\n",
              "      <th></th>\n",
              "      <th></th>\n",
              "      <th></th>\n",
              "      <th></th>\n",
              "    </tr>\n",
              "  </thead>\n",
              "  <tbody>\n",
              "    <tr>\n",
              "      <th>50d Dataset Tensorflow</th>\n",
              "      <td>10000</td>\n",
              "      <td>50</td>\n",
              "      <td>20</td>\n",
              "      <td>0.0010</td>\n",
              "      <td>0.81</td>\n",
              "      <td>0.705</td>\n",
              "    </tr>\n",
              "    <tr>\n",
              "      <th>100d Dataset Tensorflow</th>\n",
              "      <td>400000</td>\n",
              "      <td>150</td>\n",
              "      <td>20</td>\n",
              "      <td>0.0010</td>\n",
              "      <td>1.00</td>\n",
              "      <td>0.710</td>\n",
              "    </tr>\n",
              "    <tr>\n",
              "      <th>100d Dataset Tensorflow 40 neurons</th>\n",
              "      <td>400000</td>\n",
              "      <td>150</td>\n",
              "      <td>40</td>\n",
              "      <td>0.0100</td>\n",
              "      <td>1.00</td>\n",
              "      <td>0.505</td>\n",
              "    </tr>\n",
              "    <tr>\n",
              "      <th>100d Dataset Tensorflow lower learning</th>\n",
              "      <td>400000</td>\n",
              "      <td>150</td>\n",
              "      <td>20</td>\n",
              "      <td>0.0001</td>\n",
              "      <td>0.78</td>\n",
              "      <td>0.585</td>\n",
              "    </tr>\n",
              "  </tbody>\n",
              "</table>\n",
              "</div>"
            ],
            "text/plain": [
              "                                        VocabluarySize  ...  TestSetAccuracy\n",
              "TestName                                                ...                 \n",
              "50d Dataset Tensorflow                           10000  ...            0.705\n",
              "100d Dataset Tensorflow                         400000  ...            0.710\n",
              "100d Dataset Tensorflow 40 neurons              400000  ...            0.505\n",
              "100d Dataset Tensorflow lower learning          400000  ...            0.585\n",
              "\n",
              "[4 rows x 6 columns]"
            ]
          },
          "metadata": {
            "tags": []
          },
          "execution_count": 180
        }
      ]
    },
    {
      "cell_type": "code",
      "metadata": {
        "id": "YjUaD8UpXzNT",
        "colab_type": "code",
        "colab": {
          "base_uri": "https://localhost:8080/",
          "height": 545
        },
        "outputId": "88d02d40-cb4f-40f1-8806-908570098a91"
      },
      "source": [
        "results_df_compiled[['TrainingSetAccuracy']].plot(kind='barh', title='Training Accuracy')\n",
        "results_df_compiled[['TestSetAccuracy']].plot(kind='barh', title='Test Accuracy')\n",
        "plt.show()"
      ],
      "execution_count": 181,
      "outputs": [
        {
          "output_type": "display_data",
          "data": {
            "image/png": "[encoded data removed]",
            "text/plain": [
              "<Figure size 432x288 with 1 Axes>"
            ]
          },
          "metadata": {
            "tags": []
          }
        },
        {
          "output_type": "display_data",
          "data": {
            "image/png": "[encoded data removed]",
            "text/plain": [
              "<Figure size 432x288 with 1 Axes>"
            ]
          },
          "metadata": {
            "tags": []
          }
        }
      ]
    },
    {
      "cell_type": "markdown",
      "metadata": {
        "id": "a8sTTiU7mEO0",
        "colab_type": "text"
      },
      "source": [
        "# Recommendations"
      ]
    },
    {
      "cell_type": "markdown",
      "metadata": {
        "colab_type": "text",
        "id": "qgV6pMseO18F"
      },
      "source": [
        "Leveraging the full vocabulary dataset with the 100d model parameters produced the most accurate model. Of the rates tested, the learning rate performs best at 0.001 and the neuron count is best set at 20. This RNN appears to be sensitive to overfitting, as the training accuracy is very high and the test accuracy relatively low."
      ]
    }
  ]
}