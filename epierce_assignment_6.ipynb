{
  "nbformat": 4,
  "nbformat_minor": 0,
  "metadata": {
    "colab": {
      "name": "epierce_assignment_6.ipynb",
      "version": "0.3.2",
      "provenance": [],
      "collapsed_sections": [
        "VQrdb1UJGaan"
      ],
      "toc_visible": true,
      "include_colab_link": true
    },
    "kernelspec": {
      "name": "python3",
      "display_name": "Python 3"
    },
    "accelerator": "GPU"
  },
  "cells": [
    {
      "cell_type": "markdown",
      "metadata": {
        "id": "view-in-github",
        "colab_type": "text"
      },
      "source": [
        "<a href=\"https://colab.research.google.com/github/eric-pierce/MSDS-422-HW/blob/master/epierce_assignment_6.ipynb\" target=\"_parent\"><img src=\"https://colab.research.google.com/assets/colab-badge.svg\" alt=\"Open In Colab\"/></a>"
      ]
    },
    {
      "cell_type": "markdown",
      "metadata": {
        "id": "-5zceVtRCaiv",
        "colab_type": "text"
      },
      "source": [
        "# Assignment 6: Neural Networks\n",
        "## MSDS-422 Spring 2019 - Eric Pierce\n",
        "## Background  \n",
        "The manager of a data science team is looking to implement models for computer vision, and is leveraging the handwritten digit dataset known as MNIST (\"Modified National Institute of Standards and Technology\") dataset. This was made available in 1999, and is available in the comma delimited files <digit_recognition_train.csv> for the a labled dataset of 42k digits, and <digit_recognition_test.csv> for an unlabled dataset of 58k digits.\n",
        "## Objective\n",
        "A financial institution is evaluating machine learning technologies for optical character recognition. This is focused on neural network typology and hyperparameter settings to determine accuracy."
      ]
    },
    {
      "cell_type": "markdown",
      "metadata": {
        "id": "nYEMbhy2CzhL",
        "colab_type": "text"
      },
      "source": [
        "# Setup and Data Import\n",
        "Initialize the data and libraries used as part of this project"
      ]
    },
    {
      "cell_type": "markdown",
      "metadata": {
        "id": "kGc5tYFCFJ_W",
        "colab_type": "text"
      },
      "source": [
        "### Library Import and Setting Initialization"
      ]
    },
    {
      "cell_type": "code",
      "metadata": {
        "id": "ePXywTrhwMY0",
        "colab_type": "code",
        "outputId": "3aee0d75-3ec2-4868-b5df-cc6dd972bca9",
        "colab": {
          "base_uri": "https://localhost:8080/",
          "height": 35
        }
      },
      "source": [
        "# import base packages into the namespace for this program\n",
        "import numpy as np\n",
        "import pandas as pd\n",
        "import matplotlib\n",
        "import matplotlib.pyplot as plt\n",
        "import seaborn as sns\n",
        "import datetime\n",
        "import keras\n",
        "import itertools\n",
        "from keras.models import Sequential\n",
        "from keras.layers import Dense, Dropout\n",
        "from keras.optimizers import RMSprop\n",
        "from keras.preprocessing import image\n",
        "from keras.layers.normalization import BatchNormalization\n",
        "from sklearn.metrics import confusion_matrix\n",
        "from sklearn.preprocessing import StandardScaler\n",
        "\n",
        "# seed value for random number generators to obtain reproducible results\n",
        "RANDOM_SEED = 1"
      ],
      "execution_count": 0,
      "outputs": [
        {
          "output_type": "stream",
          "text": [
            "Using TensorFlow backend.\n"
          ],
          "name": "stderr"
        }
      ]
    },
    {
      "cell_type": "markdown",
      "metadata": {
        "id": "BWtxf9-nFyzK",
        "colab_type": "text"
      },
      "source": [
        "### Data Import"
      ]
    },
    {
      "cell_type": "code",
      "metadata": {
        "id": "nENa0SBjwUO1",
        "colab_type": "code",
        "colab": {}
      },
      "source": [
        "mnist_train = pd.read_csv(\"https://raw.githubusercontent.com/eric-pierce/MSDS-422/master/digit_recognition_train.csv\")\n",
        "mnist_test = pd.read_csv(\"https://raw.githubusercontent.com/eric-pierce/MSDS-422/master/digit_recognition_test.csv\")"
      ],
      "execution_count": 0,
      "outputs": []
    },
    {
      "cell_type": "markdown",
      "metadata": {
        "id": "VQrdb1UJGaan",
        "colab_type": "text"
      },
      "source": [
        "# Exploratory Data Analysis\n",
        "*   Clean Data\n",
        "*   Identify Data Descriptions and Statistics\n",
        "*   Visualize Input Data"
      ]
    },
    {
      "cell_type": "markdown",
      "metadata": {
        "id": "ks9OAB1ZHV2x",
        "colab_type": "text"
      },
      "source": [
        "### Clean Data"
      ]
    },
    {
      "cell_type": "markdown",
      "metadata": {
        "id": "-gHDXqHqfj0O",
        "colab_type": "text"
      },
      "source": [
        "Examine the shape of original input data"
      ]
    },
    {
      "cell_type": "code",
      "metadata": {
        "id": "svM252TmHZrl",
        "colab_type": "code",
        "outputId": "e1cec30b-faee-44ba-a7c5-654213f2895a",
        "colab": {
          "base_uri": "https://localhost:8080/"
        }
      },
      "source": [
        "print(mnist_train.shape)"
      ],
      "execution_count": 0,
      "outputs": [
        {
          "output_type": "stream",
          "text": [
            "(42000, 785)\n"
          ],
          "name": "stdout"
        }
      ]
    },
    {
      "cell_type": "markdown",
      "metadata": {
        "id": "IbpEiKD8fqGc",
        "colab_type": "text"
      },
      "source": [
        "After dropping any non-populated values the shape is the same, therefore all values are populated"
      ]
    },
    {
      "cell_type": "code",
      "metadata": {
        "id": "iaC7IgSUG2Sv",
        "colab_type": "code",
        "outputId": "14d1591c-dcf9-4a62-c4ca-3d3b11c2f4de",
        "colab": {
          "base_uri": "https://localhost:8080/"
        }
      },
      "source": [
        "mnist_train.dropna()\n",
        "print(mnist_train.shape)"
      ],
      "execution_count": 0,
      "outputs": [
        {
          "output_type": "stream",
          "text": [
            "(42000, 785)\n"
          ],
          "name": "stdout"
        }
      ]
    },
    {
      "cell_type": "markdown",
      "metadata": {
        "id": "bBOBIIH8f61p",
        "colab_type": "text"
      },
      "source": [
        "Sample rows, each row consists of a label identifying the actual number written, followed by 783 pixels (28x28 image)"
      ]
    },
    {
      "cell_type": "code",
      "metadata": {
        "id": "vgCH5X1zIQ_q",
        "colab_type": "code",
        "outputId": "9b0bd406-859b-4063-a41d-422565281edd",
        "colab": {
          "base_uri": "https://localhost:8080/"
        }
      },
      "source": [
        "mnist_train.head()"
      ],
      "execution_count": 0,
      "outputs": [
        {
          "output_type": "execute_result",
          "data": {
            "text/html": [
              "<div>\n",
              "<style scoped>\n",
              "    .dataframe tbody tr th:only-of-type {\n",
              "        vertical-align: middle;\n",
              "    }\n",
              "\n",
              "    .dataframe tbody tr th {\n",
              "        vertical-align: top;\n",
              "    }\n",
              "\n",
              "    .dataframe thead th {\n",
              "        text-align: right;\n",
              "    }\n",
              "</style>\n",
              "<table border=\"1\" class=\"dataframe\">\n",
              "  <thead>\n",
              "    <tr style=\"text-align: right;\">\n",
              "      <th></th>\n",
              "      <th>label</th>\n",
              "      <th>pixel0</th>\n",
              "      <th>pixel1</th>\n",
              "      <th>pixel2</th>\n",
              "      <th>pixel3</th>\n",
              "      <th>pixel4</th>\n",
              "      <th>pixel5</th>\n",
              "      <th>pixel6</th>\n",
              "      <th>pixel7</th>\n",
              "      <th>pixel8</th>\n",
              "      <th>...</th>\n",
              "      <th>pixel774</th>\n",
              "      <th>pixel775</th>\n",
              "      <th>pixel776</th>\n",
              "      <th>pixel777</th>\n",
              "      <th>pixel778</th>\n",
              "      <th>pixel779</th>\n",
              "      <th>pixel780</th>\n",
              "      <th>pixel781</th>\n",
              "      <th>pixel782</th>\n",
              "      <th>pixel783</th>\n",
              "    </tr>\n",
              "  </thead>\n",
              "  <tbody>\n",
              "    <tr>\n",
              "      <th>0</th>\n",
              "      <td>1</td>\n",
              "      <td>0</td>\n",
              "      <td>0</td>\n",
              "      <td>0</td>\n",
              "      <td>0</td>\n",
              "      <td>0</td>\n",
              "      <td>0</td>\n",
              "      <td>0</td>\n",
              "      <td>0</td>\n",
              "      <td>0</td>\n",
              "      <td>...</td>\n",
              "      <td>0</td>\n",
              "      <td>0</td>\n",
              "      <td>0</td>\n",
              "      <td>0</td>\n",
              "      <td>0</td>\n",
              "      <td>0</td>\n",
              "      <td>0</td>\n",
              "      <td>0</td>\n",
              "      <td>0</td>\n",
              "      <td>0</td>\n",
              "    </tr>\n",
              "    <tr>\n",
              "      <th>1</th>\n",
              "      <td>0</td>\n",
              "      <td>0</td>\n",
              "      <td>0</td>\n",
              "      <td>0</td>\n",
              "      <td>0</td>\n",
              "      <td>0</td>\n",
              "      <td>0</td>\n",
              "      <td>0</td>\n",
              "      <td>0</td>\n",
              "      <td>0</td>\n",
              "      <td>...</td>\n",
              "      <td>0</td>\n",
              "      <td>0</td>\n",
              "      <td>0</td>\n",
              "      <td>0</td>\n",
              "      <td>0</td>\n",
              "      <td>0</td>\n",
              "      <td>0</td>\n",
              "      <td>0</td>\n",
              "      <td>0</td>\n",
              "      <td>0</td>\n",
              "    </tr>\n",
              "    <tr>\n",
              "      <th>2</th>\n",
              "      <td>1</td>\n",
              "      <td>0</td>\n",
              "      <td>0</td>\n",
              "      <td>0</td>\n",
              "      <td>0</td>\n",
              "      <td>0</td>\n",
              "      <td>0</td>\n",
              "      <td>0</td>\n",
              "      <td>0</td>\n",
              "      <td>0</td>\n",
              "      <td>...</td>\n",
              "      <td>0</td>\n",
              "      <td>0</td>\n",
              "      <td>0</td>\n",
              "      <td>0</td>\n",
              "      <td>0</td>\n",
              "      <td>0</td>\n",
              "      <td>0</td>\n",
              "      <td>0</td>\n",
              "      <td>0</td>\n",
              "      <td>0</td>\n",
              "    </tr>\n",
              "    <tr>\n",
              "      <th>3</th>\n",
              "      <td>4</td>\n",
              "      <td>0</td>\n",
              "      <td>0</td>\n",
              "      <td>0</td>\n",
              "      <td>0</td>\n",
              "      <td>0</td>\n",
              "      <td>0</td>\n",
              "      <td>0</td>\n",
              "      <td>0</td>\n",
              "      <td>0</td>\n",
              "      <td>...</td>\n",
              "      <td>0</td>\n",
              "      <td>0</td>\n",
              "      <td>0</td>\n",
              "      <td>0</td>\n",
              "      <td>0</td>\n",
              "      <td>0</td>\n",
              "      <td>0</td>\n",
              "      <td>0</td>\n",
              "      <td>0</td>\n",
              "      <td>0</td>\n",
              "    </tr>\n",
              "    <tr>\n",
              "      <th>4</th>\n",
              "      <td>0</td>\n",
              "      <td>0</td>\n",
              "      <td>0</td>\n",
              "      <td>0</td>\n",
              "      <td>0</td>\n",
              "      <td>0</td>\n",
              "      <td>0</td>\n",
              "      <td>0</td>\n",
              "      <td>0</td>\n",
              "      <td>0</td>\n",
              "      <td>...</td>\n",
              "      <td>0</td>\n",
              "      <td>0</td>\n",
              "      <td>0</td>\n",
              "      <td>0</td>\n",
              "      <td>0</td>\n",
              "      <td>0</td>\n",
              "      <td>0</td>\n",
              "      <td>0</td>\n",
              "      <td>0</td>\n",
              "      <td>0</td>\n",
              "    </tr>\n",
              "  </tbody>\n",
              "</table>\n",
              "<p>5 rows × 785 columns</p>\n",
              "</div>"
            ],
            "text/plain": [
              "   label  pixel0  pixel1  pixel2  pixel3  pixel4  pixel5  pixel6  pixel7  \\\n",
              "0      1       0       0       0       0       0       0       0       0   \n",
              "1      0       0       0       0       0       0       0       0       0   \n",
              "2      1       0       0       0       0       0       0       0       0   \n",
              "3      4       0       0       0       0       0       0       0       0   \n",
              "4      0       0       0       0       0       0       0       0       0   \n",
              "\n",
              "   pixel8  ...  pixel774  pixel775  pixel776  pixel777  pixel778  pixel779  \\\n",
              "0       0  ...         0         0         0         0         0         0   \n",
              "1       0  ...         0         0         0         0         0         0   \n",
              "2       0  ...         0         0         0         0         0         0   \n",
              "3       0  ...         0         0         0         0         0         0   \n",
              "4       0  ...         0         0         0         0         0         0   \n",
              "\n",
              "   pixel780  pixel781  pixel782  pixel783  \n",
              "0         0         0         0         0  \n",
              "1         0         0         0         0  \n",
              "2         0         0         0         0  \n",
              "3         0         0         0         0  \n",
              "4         0         0         0         0  \n",
              "\n",
              "[5 rows x 785 columns]"
            ]
          },
          "metadata": {
            "tags": []
          },
          "execution_count": 5
        }
      ]
    },
    {
      "cell_type": "markdown",
      "metadata": {
        "id": "16y21LacMWrO",
        "colab_type": "text"
      },
      "source": [
        "### Identify Data Descriptions and Statistics"
      ]
    },
    {
      "cell_type": "markdown",
      "metadata": {
        "id": "bBxWN6L6gYtH",
        "colab_type": "text"
      },
      "source": [
        "Descriptive statistics for all pixels won't be very helpful as there are so many of them.\n",
        "\n",
        "The mean value for label is 4.4 and the standard deviation is 2.8, so there is a good distribution across digits 0-9."
      ]
    },
    {
      "cell_type": "code",
      "metadata": {
        "id": "moQslPwWMrTv",
        "colab_type": "code",
        "outputId": "ddaf83f2-0d1e-4e85-d553-8559836a0ebe",
        "colab": {
          "base_uri": "https://localhost:8080/"
        }
      },
      "source": [
        "pd.DataFrame(mnist_train['label'].describe())"
      ],
      "execution_count": 0,
      "outputs": [
        {
          "output_type": "execute_result",
          "data": {
            "text/html": [
              "<div>\n",
              "<style scoped>\n",
              "    .dataframe tbody tr th:only-of-type {\n",
              "        vertical-align: middle;\n",
              "    }\n",
              "\n",
              "    .dataframe tbody tr th {\n",
              "        vertical-align: top;\n",
              "    }\n",
              "\n",
              "    .dataframe thead th {\n",
              "        text-align: right;\n",
              "    }\n",
              "</style>\n",
              "<table border=\"1\" class=\"dataframe\">\n",
              "  <thead>\n",
              "    <tr style=\"text-align: right;\">\n",
              "      <th></th>\n",
              "      <th>label</th>\n",
              "    </tr>\n",
              "  </thead>\n",
              "  <tbody>\n",
              "    <tr>\n",
              "      <th>count</th>\n",
              "      <td>42000.000000</td>\n",
              "    </tr>\n",
              "    <tr>\n",
              "      <th>mean</th>\n",
              "      <td>4.456643</td>\n",
              "    </tr>\n",
              "    <tr>\n",
              "      <th>std</th>\n",
              "      <td>2.887730</td>\n",
              "    </tr>\n",
              "    <tr>\n",
              "      <th>min</th>\n",
              "      <td>0.000000</td>\n",
              "    </tr>\n",
              "    <tr>\n",
              "      <th>25%</th>\n",
              "      <td>2.000000</td>\n",
              "    </tr>\n",
              "    <tr>\n",
              "      <th>50%</th>\n",
              "      <td>4.000000</td>\n",
              "    </tr>\n",
              "    <tr>\n",
              "      <th>75%</th>\n",
              "      <td>7.000000</td>\n",
              "    </tr>\n",
              "    <tr>\n",
              "      <th>max</th>\n",
              "      <td>9.000000</td>\n",
              "    </tr>\n",
              "  </tbody>\n",
              "</table>\n",
              "</div>"
            ],
            "text/plain": [
              "              label\n",
              "count  42000.000000\n",
              "mean       4.456643\n",
              "std        2.887730\n",
              "min        0.000000\n",
              "25%        2.000000\n",
              "50%        4.000000\n",
              "75%        7.000000\n",
              "max        9.000000"
            ]
          },
          "metadata": {
            "tags": []
          },
          "execution_count": 6
        }
      ]
    },
    {
      "cell_type": "markdown",
      "metadata": {
        "id": "jtthegLWMgxB",
        "colab_type": "text"
      },
      "source": [
        "### Visualize Input Data"
      ]
    },
    {
      "cell_type": "markdown",
      "metadata": {
        "id": "QB9gYK3YfHma",
        "colab_type": "text"
      },
      "source": [
        "#### Sample Digit Image"
      ]
    },
    {
      "cell_type": "markdown",
      "metadata": {
        "id": "BsJgkFjehA-e",
        "colab_type": "text"
      },
      "source": [
        "Selecting and rending one row as an image"
      ]
    },
    {
      "cell_type": "code",
      "metadata": {
        "id": "6-ehzCDAfH7F",
        "colab_type": "code",
        "outputId": "c5b50495-5053-4f97-9a09-104c7d5f45db",
        "colab": {
          "base_uri": "https://localhost:8080/"
        }
      },
      "source": [
        "plt.imshow(mnist_train.iloc[3500, 1:].values.reshape(28, 28), cmap=matplotlib.cm.binary, interpolation=\"nearest\")\n",
        "plt.axis(\"off\")\n",
        "plt.show()"
      ],
      "execution_count": 0,
      "outputs": [
        {
          "output_type": "display_data",
          "data": {
            "image/png": "[encoded data removed]",
            "text/plain": [
              "<Figure size 432x288 with 1 Axes>"
            ]
          },
          "metadata": {
            "tags": []
          }
        }
      ]
    },
    {
      "cell_type": "code",
      "metadata": {
        "id": "B3QDqvKdMTv7",
        "colab_type": "code",
        "outputId": "26955a89-8586-44ef-c893-f4907716b60f",
        "colab": {
          "base_uri": "https://localhost:8080/"
        }
      },
      "source": [
        "def plot_digits(instances, images_per_row = 10, **options):\n",
        "    size = 28\n",
        "    images_per_row = min(len(instances), images_per_row)\n",
        "    images = [instance.reshape(size,size) for instance in instances]\n",
        "    n_rows = (len(instances) - 1) // images_per_row + 1\n",
        "    row_images = []\n",
        "    n_empty = n_rows * images_per_row - len(instances)\n",
        "    images.append(np.zeros((size, size * n_empty)))\n",
        "    for row in range(n_rows):\n",
        "        rimages = images[row * images_per_row : (row + 1) * images_per_row]\n",
        "        row_images.append(np.concatenate(rimages, axis=1))\n",
        "    image = np.concatenate(row_images, axis=0)\n",
        "    plt.imshow(image, cmap = matplotlib.cm.binary, **options)\n",
        "    plt.axis('off')\n",
        "\n",
        "plt.figure(figsize=(9,9))\n",
        "example_images = np.r_[mnist_train.iloc[:12000:600, 1:], mnist_train.iloc[13000:30600:600, 1:], mnist_train.iloc[30600:60000:590, 1:]]\n",
        "plot_digits(example_images, images_per_row=10)\n",
        "plt.show()"
      ],
      "execution_count": 0,
      "outputs": [
        {
          "output_type": "display_data",
          "data": {
            "image/png": "[encoded data removed]",
            "text/plain": [
              "<Figure size 648x648 with 1 Axes>"
            ]
          },
          "metadata": {
            "tags": []
          }
        }
      ]
    },
    {
      "cell_type": "markdown",
      "metadata": {
        "id": "yXBkegeHe4C5",
        "colab_type": "text"
      },
      "source": [
        "#### Numeric Parameter Histograms"
      ]
    },
    {
      "cell_type": "markdown",
      "metadata": {
        "id": "anMNO5OmipOa",
        "colab_type": "text"
      },
      "source": [
        "The discriptive statistic analysis already indicated good coverage across digits in the training file, and a histogram visualizes that distribution."
      ]
    },
    {
      "cell_type": "code",
      "metadata": {
        "id": "8LwCsjg-NxqI",
        "colab_type": "code",
        "outputId": "1c5eabbb-6bb3-4576-d2e0-278a852cfed5",
        "colab": {
          "base_uri": "https://localhost:8080/"
        }
      },
      "source": [
        "mnist_train[['label']].hist(bins=20, figsize=(10,6))\n",
        "plt.show()"
      ],
      "execution_count": 0,
      "outputs": [
        {
          "output_type": "display_data",
          "data": {
            "image/png": "[encoded data removed]",
            "text/plain": [
              "<Figure size 720x432 with 1 Axes>"
            ]
          },
          "metadata": {
            "tags": []
          }
        }
      ]
    },
    {
      "cell_type": "markdown",
      "metadata": {
        "id": "aMwKv9ZBmjAr",
        "colab_type": "text"
      },
      "source": [
        "By examining a Histogram of the pixel values, we can see that the data ranges from 0-255, indicating that it is grayscale as opposed to 0 or 1 for black and white."
      ]
    },
    {
      "cell_type": "code",
      "metadata": {
        "id": "xs1M6IC4mjJR",
        "colab_type": "code",
        "outputId": "5b032769-cc98-4e06-9889-dba3d77824ce",
        "colab": {
          "base_uri": "https://localhost:8080/"
        }
      },
      "source": [
        "mnist_train.iloc[:, 1:].iloc[1].hist(figsize=(10,6))\n",
        "plt.show()"
      ],
      "execution_count": 0,
      "outputs": [
        {
          "output_type": "display_data",
          "data": {
            "image/png": "[encoded data removed]",
            "text/plain": [
              "<Figure size 720x432 with 1 Axes>"
            ]
          },
          "metadata": {
            "tags": []
          }
        }
      ]
    },
    {
      "cell_type": "markdown",
      "metadata": {
        "id": "f1V-6e_be80o",
        "colab_type": "text"
      },
      "source": [
        "#### Construct Average Digit Images"
      ]
    },
    {
      "cell_type": "markdown",
      "metadata": {
        "id": "JhftOlO4DFOT",
        "colab_type": "text"
      },
      "source": [
        "First we can examine what the average digit looks like"
      ]
    },
    {
      "cell_type": "code",
      "metadata": {
        "id": "KKhOx_nKB_7x",
        "colab_type": "code",
        "outputId": "e1bb6031-567f-4c3c-e7ce-dad093f50419",
        "colab": {
          "base_uri": "https://localhost:8080/"
        }
      },
      "source": [
        "dog_avg = np.array([dog[0].T for i, dog in enumerate(train) if labels[i]==1]).mean(axis=0)\n",
        "plt.imshow(dog_avg)\n",
        "plt.axis(\"off\")\n",
        "plt.show()"
      ],
      "execution_count": 0,
      "outputs": [
        {
          "output_type": "display_data",
          "data": {
            "image/png": "[encoded data removed]",
            "text/plain": [
              "<Figure size 432x288 with 1 Axes>"
            ]
          },
          "metadata": {
            "tags": []
          }
        }
      ]
    },
    {
      "cell_type": "markdown",
      "metadata": {
        "id": "7LY9-eDM-R4x",
        "colab_type": "text"
      },
      "source": [
        "Here we can construct average images for the 10 digits by taking the mean of all images with the same label"
      ]
    },
    {
      "cell_type": "code",
      "metadata": {
        "id": "ifNo1N6u3AG0",
        "colab_type": "code",
        "outputId": "9235f2cb-837a-4881-e9b0-e3a030ed85ab",
        "colab": {
          "base_uri": "https://localhost:8080/"
        }
      },
      "source": [
        "fig = plt.figure(figsize=(23,5))\n",
        "digit_count=len(mnist_train.groupby('label').mean())\n",
        "for i in range(digit_count):\n",
        "  fig.add_subplot(1,digit_count,i+1)\n",
        "  plt.imshow(mnist_train.groupby('label').mean().iloc[i, 0:].values.reshape(28, 28), cmap=matplotlib.cm.binary, interpolation=\"nearest\")\n",
        "  plt.axis(\"off\")"
      ],
      "execution_count": 0,
      "outputs": [
        {
          "output_type": "display_data",
          "data": {
            "image/png": "[encoded data removed]",
            "text/plain": [
              "<Figure size 1656x360 with 10 Axes>"
            ]
          },
          "metadata": {
            "tags": []
          }
        }
      ]
    },
    {
      "cell_type": "markdown",
      "metadata": {
        "id": "Wnmu8dIQfuij",
        "colab_type": "text"
      },
      "source": [
        "# Initial Tensorflow Model Training with Keras"
      ]
    },
    {
      "cell_type": "markdown",
      "metadata": {
        "id": "7h4gzsgBkSOK",
        "colab_type": "text"
      },
      "source": [
        "### Model Definition and Training"
      ]
    },
    {
      "cell_type": "code",
      "metadata": {
        "id": "zCFP0KirYusp",
        "colab_type": "code",
        "colab": {}
      },
      "source": [
        "training_images = mnist_train.iloc[:, 1:]\n",
        "training_labels = mnist_train.iloc[:, 0]\n",
        "\n",
        "from sklearn.model_selection import train_test_split\n",
        "\n",
        "training_images_scaled = training_images.astype('float32')/255.0\n",
        "mnist_test_scaled = mnist_test/255.0\n",
        "\n",
        "x_train, x_test, y_train, y_test = train_test_split(training_images_scaled, training_labels, random_state=RANDOM_SEED)\n",
        "\n",
        "num_classes = 10\n",
        "# convert class vectors to binary class matrices\n",
        "y_train = keras.utils.to_categorical(y_train, num_classes)\n",
        "y_test = keras.utils.to_categorical(y_test, num_classes)"
      ],
      "execution_count": 0,
      "outputs": []
    },
    {
      "cell_type": "code",
      "metadata": {
        "colab_type": "code",
        "id": "7-Yl08byGXi3",
        "outputId": "ce4d7620-70e5-4995-8a7b-6c0ebc39ee2d",
        "colab": {
          "base_uri": "https://localhost:8080/",
          "height": 147
        }
      },
      "source": [
        "batch_size = 90\n",
        "epochs = 20\n",
        "\n",
        "#Running a sequence\n",
        "keras_model = Sequential()\n",
        "keras_model.add(Dense(512, activation='relu', input_shape=(784,)))\n",
        "keras_model.add(Dropout(0.2))\n",
        "keras_model.add(Dense(512, activation='relu'))\n",
        "keras_model.add(Dropout(0.2))\n",
        "keras_model.add(Dense(num_classes, activation='softmax'))\n",
        "\n",
        "keras_model.compile(loss='categorical_crossentropy', optimizer=RMSprop(), metrics=['accuracy'])"
      ],
      "execution_count": 0,
      "outputs": [
        {
          "output_type": "stream",
          "text": [
            "WARNING:tensorflow:From /usr/local/lib/python3.6/dist-packages/tensorflow/python/framework/op_def_library.py:263: colocate_with (from tensorflow.python.framework.ops) is deprecated and will be removed in a future version.\n",
            "Instructions for updating:\n",
            "Colocations handled automatically by placer.\n",
            "WARNING:tensorflow:From /usr/local/lib/python3.6/dist-packages/keras/backend/tensorflow_backend.py:3445: calling dropout (from tensorflow.python.ops.nn_ops) with keep_prob is deprecated and will be removed in a future version.\n",
            "Instructions for updating:\n",
            "Please use `rate` instead of `keep_prob`. Rate should be set to `rate = 1 - keep_prob`.\n"
          ],
          "name": "stdout"
        }
      ]
    },
    {
      "cell_type": "code",
      "metadata": {
        "id": "Uab011FM7iAi",
        "colab_type": "code",
        "outputId": "a0f0968e-2edd-4304-e5d1-fd490ae3d139",
        "colab": {
          "base_uri": "https://localhost:8080/",
          "height": 329
        }
      },
      "source": [
        "keras_model.summary()"
      ],
      "execution_count": 0,
      "outputs": [
        {
          "output_type": "stream",
          "text": [
            "_________________________________________________________________\n",
            "Layer (type)                 Output Shape              Param #   \n",
            "=================================================================\n",
            "dense_1 (Dense)              (None, 512)               401920    \n",
            "_________________________________________________________________\n",
            "dropout_1 (Dropout)          (None, 512)               0         \n",
            "_________________________________________________________________\n",
            "dense_2 (Dense)              (None, 512)               262656    \n",
            "_________________________________________________________________\n",
            "dropout_2 (Dropout)          (None, 512)               0         \n",
            "_________________________________________________________________\n",
            "dense_3 (Dense)              (None, 10)                5130      \n",
            "=================================================================\n",
            "Total params: 669,706\n",
            "Trainable params: 669,706\n",
            "Non-trainable params: 0\n",
            "_________________________________________________________________\n"
          ],
          "name": "stdout"
        }
      ]
    },
    {
      "cell_type": "code",
      "metadata": {
        "id": "reJlrG7qutAK",
        "colab_type": "code",
        "outputId": "784f7eac-6051-4440-e5d9-0e8789277718",
        "colab": {
          "base_uri": "https://localhost:8080/",
          "height": 900
        }
      },
      "source": [
        "start=datetime.datetime.now()\n",
        "keras_model.fit(x_train, y_train, batch_size=batch_size, \n",
        "                epochs=epochs, verbose=1, \n",
        "                validation_data=(x_test, y_test))\n",
        "end=datetime.datetime.now()\n",
        "time1=end-start\n",
        "print(\"Time required to fit\",end-start)\n",
        "score1=keras_model.evaluate(x_test, y_test, verbose=0)\n",
        "print('Test loss:', score1[0])\n",
        "print('Test accuracy:', score1[1])"
      ],
      "execution_count": 0,
      "outputs": [
        {
          "output_type": "stream",
          "text": [
            "WARNING:tensorflow:From /usr/local/lib/python3.6/dist-packages/tensorflow/python/ops/math_ops.py:3066: to_int32 (from tensorflow.python.ops.math_ops) is deprecated and will be removed in a future version.\n",
            "Instructions for updating:\n",
            "Use tf.cast instead.\n",
            "Train on 31500 samples, validate on 10500 samples\n",
            "Epoch 1/20\n",
            "31500/31500 [==============================] - 3s 100us/step - loss: 0.2994 - acc: 0.9086 - val_loss: 0.1563 - val_acc: 0.9510\n",
            "Epoch 2/20\n",
            "31500/31500 [==============================] - 2s 69us/step - loss: 0.1275 - acc: 0.9608 - val_loss: 0.1003 - val_acc: 0.9689\n",
            "Epoch 3/20\n",
            "31500/31500 [==============================] - 2s 69us/step - loss: 0.0914 - acc: 0.9723 - val_loss: 0.1065 - val_acc: 0.9688\n",
            "Epoch 4/20\n",
            "31500/31500 [==============================] - 2s 76us/step - loss: 0.0691 - acc: 0.9788 - val_loss: 0.0881 - val_acc: 0.9757\n",
            "Epoch 5/20\n",
            "31500/31500 [==============================] - 2s 77us/step - loss: 0.0548 - acc: 0.9828 - val_loss: 0.1215 - val_acc: 0.9706\n",
            "Epoch 6/20\n",
            "31500/31500 [==============================] - 2s 79us/step - loss: 0.0482 - acc: 0.9843 - val_loss: 0.0938 - val_acc: 0.9754\n",
            "Epoch 7/20\n",
            "31500/31500 [==============================] - 2s 77us/step - loss: 0.0386 - acc: 0.9876 - val_loss: 0.1039 - val_acc: 0.9766\n",
            "Epoch 8/20\n",
            "31500/31500 [==============================] - 2s 77us/step - loss: 0.0377 - acc: 0.9881 - val_loss: 0.1078 - val_acc: 0.9772\n",
            "Epoch 9/20\n",
            "31500/31500 [==============================] - 2s 75us/step - loss: 0.0303 - acc: 0.9911 - val_loss: 0.1152 - val_acc: 0.9771\n",
            "Epoch 10/20\n",
            "31500/31500 [==============================] - 2s 73us/step - loss: 0.0277 - acc: 0.9916 - val_loss: 0.1309 - val_acc: 0.9747\n",
            "Epoch 11/20\n",
            "31500/31500 [==============================] - 2s 70us/step - loss: 0.0274 - acc: 0.9923 - val_loss: 0.1362 - val_acc: 0.9743\n",
            "Epoch 12/20\n",
            "31500/31500 [==============================] - 2s 69us/step - loss: 0.0235 - acc: 0.9931 - val_loss: 0.1172 - val_acc: 0.9795\n",
            "Epoch 13/20\n",
            "31500/31500 [==============================] - 2s 69us/step - loss: 0.0193 - acc: 0.9939 - val_loss: 0.1211 - val_acc: 0.9801\n",
            "Epoch 14/20\n",
            "31500/31500 [==============================] - 2s 69us/step - loss: 0.0216 - acc: 0.9937 - val_loss: 0.1255 - val_acc: 0.9777\n",
            "Epoch 15/20\n",
            "31500/31500 [==============================] - 2s 69us/step - loss: 0.0217 - acc: 0.9948 - val_loss: 0.1394 - val_acc: 0.9770\n",
            "Epoch 16/20\n",
            "31500/31500 [==============================] - 2s 69us/step - loss: 0.0196 - acc: 0.9945 - val_loss: 0.1366 - val_acc: 0.9774\n",
            "Epoch 17/20\n",
            "31500/31500 [==============================] - 2s 69us/step - loss: 0.0185 - acc: 0.9944 - val_loss: 0.1239 - val_acc: 0.9794\n",
            "Epoch 18/20\n",
            "31500/31500 [==============================] - 2s 69us/step - loss: 0.0135 - acc: 0.9960 - val_loss: 0.1343 - val_acc: 0.9812\n",
            "Epoch 19/20\n",
            "31500/31500 [==============================] - 2s 69us/step - loss: 0.0139 - acc: 0.9962 - val_loss: 0.1361 - val_acc: 0.9788\n",
            "Epoch 20/20\n",
            "31500/31500 [==============================] - 2s 69us/step - loss: 0.0167 - acc: 0.9958 - val_loss: 0.1393 - val_acc: 0.9795\n",
            "Time required to fit 0:00:46.339138\n",
            "Test loss: 0.13932555794939744\n",
            "Test accuracy: 0.9795238095238096\n"
          ],
          "name": "stdout"
        }
      ]
    },
    {
      "cell_type": "code",
      "metadata": {
        "id": "TXq8elYFzAyO",
        "colab_type": "code",
        "outputId": "99ffdca1-f93c-47df-ed76-351d5780e97f",
        "colab": {
          "base_uri": "https://localhost:8080/",
          "height": 35
        }
      },
      "source": [
        "keras_submission = pd.DataFrame()\n",
        "keras_submission['Label'] = keras_model.predict_classes(mnist_test_scaled, verbose=1)\n",
        "keras_submission.index += 1\n",
        "keras_submission.index.name = 'ImageId'"
      ],
      "execution_count": 0,
      "outputs": [
        {
          "output_type": "stream",
          "text": [
            "28000/28000 [==============================] - 1s 30us/step\n"
          ],
          "name": "stdout"
        }
      ]
    },
    {
      "cell_type": "markdown",
      "metadata": {
        "id": "Xl8bwEiMzbhW",
        "colab_type": "text"
      },
      "source": [
        "Run model on test dataset"
      ]
    },
    {
      "cell_type": "markdown",
      "metadata": {
        "id": "c7n3dtYKmRSJ",
        "colab_type": "text"
      },
      "source": [
        "### Model Results and Submission"
      ]
    },
    {
      "cell_type": "code",
      "metadata": {
        "id": "O_jW7LvLk0Vn",
        "colab_type": "code",
        "outputId": "6bd3b7c7-3a1d-4135-8e8e-2ea6ea7a132c",
        "colab": {
          "base_uri": "https://localhost:8080/",
          "height": 281
        }
      },
      "source": [
        "plt.imshow(mnist_test.iloc[12121, :].values.reshape(28, 28), cmap=matplotlib.cm.binary, interpolation=\"nearest\")\n",
        "plt.title('Prediction: {}'.format(keras_submission.iloc[12121, 0]))\n",
        "plt.axis(\"off\")\n",
        "plt.show()"
      ],
      "execution_count": 0,
      "outputs": [
        {
          "output_type": "display_data",
          "data": {
            "image/png": "[encoded data removed]",
            "text/plain": [
              "<Figure size 432x288 with 1 Axes>"
            ]
          },
          "metadata": {
            "tags": []
          }
        }
      ]
    },
    {
      "cell_type": "code",
      "metadata": {
        "id": "nkMimYvhNOfa",
        "colab_type": "code",
        "outputId": "83e2a2a2-7242-4602-e4ca-62b5738680a9",
        "colab": {
          "base_uri": "https://localhost:8080/",
          "height": 311
        }
      },
      "source": [
        "#Note this function was found online and was created by Yassine Ghouzam\n",
        "def plot_confusion_matrix(cm, classes,\n",
        "                          normalize=False,\n",
        "                          title='Confusion matrix',\n",
        "                          cmap=plt.cm.Blues):\n",
        "    \"\"\"\n",
        "    This function prints and plots the confusion matrix.\n",
        "    Normalization can be applied by setting `normalize=True`.\n",
        "    \"\"\"\n",
        "    plt.imshow(cm, interpolation='nearest', cmap=cmap)\n",
        "    plt.title(title)\n",
        "    plt.colorbar()\n",
        "    tick_marks = np.arange(len(classes))\n",
        "    plt.xticks(tick_marks, classes, rotation=45)\n",
        "    plt.yticks(tick_marks, classes)\n",
        "\n",
        "    if normalize:\n",
        "        cm = cm.astype('float') / cm.sum(axis=1)[:, np.newaxis]\n",
        "\n",
        "    thresh = cm.max() / 2.\n",
        "    for i, j in itertools.product(range(cm.shape[0]), range(cm.shape[1])):\n",
        "        plt.text(j, i, cm[i, j],\n",
        "                 horizontalalignment=\"center\",\n",
        "                 color=\"white\" if cm[i, j] > thresh else \"black\")\n",
        "\n",
        "    plt.tight_layout()\n",
        "    plt.ylabel('True label')\n",
        "    plt.xlabel('Predicted label')\n",
        "\n",
        "# Predict the values from the validation dataset\n",
        "validation_prediction = keras_model.predict(x_test)\n",
        "# Convert predictions classes to one hot vectors \n",
        "validation_prediction_classes = np.argmax(validation_prediction, axis = 1)\n",
        "# Convert validation observations to one hot vectors\n",
        "y_test_one_hot = np.argmax(y_test, axis = 1) \n",
        "# compute the confusion matrix\n",
        "confusion = confusion_matrix(y_test_one_hot, validation_prediction_classes) \n",
        "# plot the confusion matrix\n",
        "plot_confusion_matrix(confusion, classes = range(10))\n"
      ],
      "execution_count": 0,
      "outputs": [
        {
          "output_type": "display_data",
          "data": {
            "image/png": "[encoded data removed]",
            "text/plain": [
              "<Figure size 432x288 with 2 Axes>"
            ]
          },
          "metadata": {
            "tags": []
          }
        }
      ]
    },
    {
      "cell_type": "markdown",
      "metadata": {
        "id": "_3HE_W99RLFc",
        "colab_type": "text"
      },
      "source": [
        "Save results to Google Drive"
      ]
    },
    {
      "cell_type": "code",
      "metadata": {
        "id": "0btsGf6kQ7NI",
        "colab_type": "code",
        "outputId": "f713e568-1735-45cf-dac6-56703e82a58f",
        "colab": {
          "base_uri": "https://localhost:8080/",
          "height": 35
        }
      },
      "source": [
        "from google.colab import drive\n",
        "drive.mount('/content/gdrive')\n",
        "\n",
        "keras_submission.to_csv('/content/gdrive/My Drive/MSDS-422-Gift/module_6/keras_submission_cnn1.csv')"
      ],
      "execution_count": 0,
      "outputs": [
        {
          "output_type": "stream",
          "text": [
            "Drive already mounted at /content/gdrive; to attempt to forcibly remount, call drive.mount(\"/content/gdrive\", force_remount=True).\n"
          ],
          "name": "stdout"
        }
      ]
    },
    {
      "cell_type": "markdown",
      "metadata": {
        "id": "UJQRNWLBLyfp",
        "colab_type": "text"
      },
      "source": [
        "This data was submitted to Kaggle under the username ericpierce, and resulted in a score of 0.98000"
      ]
    },
    {
      "cell_type": "code",
      "metadata": {
        "id": "cXT_IYp0Hpr-",
        "colab_type": "code",
        "colab": {}
      },
      "source": [
        ""
      ],
      "execution_count": 0,
      "outputs": []
    },
    {
      "cell_type": "code",
      "metadata": {
        "id": "BS3Nhuhy-HMP",
        "colab_type": "code",
        "colab": {}
      },
      "source": [
        "results_df = pd.DataFrame({'TestName': 'Initial Dense CNN',\n",
        "   'NumberOfLayers': [5],\n",
        "   'NodesPerLayer': [512],\n",
        "   'ProcessingTime': [time1],\n",
        "   'TrainingSetAccuracy': [score1[1]],\n",
        "   'TestSetAccuracy': [0.98000]})\n",
        "results_df.set_index('TestName', inplace=True)"
      ],
      "execution_count": 0,
      "outputs": []
    },
    {
      "cell_type": "markdown",
      "metadata": {
        "colab_type": "text",
        "id": "jSu4fXOpAWzX"
      },
      "source": [
        "# Second Tensorflow Model Training with Keras"
      ]
    },
    {
      "cell_type": "markdown",
      "metadata": {
        "colab_type": "text",
        "id": "UIkaUTcXAWzh"
      },
      "source": [
        "### Model Definition and Training"
      ]
    },
    {
      "cell_type": "code",
      "metadata": {
        "colab_type": "code",
        "id": "Y8zv09mzAWzy",
        "colab": {}
      },
      "source": [
        "batch_size = 100\n",
        "epochs = 20\n",
        "num_classes = 10\n",
        "\n",
        "#Running a sequence\n",
        "keras_model = Sequential()\n",
        "keras_model.add(Dense(300, activation='relu', input_shape=(784,)))\n",
        "keras_model.add(Dropout(0.2))\n",
        "keras_model.add(Dense(num_classes, activation='softmax'))\n",
        "\n",
        "keras_model.compile(loss='categorical_crossentropy', optimizer=RMSprop(), metrics=['accuracy'])\n"
      ],
      "execution_count": 0,
      "outputs": []
    },
    {
      "cell_type": "code",
      "metadata": {
        "colab_type": "code",
        "outputId": "c75dc469-f738-4079-e3c2-91b2fdb25b11",
        "id": "9kR_iy_sAWz4",
        "colab": {
          "base_uri": "https://localhost:8080/",
          "height": 256
        }
      },
      "source": [
        "keras_model.summary()"
      ],
      "execution_count": 0,
      "outputs": [
        {
          "output_type": "stream",
          "text": [
            "_________________________________________________________________\n",
            "Layer (type)                 Output Shape              Param #   \n",
            "=================================================================\n",
            "dense_4 (Dense)              (None, 300)               235500    \n",
            "_________________________________________________________________\n",
            "dropout_3 (Dropout)          (None, 300)               0         \n",
            "_________________________________________________________________\n",
            "dense_5 (Dense)              (None, 10)                3010      \n",
            "=================================================================\n",
            "Total params: 238,510\n",
            "Trainable params: 238,510\n",
            "Non-trainable params: 0\n",
            "_________________________________________________________________\n"
          ],
          "name": "stdout"
        }
      ]
    },
    {
      "cell_type": "code",
      "metadata": {
        "colab_type": "code",
        "outputId": "0dad5015-9aa1-465e-f86a-af2c52c0857d",
        "id": "GcnU7BJTAW0D",
        "colab": {
          "base_uri": "https://localhost:8080/",
          "height": 825
        }
      },
      "source": [
        "start=datetime.datetime.now()\n",
        "keras_model.fit(x_train, y_train, batch_size=batch_size, \n",
        "                epochs=epochs, verbose=1, \n",
        "                validation_data=(x_test, y_test))\n",
        "end=datetime.datetime.now()\n",
        "time2=end-start\n",
        "print(\"Time required to fit\",end-start)\n",
        "score2=keras_model.evaluate(x_test, y_test, verbose=0)\n",
        "print('Test loss:', score2[0])\n",
        "print('Test accuracy:', score2[1])"
      ],
      "execution_count": 0,
      "outputs": [
        {
          "output_type": "stream",
          "text": [
            "Train on 31500 samples, validate on 10500 samples\n",
            "Epoch 1/20\n",
            "31500/31500 [==============================] - 2s 66us/step - loss: 0.3713 - acc: 0.8903 - val_loss: 0.1882 - val_acc: 0.9456\n",
            "Epoch 2/20\n",
            "31500/31500 [==============================] - 2s 61us/step - loss: 0.1753 - acc: 0.9486 - val_loss: 0.1375 - val_acc: 0.9579\n",
            "Epoch 3/20\n",
            "31500/31500 [==============================] - 2s 60us/step - loss: 0.1247 - acc: 0.9623 - val_loss: 0.1123 - val_acc: 0.9644\n",
            "Epoch 4/20\n",
            "31500/31500 [==============================] - 2s 60us/step - loss: 0.0963 - acc: 0.9717 - val_loss: 0.1040 - val_acc: 0.9682\n",
            "Epoch 5/20\n",
            "31500/31500 [==============================] - 2s 60us/step - loss: 0.0783 - acc: 0.9766 - val_loss: 0.0941 - val_acc: 0.9712\n",
            "Epoch 6/20\n",
            "31500/31500 [==============================] - 2s 59us/step - loss: 0.0661 - acc: 0.9794 - val_loss: 0.0868 - val_acc: 0.9747\n",
            "Epoch 7/20\n",
            "31500/31500 [==============================] - 2s 60us/step - loss: 0.0538 - acc: 0.9835 - val_loss: 0.0884 - val_acc: 0.9724\n",
            "Epoch 8/20\n",
            "31500/31500 [==============================] - 2s 60us/step - loss: 0.0485 - acc: 0.9850 - val_loss: 0.0898 - val_acc: 0.9733\n",
            "Epoch 9/20\n",
            "31500/31500 [==============================] - 2s 60us/step - loss: 0.0410 - acc: 0.9873 - val_loss: 0.0851 - val_acc: 0.9747\n",
            "Epoch 10/20\n",
            "31500/31500 [==============================] - 2s 60us/step - loss: 0.0346 - acc: 0.9892 - val_loss: 0.0814 - val_acc: 0.9772\n",
            "Epoch 11/20\n",
            "31500/31500 [==============================] - 2s 60us/step - loss: 0.0303 - acc: 0.9910 - val_loss: 0.0856 - val_acc: 0.9760\n",
            "Epoch 12/20\n",
            "31500/31500 [==============================] - 2s 60us/step - loss: 0.0268 - acc: 0.9915 - val_loss: 0.0844 - val_acc: 0.9775\n",
            "Epoch 13/20\n",
            "31500/31500 [==============================] - 2s 59us/step - loss: 0.0260 - acc: 0.9915 - val_loss: 0.0893 - val_acc: 0.9760\n",
            "Epoch 14/20\n",
            "31500/31500 [==============================] - 2s 60us/step - loss: 0.0208 - acc: 0.9937 - val_loss: 0.0838 - val_acc: 0.9784\n",
            "Epoch 15/20\n",
            "31500/31500 [==============================] - 2s 60us/step - loss: 0.0181 - acc: 0.9941 - val_loss: 0.0856 - val_acc: 0.9760\n",
            "Epoch 16/20\n",
            "31500/31500 [==============================] - 2s 60us/step - loss: 0.0182 - acc: 0.9947 - val_loss: 0.0844 - val_acc: 0.9778\n",
            "Epoch 17/20\n",
            "31500/31500 [==============================] - 2s 60us/step - loss: 0.0163 - acc: 0.9952 - val_loss: 0.0841 - val_acc: 0.9788\n",
            "Epoch 18/20\n",
            "31500/31500 [==============================] - 2s 66us/step - loss: 0.0142 - acc: 0.9953 - val_loss: 0.0858 - val_acc: 0.9777\n",
            "Epoch 19/20\n",
            "31500/31500 [==============================] - 2s 67us/step - loss: 0.0136 - acc: 0.9957 - val_loss: 0.0837 - val_acc: 0.9804\n",
            "Epoch 20/20\n",
            "31500/31500 [==============================] - 2s 64us/step - loss: 0.0128 - acc: 0.9957 - val_loss: 0.0842 - val_acc: 0.9791\n",
            "Time required to fit 0:00:38.751420\n",
            "Test loss: 0.08419530514415655\n",
            "Test accuracy: 0.9791428571428571\n"
          ],
          "name": "stdout"
        }
      ]
    },
    {
      "cell_type": "code",
      "metadata": {
        "colab_type": "code",
        "outputId": "f8351547-350e-42a5-bdfc-12043de230d3",
        "id": "Gp1EtRDcAW0L",
        "colab": {
          "base_uri": "https://localhost:8080/",
          "height": 35
        }
      },
      "source": [
        "keras_submission = pd.DataFrame()\n",
        "keras_submission['Label'] = keras_model.predict_classes(mnist_test_scaled, verbose=1)\n",
        "keras_submission.index += 1\n",
        "keras_submission.index.name = 'ImageId'"
      ],
      "execution_count": 0,
      "outputs": [
        {
          "output_type": "stream",
          "text": [
            "28000/28000 [==============================] - 1s 28us/step\n"
          ],
          "name": "stdout"
        }
      ]
    },
    {
      "cell_type": "markdown",
      "metadata": {
        "colab_type": "text",
        "id": "7wVmYgZsAW0S"
      },
      "source": [
        "Run model on test dataset"
      ]
    },
    {
      "cell_type": "markdown",
      "metadata": {
        "colab_type": "text",
        "id": "x-2egakzAW0T"
      },
      "source": [
        "### Model Results and Submission"
      ]
    },
    {
      "cell_type": "code",
      "metadata": {
        "colab_type": "code",
        "outputId": "436391e8-7cfe-4aeb-d5df-eff395340f86",
        "id": "E84nEeC0AW0W",
        "colab": {
          "base_uri": "https://localhost:8080/",
          "height": 281
        }
      },
      "source": [
        "plt.imshow(mnist_test.iloc[12121, :].values.reshape(28, 28), cmap=matplotlib.cm.binary, interpolation=\"nearest\")\n",
        "plt.title('Prediction: {}'.format(keras_submission.iloc[12121, 0]))\n",
        "plt.axis(\"off\")\n",
        "plt.show()"
      ],
      "execution_count": 0,
      "outputs": [
        {
          "output_type": "display_data",
          "data": {
            "image/png": "[encoded data removed]",
            "text/plain": [
              "<Figure size 432x288 with 1 Axes>"
            ]
          },
          "metadata": {
            "tags": []
          }
        }
      ]
    },
    {
      "cell_type": "code",
      "metadata": {
        "colab_type": "code",
        "outputId": "1867e936-e210-4a4b-f311-e1af9c31a674",
        "id": "5cYCdi7BPUgI",
        "colab": {
          "base_uri": "https://localhost:8080/",
          "height": 311
        }
      },
      "source": [
        "#Note this function was found online and was created by Yassine Ghouzam\n",
        "def plot_confusion_matrix(cm, classes,\n",
        "                          normalize=False,\n",
        "                          title='Confusion matrix',\n",
        "                          cmap=plt.cm.Blues):\n",
        "    \"\"\"\n",
        "    This function prints and plots the confusion matrix.\n",
        "    Normalization can be applied by setting `normalize=True`.\n",
        "    \"\"\"\n",
        "    plt.imshow(cm, interpolation='nearest', cmap=cmap)\n",
        "    plt.title(title)\n",
        "    plt.colorbar()\n",
        "    tick_marks = np.arange(len(classes))\n",
        "    plt.xticks(tick_marks, classes, rotation=45)\n",
        "    plt.yticks(tick_marks, classes)\n",
        "\n",
        "    if normalize:\n",
        "        cm = cm.astype('float') / cm.sum(axis=1)[:, np.newaxis]\n",
        "\n",
        "    thresh = cm.max() / 2.\n",
        "    for i, j in itertools.product(range(cm.shape[0]), range(cm.shape[1])):\n",
        "        plt.text(j, i, cm[i, j],\n",
        "                 horizontalalignment=\"center\",\n",
        "                 color=\"white\" if cm[i, j] > thresh else \"black\")\n",
        "\n",
        "    plt.tight_layout()\n",
        "    plt.ylabel('True label')\n",
        "    plt.xlabel('Predicted label')\n",
        "\n",
        "# Predict the values from the validation dataset\n",
        "validation_prediction = keras_model.predict(x_test)\n",
        "# Convert predictions classes to one hot vectors \n",
        "validation_prediction_classes = np.argmax(validation_prediction, axis = 1)\n",
        "# Convert validation observations to one hot vectors\n",
        "y_test_one_hot = np.argmax(y_test, axis = 1) \n",
        "# compute the confusion matrix\n",
        "confusion = confusion_matrix(y_test_one_hot, validation_prediction_classes) \n",
        "# plot the confusion matrix\n",
        "plot_confusion_matrix(confusion, classes = range(10))\n"
      ],
      "execution_count": 0,
      "outputs": [
        {
          "output_type": "display_data",
          "data": {
            "image/png": "[encoded data removed]",
            "text/plain": [
              "<Figure size 432x288 with 2 Axes>"
            ]
          },
          "metadata": {
            "tags": []
          }
        }
      ]
    },
    {
      "cell_type": "markdown",
      "metadata": {
        "colab_type": "text",
        "id": "fP0X62njAW0j"
      },
      "source": [
        "Save results to Google Drive"
      ]
    },
    {
      "cell_type": "code",
      "metadata": {
        "colab_type": "code",
        "outputId": "5631ea4f-5847-444a-ec5c-46d051eb0f45",
        "id": "Br7mjouDAW0l",
        "colab": {
          "base_uri": "https://localhost:8080/",
          "height": 35
        }
      },
      "source": [
        "from google.colab import drive\n",
        "drive.mount('/content/gdrive')\n",
        "\n",
        "keras_submission.to_csv('/content/gdrive/My Drive/MSDS-422-Gift/module_6/keras_submission_cnn2.csv')"
      ],
      "execution_count": 0,
      "outputs": [
        {
          "output_type": "stream",
          "text": [
            "Drive already mounted at /content/gdrive; to attempt to forcibly remount, call drive.mount(\"/content/gdrive\", force_remount=True).\n"
          ],
          "name": "stdout"
        }
      ]
    },
    {
      "cell_type": "markdown",
      "metadata": {
        "colab_type": "text",
        "id": "kRKrVw7-AW0z"
      },
      "source": [
        "This data was submitted to Kaggle under the username ericpierce, and resulted in a score of 0.97471"
      ]
    },
    {
      "cell_type": "code",
      "metadata": {
        "id": "FFczc9LkIskv",
        "colab_type": "code",
        "outputId": "97a8a188-897f-4368-ea23-45291c1a357c",
        "colab": {
          "base_uri": "https://localhost:8080/",
          "height": 112
        }
      },
      "source": [
        "results_df2=(pd.DataFrame({'TestName': 'Second Dense CNN',\n",
        "   'NumberOfLayers': [3],\n",
        "   'NodesPerLayer': [300],\n",
        "   'ProcessingTime': [time2],\n",
        "   'TrainingSetAccuracy': [score2[1]],\n",
        "   'TestSetAccuracy': [0.97471]}))\n",
        "results_df2.set_index('TestName', inplace=True)\n",
        "results_df2"
      ],
      "execution_count": 0,
      "outputs": [
        {
          "output_type": "execute_result",
          "data": {
            "text/html": [
              "<div>\n",
              "<style scoped>\n",
              "    .dataframe tbody tr th:only-of-type {\n",
              "        vertical-align: middle;\n",
              "    }\n",
              "\n",
              "    .dataframe tbody tr th {\n",
              "        vertical-align: top;\n",
              "    }\n",
              "\n",
              "    .dataframe thead th {\n",
              "        text-align: right;\n",
              "    }\n",
              "</style>\n",
              "<table border=\"1\" class=\"dataframe\">\n",
              "  <thead>\n",
              "    <tr style=\"text-align: right;\">\n",
              "      <th></th>\n",
              "      <th>NumberOfLayers</th>\n",
              "      <th>NodesPerLayer</th>\n",
              "      <th>ProcessingTime</th>\n",
              "      <th>TrainingSetAccuracy</th>\n",
              "      <th>TestSetAccuracy</th>\n",
              "    </tr>\n",
              "    <tr>\n",
              "      <th>TestName</th>\n",
              "      <th></th>\n",
              "      <th></th>\n",
              "      <th></th>\n",
              "      <th></th>\n",
              "      <th></th>\n",
              "    </tr>\n",
              "  </thead>\n",
              "  <tbody>\n",
              "    <tr>\n",
              "      <th>Second Dense CNN</th>\n",
              "      <td>3</td>\n",
              "      <td>300</td>\n",
              "      <td>00:00:38.751420</td>\n",
              "      <td>0.979143</td>\n",
              "      <td>0.97471</td>\n",
              "    </tr>\n",
              "  </tbody>\n",
              "</table>\n",
              "</div>"
            ],
            "text/plain": [
              "                  NumberOfLayers  NodesPerLayer  ProcessingTime  \\\n",
              "TestName                                                          \n",
              "Second Dense CNN               3            300 00:00:38.751420   \n",
              "\n",
              "                  TrainingSetAccuracy  TestSetAccuracy  \n",
              "TestName                                                \n",
              "Second Dense CNN             0.979143          0.97471  "
            ]
          },
          "metadata": {
            "tags": []
          },
          "execution_count": 29
        }
      ]
    },
    {
      "cell_type": "markdown",
      "metadata": {
        "colab_type": "text",
        "id": "SypgKaXDK98F"
      },
      "source": [
        "# Third Tensorflow Model Training with Keras"
      ]
    },
    {
      "cell_type": "markdown",
      "metadata": {
        "colab_type": "text",
        "id": "8ScsoKqnK98I"
      },
      "source": [
        "### Model Definition and Training"
      ]
    },
    {
      "cell_type": "code",
      "metadata": {
        "colab_type": "code",
        "id": "HGcmGJ0dK98L",
        "colab": {}
      },
      "source": [
        "batch_size = 100\n",
        "epochs = 20\n",
        "num_classes = 10\n",
        "\n",
        "#Running a sequence\n",
        "keras_model = Sequential()\n",
        "keras_model.add(Dense(512, activation='relu', input_shape=(784,)))\n",
        "keras_model.add(Dropout(0.2))\n",
        "keras_model.add(Dense(512, activation='relu', input_shape=(784,)))\n",
        "keras_model.add(Dropout(0.2))\n",
        "keras_model.add(Dense(512, activation='relu', input_shape=(784,)))\n",
        "keras_model.add(Dropout(0.2))\n",
        "keras_model.add(Dense(num_classes, activation='softmax'))\n",
        "\n",
        "keras_model.compile(loss='categorical_crossentropy', optimizer=RMSprop(), metrics=['accuracy'])\n"
      ],
      "execution_count": 0,
      "outputs": []
    },
    {
      "cell_type": "code",
      "metadata": {
        "colab_type": "code",
        "outputId": "a4aa735b-12c3-47f6-d122-aaec214f23c7",
        "id": "_jwEJPh5K98R",
        "colab": {
          "base_uri": "https://localhost:8080/",
          "height": 403
        }
      },
      "source": [
        "keras_model.summary()"
      ],
      "execution_count": 0,
      "outputs": [
        {
          "output_type": "stream",
          "text": [
            "_________________________________________________________________\n",
            "Layer (type)                 Output Shape              Param #   \n",
            "=================================================================\n",
            "dense_6 (Dense)              (None, 512)               401920    \n",
            "_________________________________________________________________\n",
            "dropout_4 (Dropout)          (None, 512)               0         \n",
            "_________________________________________________________________\n",
            "dense_7 (Dense)              (None, 512)               262656    \n",
            "_________________________________________________________________\n",
            "dropout_5 (Dropout)          (None, 512)               0         \n",
            "_________________________________________________________________\n",
            "dense_8 (Dense)              (None, 512)               262656    \n",
            "_________________________________________________________________\n",
            "dropout_6 (Dropout)          (None, 512)               0         \n",
            "_________________________________________________________________\n",
            "dense_9 (Dense)              (None, 10)                5130      \n",
            "=================================================================\n",
            "Total params: 932,362\n",
            "Trainable params: 932,362\n",
            "Non-trainable params: 0\n",
            "_________________________________________________________________\n"
          ],
          "name": "stdout"
        }
      ]
    },
    {
      "cell_type": "code",
      "metadata": {
        "colab_type": "code",
        "outputId": "4635aad7-92a7-4214-e712-89f6e289db50",
        "id": "RIA12122K98Z",
        "colab": {
          "base_uri": "https://localhost:8080/",
          "height": 825
        }
      },
      "source": [
        "start=datetime.datetime.now()\n",
        "keras_model.fit(x_train, y_train, batch_size=batch_size, \n",
        "                epochs=epochs, verbose=1, \n",
        "                validation_data=(x_test, y_test))\n",
        "end=datetime.datetime.now()\n",
        "time3=end-start\n",
        "print(\"Time required to fit\",end-start)\n",
        "score3=keras_model.evaluate(x_test, y_test, verbose=0)\n",
        "print('Test loss:', score3[0])\n",
        "print('Test accuracy:', score3[1])"
      ],
      "execution_count": 0,
      "outputs": [
        {
          "output_type": "stream",
          "text": [
            "Train on 31500 samples, validate on 10500 samples\n",
            "Epoch 1/20\n",
            "31500/31500 [==============================] - 3s 80us/step - loss: 0.3324 - acc: 0.8946 - val_loss: 0.1609 - val_acc: 0.9506\n",
            "Epoch 2/20\n",
            "31500/31500 [==============================] - 2s 73us/step - loss: 0.1464 - acc: 0.9570 - val_loss: 0.0992 - val_acc: 0.9699\n",
            "Epoch 3/20\n",
            "31500/31500 [==============================] - 2s 77us/step - loss: 0.1049 - acc: 0.9695 - val_loss: 0.1005 - val_acc: 0.9714\n",
            "Epoch 4/20\n",
            "31500/31500 [==============================] - 2s 76us/step - loss: 0.0836 - acc: 0.9757 - val_loss: 0.1035 - val_acc: 0.9730\n",
            "Epoch 5/20\n",
            "31500/31500 [==============================] - 2s 77us/step - loss: 0.0709 - acc: 0.9786 - val_loss: 0.1060 - val_acc: 0.9740\n",
            "Epoch 6/20\n",
            "31500/31500 [==============================] - 2s 75us/step - loss: 0.0615 - acc: 0.9823 - val_loss: 0.1069 - val_acc: 0.9764\n",
            "Epoch 7/20\n",
            "31500/31500 [==============================] - 2s 70us/step - loss: 0.0592 - acc: 0.9824 - val_loss: 0.1279 - val_acc: 0.9722\n",
            "Epoch 8/20\n",
            "31500/31500 [==============================] - 2s 70us/step - loss: 0.0501 - acc: 0.9866 - val_loss: 0.1242 - val_acc: 0.9764\n",
            "Epoch 9/20\n",
            "31500/31500 [==============================] - 2s 70us/step - loss: 0.0491 - acc: 0.9867 - val_loss: 0.1249 - val_acc: 0.9770\n",
            "Epoch 10/20\n",
            "31500/31500 [==============================] - 2s 71us/step - loss: 0.0518 - acc: 0.9867 - val_loss: 0.1103 - val_acc: 0.9783\n",
            "Epoch 11/20\n",
            "31500/31500 [==============================] - 2s 72us/step - loss: 0.0475 - acc: 0.9880 - val_loss: 0.1304 - val_acc: 0.9763\n",
            "Epoch 12/20\n",
            "31500/31500 [==============================] - 2s 69us/step - loss: 0.0427 - acc: 0.9896 - val_loss: 0.1433 - val_acc: 0.9770\n",
            "Epoch 13/20\n",
            "31500/31500 [==============================] - 2s 70us/step - loss: 0.0431 - acc: 0.9898 - val_loss: 0.1530 - val_acc: 0.9763\n",
            "Epoch 14/20\n",
            "31500/31500 [==============================] - 2s 71us/step - loss: 0.0404 - acc: 0.9903 - val_loss: 0.1661 - val_acc: 0.9752\n",
            "Epoch 15/20\n",
            "31500/31500 [==============================] - 2s 70us/step - loss: 0.0401 - acc: 0.9908 - val_loss: 0.1554 - val_acc: 0.9778\n",
            "Epoch 16/20\n",
            "31500/31500 [==============================] - 2s 71us/step - loss: 0.0407 - acc: 0.9906 - val_loss: 0.1314 - val_acc: 0.9792\n",
            "Epoch 17/20\n",
            "31500/31500 [==============================] - 2s 70us/step - loss: 0.0379 - acc: 0.9921 - val_loss: 0.1431 - val_acc: 0.9779\n",
            "Epoch 18/20\n",
            "31500/31500 [==============================] - 2s 71us/step - loss: 0.0396 - acc: 0.9920 - val_loss: 0.1561 - val_acc: 0.9779\n",
            "Epoch 19/20\n",
            "31500/31500 [==============================] - 2s 71us/step - loss: 0.0389 - acc: 0.9922 - val_loss: 0.1715 - val_acc: 0.9788\n",
            "Epoch 20/20\n",
            "31500/31500 [==============================] - 2s 71us/step - loss: 0.0449 - acc: 0.9910 - val_loss: 0.1677 - val_acc: 0.9761\n",
            "Time required to fit 0:00:46.031852\n",
            "Test loss: 0.1676742799468162\n",
            "Test accuracy: 0.9760952380952381\n"
          ],
          "name": "stdout"
        }
      ]
    },
    {
      "cell_type": "code",
      "metadata": {
        "colab_type": "code",
        "outputId": "9187741c-e1b7-4475-ce2f-8c11088fd22a",
        "id": "jk9Z525XK98k",
        "colab": {
          "base_uri": "https://localhost:8080/",
          "height": 35
        }
      },
      "source": [
        "keras_submission = pd.DataFrame()\n",
        "keras_submission['Label'] = keras_model.predict_classes(mnist_test_scaled, verbose=1)\n",
        "keras_submission.index += 1\n",
        "keras_submission.index.name = 'ImageId'"
      ],
      "execution_count": 0,
      "outputs": [
        {
          "output_type": "stream",
          "text": [
            "28000/28000 [==============================] - 1s 33us/step\n"
          ],
          "name": "stdout"
        }
      ]
    },
    {
      "cell_type": "markdown",
      "metadata": {
        "colab_type": "text",
        "id": "pyv-W6o9K98u"
      },
      "source": [
        "Run model on test dataset"
      ]
    },
    {
      "cell_type": "markdown",
      "metadata": {
        "colab_type": "text",
        "id": "wXpglNlgK98v"
      },
      "source": [
        "### Model Results and Submission"
      ]
    },
    {
      "cell_type": "code",
      "metadata": {
        "colab_type": "code",
        "outputId": "a3c367ca-998b-43df-f9ec-1f5114d36380",
        "id": "Nxk4ZbRmK98x",
        "colab": {
          "base_uri": "https://localhost:8080/",
          "height": 281
        }
      },
      "source": [
        "plt.imshow(mnist_test.iloc[12121, :].values.reshape(28, 28), cmap=matplotlib.cm.binary, interpolation=\"nearest\")\n",
        "plt.title('Prediction: {}'.format(keras_submission.iloc[12121, 0]))\n",
        "plt.axis(\"off\")\n",
        "plt.show()"
      ],
      "execution_count": 0,
      "outputs": [
        {
          "output_type": "display_data",
          "data": {
            "image/png": "[encoded data removed]",
            "text/plain": [
              "<Figure size 432x288 with 1 Axes>"
            ]
          },
          "metadata": {
            "tags": []
          }
        }
      ]
    },
    {
      "cell_type": "code",
      "metadata": {
        "colab_type": "code",
        "outputId": "0eb0038a-2b4c-443b-f7d6-2a0975b83d2a",
        "id": "G_2oECR6PWtK",
        "colab": {
          "base_uri": "https://localhost:8080/",
          "height": 311
        }
      },
      "source": [
        "#Note this function was found online and was created by Yassine Ghouzam\n",
        "def plot_confusion_matrix(cm, classes,\n",
        "                          normalize=False,\n",
        "                          title='Confusion matrix',\n",
        "                          cmap=plt.cm.Blues):\n",
        "    \"\"\"\n",
        "    This function prints and plots the confusion matrix.\n",
        "    Normalization can be applied by setting `normalize=True`.\n",
        "    \"\"\"\n",
        "    plt.imshow(cm, interpolation='nearest', cmap=cmap)\n",
        "    plt.title(title)\n",
        "    plt.colorbar()\n",
        "    tick_marks = np.arange(len(classes))\n",
        "    plt.xticks(tick_marks, classes, rotation=45)\n",
        "    plt.yticks(tick_marks, classes)\n",
        "\n",
        "    if normalize:\n",
        "        cm = cm.astype('float') / cm.sum(axis=1)[:, np.newaxis]\n",
        "\n",
        "    thresh = cm.max() / 2.\n",
        "    for i, j in itertools.product(range(cm.shape[0]), range(cm.shape[1])):\n",
        "        plt.text(j, i, cm[i, j],\n",
        "                 horizontalalignment=\"center\",\n",
        "                 color=\"white\" if cm[i, j] > thresh else \"black\")\n",
        "\n",
        "    plt.tight_layout()\n",
        "    plt.ylabel('True label')\n",
        "    plt.xlabel('Predicted label')\n",
        "\n",
        "# Predict the values from the validation dataset\n",
        "validation_prediction = keras_model.predict(x_test)\n",
        "# Convert predictions classes to one hot vectors \n",
        "validation_prediction_classes = np.argmax(validation_prediction, axis = 1)\n",
        "# Convert validation observations to one hot vectors\n",
        "y_test_one_hot = np.argmax(y_test, axis = 1) \n",
        "# compute the confusion matrix\n",
        "confusion = confusion_matrix(y_test_one_hot, validation_prediction_classes) \n",
        "# plot the confusion matrix\n",
        "plot_confusion_matrix(confusion, classes = range(10))\n"
      ],
      "execution_count": 0,
      "outputs": [
        {
          "output_type": "display_data",
          "data": {
            "image/png": "[encoded data removed]",
            "text/plain": [
              "<Figure size 432x288 with 2 Axes>"
            ]
          },
          "metadata": {
            "tags": []
          }
        }
      ]
    },
    {
      "cell_type": "markdown",
      "metadata": {
        "colab_type": "text",
        "id": "loJ8UEptK98_"
      },
      "source": [
        "Save results to Google Drive"
      ]
    },
    {
      "cell_type": "code",
      "metadata": {
        "colab_type": "code",
        "outputId": "01686cd3-6001-4ac3-9ffc-e740e5b5c596",
        "id": "BODzhpJkK99B",
        "colab": {
          "base_uri": "https://localhost:8080/",
          "height": 35
        }
      },
      "source": [
        "from google.colab import drive\n",
        "drive.mount('/content/gdrive')\n",
        "\n",
        "keras_submission.to_csv('/content/gdrive/My Drive/MSDS-422-Gift/module_6/keras_submission_cnn3.csv')"
      ],
      "execution_count": 0,
      "outputs": [
        {
          "output_type": "stream",
          "text": [
            "Drive already mounted at /content/gdrive; to attempt to forcibly remount, call drive.mount(\"/content/gdrive\", force_remount=True).\n"
          ],
          "name": "stdout"
        }
      ]
    },
    {
      "cell_type": "markdown",
      "metadata": {
        "colab_type": "text",
        "id": "vY9nT_WUK99M"
      },
      "source": [
        "This data was submitted to Kaggle under the username ericpierce, and resulted in a score of 0.97442"
      ]
    },
    {
      "cell_type": "code",
      "metadata": {
        "colab_type": "code",
        "outputId": "f99bbd09-596f-4795-b433-8241f94edd91",
        "id": "0wyHpgZBK99N",
        "colab": {
          "base_uri": "https://localhost:8080/",
          "height": 112
        }
      },
      "source": [
        "results_df3=(pd.DataFrame({'TestName': 'Third Dense CNN',\n",
        "   'NumberOfLayers': [7],\n",
        "   'NodesPerLayer': [512],\n",
        "   'ProcessingTime': [time3],\n",
        "   'TrainingSetAccuracy': [score3[1]],\n",
        "   'TestSetAccuracy': [0.97442]}))\n",
        "results_df3.set_index('TestName', inplace=True)\n",
        "results_df3"
      ],
      "execution_count": 0,
      "outputs": [
        {
          "output_type": "execute_result",
          "data": {
            "text/html": [
              "<div>\n",
              "<style scoped>\n",
              "    .dataframe tbody tr th:only-of-type {\n",
              "        vertical-align: middle;\n",
              "    }\n",
              "\n",
              "    .dataframe tbody tr th {\n",
              "        vertical-align: top;\n",
              "    }\n",
              "\n",
              "    .dataframe thead th {\n",
              "        text-align: right;\n",
              "    }\n",
              "</style>\n",
              "<table border=\"1\" class=\"dataframe\">\n",
              "  <thead>\n",
              "    <tr style=\"text-align: right;\">\n",
              "      <th></th>\n",
              "      <th>NumberOfLayers</th>\n",
              "      <th>NodesPerLayer</th>\n",
              "      <th>ProcessingTime</th>\n",
              "      <th>TrainingSetAccuracy</th>\n",
              "      <th>TestSetAccuracy</th>\n",
              "    </tr>\n",
              "    <tr>\n",
              "      <th>TestName</th>\n",
              "      <th></th>\n",
              "      <th></th>\n",
              "      <th></th>\n",
              "      <th></th>\n",
              "      <th></th>\n",
              "    </tr>\n",
              "  </thead>\n",
              "  <tbody>\n",
              "    <tr>\n",
              "      <th>Third Dense CNN</th>\n",
              "      <td>7</td>\n",
              "      <td>512</td>\n",
              "      <td>00:00:46.031852</td>\n",
              "      <td>0.976095</td>\n",
              "      <td>0.97442</td>\n",
              "    </tr>\n",
              "  </tbody>\n",
              "</table>\n",
              "</div>"
            ],
            "text/plain": [
              "                 NumberOfLayers  NodesPerLayer  ProcessingTime  \\\n",
              "TestName                                                         \n",
              "Third Dense CNN               7            512 00:00:46.031852   \n",
              "\n",
              "                 TrainingSetAccuracy  TestSetAccuracy  \n",
              "TestName                                               \n",
              "Third Dense CNN             0.976095          0.97442  "
            ]
          },
          "metadata": {
            "tags": []
          },
          "execution_count": 37
        }
      ]
    },
    {
      "cell_type": "markdown",
      "metadata": {
        "colab_type": "text",
        "id": "JkuOf3NmLuSC"
      },
      "source": [
        "# Fourth Tensorflow Model Training with Keras"
      ]
    },
    {
      "cell_type": "markdown",
      "metadata": {
        "colab_type": "text",
        "id": "YcdwW2y1LuSK"
      },
      "source": [
        "### Model Definition and Training"
      ]
    },
    {
      "cell_type": "code",
      "metadata": {
        "colab_type": "code",
        "id": "unCur70_LuSR",
        "colab": {}
      },
      "source": [
        "batch_size = 100\n",
        "epochs = 20\n",
        "num_classes = 10\n",
        "\n",
        "#Running a sequence\n",
        "keras_model = Sequential()\n",
        "keras_model.add(Dense(784, activation='relu', input_shape=(784,)))\n",
        "keras_model.add(Dropout(0.2))\n",
        "keras_model.add(Dense(784, activation='relu', input_shape=(784,)))\n",
        "keras_model.add(Dropout(0.2))\n",
        "keras_model.add(Dense(num_classes, activation='softmax'))\n",
        "\n",
        "keras_model.compile(loss='categorical_crossentropy', optimizer=RMSprop(), metrics=['accuracy'])\n"
      ],
      "execution_count": 0,
      "outputs": []
    },
    {
      "cell_type": "code",
      "metadata": {
        "colab_type": "code",
        "outputId": "f9d47bda-df41-4086-9896-3c2bc997c5e5",
        "id": "YrlylAiaLuSZ",
        "colab": {
          "base_uri": "https://localhost:8080/",
          "height": 329
        }
      },
      "source": [
        "keras_model.summary()"
      ],
      "execution_count": 0,
      "outputs": [
        {
          "output_type": "stream",
          "text": [
            "_________________________________________________________________\n",
            "Layer (type)                 Output Shape              Param #   \n",
            "=================================================================\n",
            "dense_10 (Dense)             (None, 784)               615440    \n",
            "_________________________________________________________________\n",
            "dropout_7 (Dropout)          (None, 784)               0         \n",
            "_________________________________________________________________\n",
            "dense_11 (Dense)             (None, 784)               615440    \n",
            "_________________________________________________________________\n",
            "dropout_8 (Dropout)          (None, 784)               0         \n",
            "_________________________________________________________________\n",
            "dense_12 (Dense)             (None, 10)                7850      \n",
            "=================================================================\n",
            "Total params: 1,238,730\n",
            "Trainable params: 1,238,730\n",
            "Non-trainable params: 0\n",
            "_________________________________________________________________\n"
          ],
          "name": "stdout"
        }
      ]
    },
    {
      "cell_type": "code",
      "metadata": {
        "colab_type": "code",
        "outputId": "a1c6d0e7-c14e-42eb-91dc-afd573e489de",
        "id": "PFA9mFpJLuSm",
        "colab": {
          "base_uri": "https://localhost:8080/",
          "height": 825
        }
      },
      "source": [
        "start=datetime.datetime.now()\n",
        "keras_model.fit(x_train, y_train, batch_size=batch_size, \n",
        "                epochs=epochs, verbose=1, \n",
        "                validation_data=(x_test, y_test))\n",
        "end=datetime.datetime.now()\n",
        "time4=end-start\n",
        "print(\"Time required to fit\",end-start)\n",
        "score4=keras_model.evaluate(x_test, y_test, verbose=0)\n",
        "print('Test loss:', score4[0])\n",
        "print('Test accuracy:', score4[1])"
      ],
      "execution_count": 0,
      "outputs": [
        {
          "output_type": "stream",
          "text": [
            "Train on 31500 samples, validate on 10500 samples\n",
            "Epoch 1/20\n",
            "31500/31500 [==============================] - 3s 81us/step - loss: 0.2929 - acc: 0.9097 - val_loss: 0.1255 - val_acc: 0.9593\n",
            "Epoch 2/20\n",
            "31500/31500 [==============================] - 2s 71us/step - loss: 0.1194 - acc: 0.9636 - val_loss: 0.1021 - val_acc: 0.9685\n",
            "Epoch 3/20\n",
            "31500/31500 [==============================] - 2s 71us/step - loss: 0.0830 - acc: 0.9739 - val_loss: 0.0985 - val_acc: 0.9725\n",
            "Epoch 4/20\n",
            "31500/31500 [==============================] - 2s 71us/step - loss: 0.0648 - acc: 0.9804 - val_loss: 0.0867 - val_acc: 0.9768\n",
            "Epoch 5/20\n",
            "31500/31500 [==============================] - 2s 70us/step - loss: 0.0509 - acc: 0.9849 - val_loss: 0.0944 - val_acc: 0.9776\n",
            "Epoch 6/20\n",
            "31500/31500 [==============================] - 2s 70us/step - loss: 0.0426 - acc: 0.9869 - val_loss: 0.0989 - val_acc: 0.9771\n",
            "Epoch 7/20\n",
            "31500/31500 [==============================] - 2s 70us/step - loss: 0.0379 - acc: 0.9886 - val_loss: 0.1257 - val_acc: 0.9721\n",
            "Epoch 8/20\n",
            "31500/31500 [==============================] - 2s 71us/step - loss: 0.0331 - acc: 0.9895 - val_loss: 0.1513 - val_acc: 0.9708\n",
            "Epoch 9/20\n",
            "31500/31500 [==============================] - 2s 70us/step - loss: 0.0306 - acc: 0.9912 - val_loss: 0.1168 - val_acc: 0.9783\n",
            "Epoch 10/20\n",
            "31500/31500 [==============================] - 2s 70us/step - loss: 0.0252 - acc: 0.9923 - val_loss: 0.1350 - val_acc: 0.9770\n",
            "Epoch 11/20\n",
            "31500/31500 [==============================] - 2s 71us/step - loss: 0.0241 - acc: 0.9933 - val_loss: 0.1328 - val_acc: 0.9761\n",
            "Epoch 12/20\n",
            "31500/31500 [==============================] - 2s 70us/step - loss: 0.0205 - acc: 0.9941 - val_loss: 0.1419 - val_acc: 0.9775\n",
            "Epoch 13/20\n",
            "31500/31500 [==============================] - 2s 71us/step - loss: 0.0216 - acc: 0.9942 - val_loss: 0.1190 - val_acc: 0.9811\n",
            "Epoch 14/20\n",
            "31500/31500 [==============================] - 2s 71us/step - loss: 0.0200 - acc: 0.9943 - val_loss: 0.1773 - val_acc: 0.9750\n",
            "Epoch 15/20\n",
            "31500/31500 [==============================] - 2s 70us/step - loss: 0.0172 - acc: 0.9951 - val_loss: 0.1337 - val_acc: 0.9796\n",
            "Epoch 16/20\n",
            "31500/31500 [==============================] - 2s 71us/step - loss: 0.0190 - acc: 0.9947 - val_loss: 0.1601 - val_acc: 0.9766\n",
            "Epoch 17/20\n",
            "31500/31500 [==============================] - 2s 76us/step - loss: 0.0153 - acc: 0.9957 - val_loss: 0.1366 - val_acc: 0.9808\n",
            "Epoch 18/20\n",
            "31500/31500 [==============================] - 2s 75us/step - loss: 0.0174 - acc: 0.9957 - val_loss: 0.1338 - val_acc: 0.9802\n",
            "Epoch 19/20\n",
            "31500/31500 [==============================] - 2s 76us/step - loss: 0.0148 - acc: 0.9965 - val_loss: 0.1539 - val_acc: 0.9799\n",
            "Epoch 20/20\n",
            "31500/31500 [==============================] - 2s 76us/step - loss: 0.0168 - acc: 0.9957 - val_loss: 0.1497 - val_acc: 0.9812\n",
            "Time required to fit 0:00:45.756806\n",
            "Test loss: 0.149740920533352\n",
            "Test accuracy: 0.9812380952380952\n"
          ],
          "name": "stdout"
        }
      ]
    },
    {
      "cell_type": "code",
      "metadata": {
        "colab_type": "code",
        "outputId": "d6e5948c-fcef-42a4-85f7-d9c520fbb1c8",
        "id": "FggMAe-iLuSy",
        "colab": {
          "base_uri": "https://localhost:8080/",
          "height": 35
        }
      },
      "source": [
        "keras_submission = pd.DataFrame()\n",
        "keras_submission['Label'] = keras_model.predict_classes(mnist_test_scaled, verbose=1)\n",
        "keras_submission.index += 1\n",
        "keras_submission.index.name = 'ImageId'"
      ],
      "execution_count": 0,
      "outputs": [
        {
          "output_type": "stream",
          "text": [
            "28000/28000 [==============================] - 1s 34us/step\n"
          ],
          "name": "stdout"
        }
      ]
    },
    {
      "cell_type": "markdown",
      "metadata": {
        "colab_type": "text",
        "id": "Cf28hhUYLuS7"
      },
      "source": [
        "Run model on test dataset"
      ]
    },
    {
      "cell_type": "markdown",
      "metadata": {
        "colab_type": "text",
        "id": "LfsniQgeLuS-"
      },
      "source": [
        "### Model Results and Submission"
      ]
    },
    {
      "cell_type": "code",
      "metadata": {
        "colab_type": "code",
        "outputId": "b9f7320c-c9a4-4f5e-db00-a56f9a7ee21a",
        "id": "HZTGv6zXLuS_",
        "colab": {
          "base_uri": "https://localhost:8080/",
          "height": 281
        }
      },
      "source": [
        "plt.imshow(mnist_test.iloc[12121, :].values.reshape(28, 28), cmap=matplotlib.cm.binary, interpolation=\"nearest\")\n",
        "plt.title('Prediction: {}'.format(keras_submission.iloc[12121, 0]))\n",
        "plt.axis(\"off\")\n",
        "plt.show()"
      ],
      "execution_count": 0,
      "outputs": [
        {
          "output_type": "display_data",
          "data": {
            "image/png": "[encoded data removed]",
            "text/plain": [
              "<Figure size 432x288 with 1 Axes>"
            ]
          },
          "metadata": {
            "tags": []
          }
        }
      ]
    },
    {
      "cell_type": "code",
      "metadata": {
        "colab_type": "code",
        "outputId": "527d442f-62dc-442d-a32e-8767d7f8922a",
        "id": "X2r0YkmzPYAr",
        "colab": {
          "base_uri": "https://localhost:8080/",
          "height": 311
        }
      },
      "source": [
        "#Note this function was found online and was created by Yassine Ghouzam\n",
        "def plot_confusion_matrix(cm, classes,\n",
        "                          normalize=False,\n",
        "                          title='Confusion matrix',\n",
        "                          cmap=plt.cm.Blues):\n",
        "    \"\"\"\n",
        "    This function prints and plots the confusion matrix.\n",
        "    Normalization can be applied by setting `normalize=True`.\n",
        "    \"\"\"\n",
        "    plt.imshow(cm, interpolation='nearest', cmap=cmap)\n",
        "    plt.title(title)\n",
        "    plt.colorbar()\n",
        "    tick_marks = np.arange(len(classes))\n",
        "    plt.xticks(tick_marks, classes, rotation=45)\n",
        "    plt.yticks(tick_marks, classes)\n",
        "\n",
        "    if normalize:\n",
        "        cm = cm.astype('float') / cm.sum(axis=1)[:, np.newaxis]\n",
        "\n",
        "    thresh = cm.max() / 2.\n",
        "    for i, j in itertools.product(range(cm.shape[0]), range(cm.shape[1])):\n",
        "        plt.text(j, i, cm[i, j],\n",
        "                 horizontalalignment=\"center\",\n",
        "                 color=\"white\" if cm[i, j] > thresh else \"black\")\n",
        "\n",
        "    plt.tight_layout()\n",
        "    plt.ylabel('True label')\n",
        "    plt.xlabel('Predicted label')\n",
        "\n",
        "# Predict the values from the validation dataset\n",
        "validation_prediction = keras_model.predict(x_test)\n",
        "# Convert predictions classes to one hot vectors \n",
        "validation_prediction_classes = np.argmax(validation_prediction, axis = 1)\n",
        "# Convert validation observations to one hot vectors\n",
        "y_test_one_hot = np.argmax(y_test, axis = 1) \n",
        "# compute the confusion matrix\n",
        "confusion = confusion_matrix(y_test_one_hot, validation_prediction_classes) \n",
        "# plot the confusion matrix\n",
        "plot_confusion_matrix(confusion, classes = range(10))\n"
      ],
      "execution_count": 0,
      "outputs": [
        {
          "output_type": "display_data",
          "data": {
            "image/png": "[encoded data removed]",
            "text/plain": [
              "<Figure size 432x288 with 2 Axes>"
            ]
          },
          "metadata": {
            "tags": []
          }
        }
      ]
    },
    {
      "cell_type": "markdown",
      "metadata": {
        "colab_type": "text",
        "id": "YpLMwIJ9LuTJ"
      },
      "source": [
        "Save results to Google Drive"
      ]
    },
    {
      "cell_type": "code",
      "metadata": {
        "colab_type": "code",
        "outputId": "744c274a-c762-44e6-84c9-9f17ebc0bc45",
        "id": "8C9SFYRNLuTM",
        "colab": {
          "base_uri": "https://localhost:8080/",
          "height": 35
        }
      },
      "source": [
        "from google.colab import drive\n",
        "drive.mount('/content/gdrive')\n",
        "\n",
        "keras_submission.to_csv('/content/gdrive/My Drive/MSDS-422-Gift/module_6/keras_submission_cnn4.csv')"
      ],
      "execution_count": 0,
      "outputs": [
        {
          "output_type": "stream",
          "text": [
            "Drive already mounted at /content/gdrive; to attempt to forcibly remount, call drive.mount(\"/content/gdrive\", force_remount=True).\n"
          ],
          "name": "stdout"
        }
      ]
    },
    {
      "cell_type": "markdown",
      "metadata": {
        "colab_type": "text",
        "id": "A41sKbG-LuTa"
      },
      "source": [
        "This data was submitted to Kaggle under the username ericpierce, and resulted in a score of 0.97800"
      ]
    },
    {
      "cell_type": "code",
      "metadata": {
        "colab_type": "code",
        "outputId": "e5bbcf80-5013-433d-b37f-4dc27bd7e75a",
        "id": "zpf2PIe_LuTd",
        "colab": {
          "base_uri": "https://localhost:8080/",
          "height": 206
        }
      },
      "source": [
        "results_df4=(pd.DataFrame({'TestName': 'Fourth Dense CNN',\n",
        "   'NumberOfLayers': [5],\n",
        "   'NodesPerLayer': [784],\n",
        "   'ProcessingTime': [time4],\n",
        "   'TrainingSetAccuracy': [score4[1]],\n",
        "   'TestSetAccuracy': [0.97800]}))\n",
        "results_df4.set_index('TestName', inplace=True)\n",
        "results_df = pd.concat([results_df,results_df2,results_df3,results_df4], ignore_index=False)\n",
        "results_df"
      ],
      "execution_count": 0,
      "outputs": [
        {
          "output_type": "execute_result",
          "data": {
            "text/html": [
              "<div>\n",
              "<style scoped>\n",
              "    .dataframe tbody tr th:only-of-type {\n",
              "        vertical-align: middle;\n",
              "    }\n",
              "\n",
              "    .dataframe tbody tr th {\n",
              "        vertical-align: top;\n",
              "    }\n",
              "\n",
              "    .dataframe thead th {\n",
              "        text-align: right;\n",
              "    }\n",
              "</style>\n",
              "<table border=\"1\" class=\"dataframe\">\n",
              "  <thead>\n",
              "    <tr style=\"text-align: right;\">\n",
              "      <th></th>\n",
              "      <th>NumberOfLayers</th>\n",
              "      <th>NodesPerLayer</th>\n",
              "      <th>ProcessingTime</th>\n",
              "      <th>TrainingSetAccuracy</th>\n",
              "      <th>TestSetAccuracy</th>\n",
              "    </tr>\n",
              "    <tr>\n",
              "      <th>TestName</th>\n",
              "      <th></th>\n",
              "      <th></th>\n",
              "      <th></th>\n",
              "      <th></th>\n",
              "      <th></th>\n",
              "    </tr>\n",
              "  </thead>\n",
              "  <tbody>\n",
              "    <tr>\n",
              "      <th>Initial Dense CNN</th>\n",
              "      <td>5</td>\n",
              "      <td>512</td>\n",
              "      <td>00:00:46.339138</td>\n",
              "      <td>0.979524</td>\n",
              "      <td>0.98000</td>\n",
              "    </tr>\n",
              "    <tr>\n",
              "      <th>Second Dense CNN</th>\n",
              "      <td>3</td>\n",
              "      <td>300</td>\n",
              "      <td>00:00:38.751420</td>\n",
              "      <td>0.979143</td>\n",
              "      <td>0.97471</td>\n",
              "    </tr>\n",
              "    <tr>\n",
              "      <th>Third Dense CNN</th>\n",
              "      <td>7</td>\n",
              "      <td>512</td>\n",
              "      <td>00:00:46.031852</td>\n",
              "      <td>0.976095</td>\n",
              "      <td>0.97442</td>\n",
              "    </tr>\n",
              "    <tr>\n",
              "      <th>Fourth Dense CNN</th>\n",
              "      <td>5</td>\n",
              "      <td>784</td>\n",
              "      <td>00:00:45.756806</td>\n",
              "      <td>0.981238</td>\n",
              "      <td>0.97800</td>\n",
              "    </tr>\n",
              "  </tbody>\n",
              "</table>\n",
              "</div>"
            ],
            "text/plain": [
              "                   NumberOfLayers  NodesPerLayer  ProcessingTime  \\\n",
              "TestName                                                           \n",
              "Initial Dense CNN               5            512 00:00:46.339138   \n",
              "Second Dense CNN                3            300 00:00:38.751420   \n",
              "Third Dense CNN                 7            512 00:00:46.031852   \n",
              "Fourth Dense CNN                5            784 00:00:45.756806   \n",
              "\n",
              "                   TrainingSetAccuracy  TestSetAccuracy  \n",
              "TestName                                                 \n",
              "Initial Dense CNN             0.979524          0.98000  \n",
              "Second Dense CNN              0.979143          0.97471  \n",
              "Third Dense CNN               0.976095          0.97442  \n",
              "Fourth Dense CNN              0.981238          0.97800  "
            ]
          },
          "metadata": {
            "tags": []
          },
          "execution_count": 57
        }
      ]
    },
    {
      "cell_type": "code",
      "metadata": {
        "id": "Pzxw18gQRZbd",
        "colab_type": "code",
        "outputId": "f721b40e-431a-46d2-ddb1-c8f7aa52f326",
        "colab": {
          "base_uri": "https://localhost:8080/",
          "height": 879
        }
      },
      "source": [
        "results_df[['ProcessingTime']].plot(kind='barh', title='Processing time')\n",
        "results_df[['TrainingSetAccuracy']].plot(kind='barh', title='Training Accuracy')\n",
        "results_df[['TestSetAccuracy']].plot(kind='barh', title='Test Accuracy from Kaggle.com')\n",
        "plt.show()"
      ],
      "execution_count": 0,
      "outputs": [
        {
          "output_type": "stream",
          "text": [
            "/usr/local/lib/python3.6/dist-packages/pandas/plotting/_core.py:223: FutureWarning: Passing integers to fillna is deprecated, will raise a TypeError in a future version.  To retain the old behavior, pass pd.Timedelta(seconds=n) instead.\n",
            "  data = data.fillna(fillna)\n"
          ],
          "name": "stderr"
        },
        {
          "output_type": "display_data",
          "data": {
            "image/png": "[encoded data removed]",
            "text/plain": [
              "<Figure size 432x288 with 1 Axes>"
            ]
          },
          "metadata": {
            "tags": []
          }
        },
        {
          "output_type": "display_data",
          "data": {
            "image/png": "[encoded data removed]",
            "text/plain": [
              "<Figure size 432x288 with 1 Axes>"
            ]
          },
          "metadata": {
            "tags": []
          }
        },
        {
          "output_type": "display_data",
          "data": {
            "image/png": "[encoded data removed]",
            "text/plain": [
              "<Figure size 432x288 with 1 Axes>"
            ]
          },
          "metadata": {
            "tags": []
          }
        }
      ]
    },
    {
      "cell_type": "markdown",
      "metadata": {
        "id": "a8sTTiU7mEO0",
        "colab_type": "text"
      },
      "source": [
        "# Recommendations"
      ]
    },
    {
      "cell_type": "markdown",
      "metadata": {
        "id": "rro60naomfPK",
        "colab_type": "text"
      },
      "source": [
        "Of the methods tested, leveraging five layers with 512 nodes yielded the highest performance, however it is clear that there are several other approaches possible here, and that many other possible topology combinations may yield a higher performance level."
      ]
    }
  ]
}