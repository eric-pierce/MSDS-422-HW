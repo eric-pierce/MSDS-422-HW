{
  "nbformat": 4,
  "nbformat_minor": 0,
  "metadata": {
    "colab": {
      "name": "epierce_assignment_3.ipynb",
      "version": "0.3.2",
      "provenance": [],
      "collapsed_sections": [],
      "include_colab_link": true
    },
    "kernelspec": {
      "name": "python3",
      "display_name": "Python 3"
    }
  },
  "cells": [
    {
      "cell_type": "markdown",
      "metadata": {
        "id": "view-in-github",
        "colab_type": "text"
      },
      "source": [
        "<a href=\"https://colab.research.google.com/github/eric-pierce/MSDS-422-HW/blob/master/epierce_assignment_3.ipynb\" target=\"_parent\"><img src=\"https://colab.research.google.com/assets/colab-badge.svg\" alt=\"Open In Colab\"/></a>"
      ]
    },
    {
      "cell_type": "markdown",
      "metadata": {
        "id": "-5zceVtRCaiv",
        "colab_type": "text"
      },
      "source": [
        "# Assignment 3: Evaluating Regression Models\n",
        "## MSDS-422 Spring 2019 - Eric Pierce\n",
        "## Background  \n",
        "A real estate brokerage firm has procured data collected as part of a Boston Housing Study that was conducted in 1978. This data includes corrections that were made by research teams in 1996, and is available in the comma delimited file <boston.csv>.\n",
        "## Objective\n",
        "The real estate brokerage firm is interested in assessing market value of residential real estate, use machine learning to complement conventional methods for assessing market value. We will be evaluating four different regression modeling methods:\n",
        "\n",
        "*   Linear Regression\n",
        "*  Ridge Regression\n",
        "*  Lasso Regression\n",
        "*  Elastic Net\n",
        "\n",
        "\n"
      ]
    },
    {
      "cell_type": "markdown",
      "metadata": {
        "id": "bKxPnwqCiMI6",
        "colab_type": "text"
      },
      "source": [
        "## Data Dictionary"
      ]
    },
    {
      "cell_type": "markdown",
      "metadata": {
        "id": "ks1XhE8hkz3J",
        "colab_type": "text"
      },
      "source": [
        "\n",
        "| Variable Name | Description |\n",
        "| --- | --- | --- |\n",
        "| neighborhood | Name of the Boston neighborhood (location of the census tract) |\n",
        "| mv | Median value of homes in thousands of 1970 dollars |\n",
        "| nox | Air pollution (nitrogen oxide concentration) |\n",
        "| crim | Crime rate |\n",
        "| zn | Percent of land zoned for lots |\n",
        "| indus | Percent of business that is industrial or nonretail |\n",
        "| chas | On the Charles River (1) or not (0) |\n",
        "| rooms | Average number of rooms per home |\n",
        "| age | Percentage of homes built before 1940 |\n",
        "| dis | Weighted distance to employment centers |\n",
        "| rad | Accessibility to radial highways |\n",
        "| tax | Tax rate |\n",
        "| ptratio | Pupil/teacher ratio in public schools |\n",
        "| lstat | Percentage of population of lower socio-economic status |"
      ]
    },
    {
      "cell_type": "markdown",
      "metadata": {
        "id": "nYEMbhy2CzhL",
        "colab_type": "text"
      },
      "source": [
        "# Setup and Data Import\n",
        "Initialize the data and libraries used as part of this project"
      ]
    },
    {
      "cell_type": "markdown",
      "metadata": {
        "id": "kGc5tYFCFJ_W",
        "colab_type": "text"
      },
      "source": [
        "### Library Import and Setting Initialization"
      ]
    },
    {
      "cell_type": "code",
      "metadata": {
        "id": "ePXywTrhwMY0",
        "colab_type": "code",
        "colab": {}
      },
      "source": [
        "# import base packages into the namespace for this program\n",
        "import numpy as np\n",
        "import pandas as pd\n",
        "import matplotlib.pyplot as plt\n",
        "import seaborn as sns\n",
        "import sklearn.linear_model \n",
        "from sklearn.linear_model import LinearRegression, Ridge, Lasso, ElasticNet, RidgeCV, LassoCV\n",
        "from sklearn.metrics import mean_squared_error, r2_score  \n",
        "from math import sqrt  # for root mean-squared error calculation\n",
        "\n",
        "# seed value for random number generators to obtain reproducible results\n",
        "RANDOM_SEED = 1\n",
        "\n",
        "# although we standardize X and y variables on input,\n",
        "# we will fit the intercept term in the models\n",
        "# Expect fitted values to be close to zero\n",
        "SET_FIT_INTERCEPT = True"
      ],
      "execution_count": 0,
      "outputs": []
    },
    {
      "cell_type": "markdown",
      "metadata": {
        "id": "BWtxf9-nFyzK",
        "colab_type": "text"
      },
      "source": [
        "### Data Import"
      ]
    },
    {
      "cell_type": "code",
      "metadata": {
        "id": "nENa0SBjwUO1",
        "colab_type": "code",
        "colab": {}
      },
      "source": [
        "# Read in the bank data\n",
        "boston_input = pd.read_csv('https://raw.githubusercontent.com/eric-pierce/MSDS-422/master/boston.csv')"
      ],
      "execution_count": 0,
      "outputs": []
    },
    {
      "cell_type": "markdown",
      "metadata": {
        "id": "VQrdb1UJGaan",
        "colab_type": "text"
      },
      "source": [
        "# Exploratory Data Analysis\n",
        "*   Clean Data\n",
        "*   Identify Data Descriptions and Statistics\n",
        "*   Visualize Input Data"
      ]
    },
    {
      "cell_type": "markdown",
      "metadata": {
        "id": "ks9OAB1ZHV2x",
        "colab_type": "text"
      },
      "source": [
        "### Clean Data"
      ]
    },
    {
      "cell_type": "code",
      "metadata": {
        "id": "svM252TmHZrl",
        "colab_type": "code",
        "outputId": "42d1bbde-4a58-4902-e034-b50f7adfbde0",
        "colab": {
          "base_uri": "https://localhost:8080/",
          "height": 35
        }
      },
      "source": [
        "# examine the shape of original input data\n",
        "print(boston_input.shape)"
      ],
      "execution_count": 0,
      "outputs": [
        {
          "output_type": "stream",
          "text": [
            "(506, 14)\n"
          ],
          "name": "stdout"
        }
      ]
    },
    {
      "cell_type": "code",
      "metadata": {
        "id": "iaC7IgSUG2Sv",
        "colab_type": "code",
        "outputId": "758de975-0ba4-4fdf-fa60-349b284ef85e",
        "colab": {
          "base_uri": "https://localhost:8080/",
          "height": 35
        }
      },
      "source": [
        "# drop observations with missing data, if any\n",
        "boston_input.dropna()\n",
        "# examine the shape of input data after dropping missing data.\n",
        "print(boston_input.shape)"
      ],
      "execution_count": 0,
      "outputs": [
        {
          "output_type": "stream",
          "text": [
            "(506, 14)\n"
          ],
          "name": "stdout"
        }
      ]
    },
    {
      "cell_type": "code",
      "metadata": {
        "id": "-pkAMML7H1WZ",
        "colab_type": "code",
        "outputId": "842ed410-c412-4b72-ec2f-0351e8de97a7",
        "colab": {
          "base_uri": "https://localhost:8080/",
          "height": 274
        }
      },
      "source": [
        "# look at the list of column names, note that y is the response\n",
        "list(boston_input.columns.values)"
      ],
      "execution_count": 0,
      "outputs": [
        {
          "output_type": "execute_result",
          "data": {
            "text/plain": [
              "['neighborhood',\n",
              " 'crim',\n",
              " 'zn',\n",
              " 'indus',\n",
              " 'chas',\n",
              " 'nox',\n",
              " 'rooms',\n",
              " 'age',\n",
              " 'dis',\n",
              " 'rad',\n",
              " 'tax',\n",
              " 'ptratio',\n",
              " 'lstat',\n",
              " 'mv']"
            ]
          },
          "metadata": {
            "tags": []
          },
          "execution_count": 5
        }
      ]
    },
    {
      "cell_type": "code",
      "metadata": {
        "id": "vgCH5X1zIQ_q",
        "colab_type": "code",
        "outputId": "cc336775-31d6-4c9b-d66c-bf1db177467b",
        "colab": {
          "base_uri": "https://localhost:8080/",
          "height": 206
        }
      },
      "source": [
        "# look at the beginning of the DataFrame\n",
        "boston_input.head()"
      ],
      "execution_count": 0,
      "outputs": [
        {
          "output_type": "execute_result",
          "data": {
            "text/html": [
              "<div>\n",
              "<style scoped>\n",
              "    .dataframe tbody tr th:only-of-type {\n",
              "        vertical-align: middle;\n",
              "    }\n",
              "\n",
              "    .dataframe tbody tr th {\n",
              "        vertical-align: top;\n",
              "    }\n",
              "\n",
              "    .dataframe thead th {\n",
              "        text-align: right;\n",
              "    }\n",
              "</style>\n",
              "<table border=\"1\" class=\"dataframe\">\n",
              "  <thead>\n",
              "    <tr style=\"text-align: right;\">\n",
              "      <th></th>\n",
              "      <th>neighborhood</th>\n",
              "      <th>crim</th>\n",
              "      <th>zn</th>\n",
              "      <th>indus</th>\n",
              "      <th>chas</th>\n",
              "      <th>nox</th>\n",
              "      <th>rooms</th>\n",
              "      <th>age</th>\n",
              "      <th>dis</th>\n",
              "      <th>rad</th>\n",
              "      <th>tax</th>\n",
              "      <th>ptratio</th>\n",
              "      <th>lstat</th>\n",
              "      <th>mv</th>\n",
              "    </tr>\n",
              "  </thead>\n",
              "  <tbody>\n",
              "    <tr>\n",
              "      <th>0</th>\n",
              "      <td>Nahant</td>\n",
              "      <td>0.00632</td>\n",
              "      <td>18.0</td>\n",
              "      <td>2.31</td>\n",
              "      <td>0</td>\n",
              "      <td>0.538</td>\n",
              "      <td>6.575</td>\n",
              "      <td>65.2</td>\n",
              "      <td>4.0900</td>\n",
              "      <td>1</td>\n",
              "      <td>296</td>\n",
              "      <td>15.3</td>\n",
              "      <td>4.98</td>\n",
              "      <td>24.0</td>\n",
              "    </tr>\n",
              "    <tr>\n",
              "      <th>1</th>\n",
              "      <td>Swampscott</td>\n",
              "      <td>0.02731</td>\n",
              "      <td>0.0</td>\n",
              "      <td>7.07</td>\n",
              "      <td>0</td>\n",
              "      <td>0.469</td>\n",
              "      <td>6.421</td>\n",
              "      <td>78.9</td>\n",
              "      <td>4.9671</td>\n",
              "      <td>2</td>\n",
              "      <td>242</td>\n",
              "      <td>17.8</td>\n",
              "      <td>9.14</td>\n",
              "      <td>21.6</td>\n",
              "    </tr>\n",
              "    <tr>\n",
              "      <th>2</th>\n",
              "      <td>Swanpscott</td>\n",
              "      <td>0.02729</td>\n",
              "      <td>0.0</td>\n",
              "      <td>7.07</td>\n",
              "      <td>0</td>\n",
              "      <td>0.469</td>\n",
              "      <td>7.185</td>\n",
              "      <td>61.1</td>\n",
              "      <td>4.9671</td>\n",
              "      <td>2</td>\n",
              "      <td>242</td>\n",
              "      <td>17.8</td>\n",
              "      <td>4.03</td>\n",
              "      <td>34.7</td>\n",
              "    </tr>\n",
              "    <tr>\n",
              "      <th>3</th>\n",
              "      <td>Marblehead</td>\n",
              "      <td>0.03237</td>\n",
              "      <td>0.0</td>\n",
              "      <td>2.18</td>\n",
              "      <td>0</td>\n",
              "      <td>0.458</td>\n",
              "      <td>6.998</td>\n",
              "      <td>45.8</td>\n",
              "      <td>6.0622</td>\n",
              "      <td>3</td>\n",
              "      <td>222</td>\n",
              "      <td>18.7</td>\n",
              "      <td>2.94</td>\n",
              "      <td>33.4</td>\n",
              "    </tr>\n",
              "    <tr>\n",
              "      <th>4</th>\n",
              "      <td>Marblehead</td>\n",
              "      <td>0.06905</td>\n",
              "      <td>0.0</td>\n",
              "      <td>2.18</td>\n",
              "      <td>0</td>\n",
              "      <td>0.458</td>\n",
              "      <td>7.147</td>\n",
              "      <td>54.2</td>\n",
              "      <td>6.0622</td>\n",
              "      <td>3</td>\n",
              "      <td>222</td>\n",
              "      <td>18.7</td>\n",
              "      <td>5.33</td>\n",
              "      <td>36.2</td>\n",
              "    </tr>\n",
              "  </tbody>\n",
              "</table>\n",
              "</div>"
            ],
            "text/plain": [
              "  neighborhood     crim    zn  indus  chas    nox  rooms   age     dis  rad  \\\n",
              "0       Nahant  0.00632  18.0   2.31     0  0.538  6.575  65.2  4.0900    1   \n",
              "1   Swampscott  0.02731   0.0   7.07     0  0.469  6.421  78.9  4.9671    2   \n",
              "2   Swanpscott  0.02729   0.0   7.07     0  0.469  7.185  61.1  4.9671    2   \n",
              "3   Marblehead  0.03237   0.0   2.18     0  0.458  6.998  45.8  6.0622    3   \n",
              "4   Marblehead  0.06905   0.0   2.18     0  0.458  7.147  54.2  6.0622    3   \n",
              "\n",
              "   tax  ptratio  lstat    mv  \n",
              "0  296     15.3   4.98  24.0  \n",
              "1  242     17.8   9.14  21.6  \n",
              "2  242     17.8   4.03  34.7  \n",
              "3  222     18.7   2.94  33.4  \n",
              "4  222     18.7   5.33  36.2  "
            ]
          },
          "metadata": {
            "tags": []
          },
          "execution_count": 6
        }
      ]
    },
    {
      "cell_type": "markdown",
      "metadata": {
        "id": "16y21LacMWrO",
        "colab_type": "text"
      },
      "source": [
        "### Identify Data Descriptions and Statistics"
      ]
    },
    {
      "cell_type": "code",
      "metadata": {
        "id": "moQslPwWMrTv",
        "colab_type": "code",
        "outputId": "9ecbb60a-0121-4a3d-a7d9-297b91c9d3fd",
        "colab": {
          "base_uri": "https://localhost:8080/",
          "height": 300
        }
      },
      "source": [
        "# Identify Summary Statistics for input dataset\n",
        "boston_input.describe()"
      ],
      "execution_count": 0,
      "outputs": [
        {
          "output_type": "execute_result",
          "data": {
            "text/html": [
              "<div>\n",
              "<style scoped>\n",
              "    .dataframe tbody tr th:only-of-type {\n",
              "        vertical-align: middle;\n",
              "    }\n",
              "\n",
              "    .dataframe tbody tr th {\n",
              "        vertical-align: top;\n",
              "    }\n",
              "\n",
              "    .dataframe thead th {\n",
              "        text-align: right;\n",
              "    }\n",
              "</style>\n",
              "<table border=\"1\" class=\"dataframe\">\n",
              "  <thead>\n",
              "    <tr style=\"text-align: right;\">\n",
              "      <th></th>\n",
              "      <th>crim</th>\n",
              "      <th>zn</th>\n",
              "      <th>indus</th>\n",
              "      <th>chas</th>\n",
              "      <th>nox</th>\n",
              "      <th>rooms</th>\n",
              "      <th>age</th>\n",
              "      <th>dis</th>\n",
              "      <th>rad</th>\n",
              "      <th>tax</th>\n",
              "      <th>ptratio</th>\n",
              "      <th>lstat</th>\n",
              "      <th>mv</th>\n",
              "    </tr>\n",
              "  </thead>\n",
              "  <tbody>\n",
              "    <tr>\n",
              "      <th>count</th>\n",
              "      <td>506.000000</td>\n",
              "      <td>506.000000</td>\n",
              "      <td>506.000000</td>\n",
              "      <td>506.000000</td>\n",
              "      <td>506.000000</td>\n",
              "      <td>506.000000</td>\n",
              "      <td>506.000000</td>\n",
              "      <td>506.000000</td>\n",
              "      <td>506.000000</td>\n",
              "      <td>506.000000</td>\n",
              "      <td>506.000000</td>\n",
              "      <td>506.000000</td>\n",
              "      <td>506.000000</td>\n",
              "    </tr>\n",
              "    <tr>\n",
              "      <th>mean</th>\n",
              "      <td>3.613524</td>\n",
              "      <td>11.363636</td>\n",
              "      <td>11.136779</td>\n",
              "      <td>0.069170</td>\n",
              "      <td>0.554695</td>\n",
              "      <td>6.284634</td>\n",
              "      <td>68.574901</td>\n",
              "      <td>3.795043</td>\n",
              "      <td>9.549407</td>\n",
              "      <td>408.237154</td>\n",
              "      <td>18.455534</td>\n",
              "      <td>12.653063</td>\n",
              "      <td>22.528854</td>\n",
              "    </tr>\n",
              "    <tr>\n",
              "      <th>std</th>\n",
              "      <td>8.601545</td>\n",
              "      <td>23.322453</td>\n",
              "      <td>6.860353</td>\n",
              "      <td>0.253994</td>\n",
              "      <td>0.115878</td>\n",
              "      <td>0.702617</td>\n",
              "      <td>28.148861</td>\n",
              "      <td>2.105710</td>\n",
              "      <td>8.707259</td>\n",
              "      <td>168.537116</td>\n",
              "      <td>2.164946</td>\n",
              "      <td>7.141062</td>\n",
              "      <td>9.182176</td>\n",
              "    </tr>\n",
              "    <tr>\n",
              "      <th>min</th>\n",
              "      <td>0.006320</td>\n",
              "      <td>0.000000</td>\n",
              "      <td>0.460000</td>\n",
              "      <td>0.000000</td>\n",
              "      <td>0.385000</td>\n",
              "      <td>3.561000</td>\n",
              "      <td>2.900000</td>\n",
              "      <td>1.129600</td>\n",
              "      <td>1.000000</td>\n",
              "      <td>187.000000</td>\n",
              "      <td>12.600000</td>\n",
              "      <td>1.730000</td>\n",
              "      <td>5.000000</td>\n",
              "    </tr>\n",
              "    <tr>\n",
              "      <th>25%</th>\n",
              "      <td>0.082045</td>\n",
              "      <td>0.000000</td>\n",
              "      <td>5.190000</td>\n",
              "      <td>0.000000</td>\n",
              "      <td>0.449000</td>\n",
              "      <td>5.885500</td>\n",
              "      <td>45.025000</td>\n",
              "      <td>2.100175</td>\n",
              "      <td>4.000000</td>\n",
              "      <td>279.000000</td>\n",
              "      <td>17.400000</td>\n",
              "      <td>6.950000</td>\n",
              "      <td>17.025000</td>\n",
              "    </tr>\n",
              "    <tr>\n",
              "      <th>50%</th>\n",
              "      <td>0.256510</td>\n",
              "      <td>0.000000</td>\n",
              "      <td>9.690000</td>\n",
              "      <td>0.000000</td>\n",
              "      <td>0.538000</td>\n",
              "      <td>6.208500</td>\n",
              "      <td>77.500000</td>\n",
              "      <td>3.207450</td>\n",
              "      <td>5.000000</td>\n",
              "      <td>330.000000</td>\n",
              "      <td>19.050000</td>\n",
              "      <td>11.360000</td>\n",
              "      <td>21.200000</td>\n",
              "    </tr>\n",
              "    <tr>\n",
              "      <th>75%</th>\n",
              "      <td>3.677082</td>\n",
              "      <td>12.500000</td>\n",
              "      <td>18.100000</td>\n",
              "      <td>0.000000</td>\n",
              "      <td>0.624000</td>\n",
              "      <td>6.623500</td>\n",
              "      <td>94.075000</td>\n",
              "      <td>5.188425</td>\n",
              "      <td>24.000000</td>\n",
              "      <td>666.000000</td>\n",
              "      <td>20.200000</td>\n",
              "      <td>16.955000</td>\n",
              "      <td>25.000000</td>\n",
              "    </tr>\n",
              "    <tr>\n",
              "      <th>max</th>\n",
              "      <td>88.976200</td>\n",
              "      <td>100.000000</td>\n",
              "      <td>27.740000</td>\n",
              "      <td>1.000000</td>\n",
              "      <td>0.871000</td>\n",
              "      <td>8.780000</td>\n",
              "      <td>100.000000</td>\n",
              "      <td>12.126500</td>\n",
              "      <td>24.000000</td>\n",
              "      <td>711.000000</td>\n",
              "      <td>22.000000</td>\n",
              "      <td>37.970000</td>\n",
              "      <td>50.000000</td>\n",
              "    </tr>\n",
              "  </tbody>\n",
              "</table>\n",
              "</div>"
            ],
            "text/plain": [
              "             crim          zn       indus        chas         nox       rooms  \\\n",
              "count  506.000000  506.000000  506.000000  506.000000  506.000000  506.000000   \n",
              "mean     3.613524   11.363636   11.136779    0.069170    0.554695    6.284634   \n",
              "std      8.601545   23.322453    6.860353    0.253994    0.115878    0.702617   \n",
              "min      0.006320    0.000000    0.460000    0.000000    0.385000    3.561000   \n",
              "25%      0.082045    0.000000    5.190000    0.000000    0.449000    5.885500   \n",
              "50%      0.256510    0.000000    9.690000    0.000000    0.538000    6.208500   \n",
              "75%      3.677082   12.500000   18.100000    0.000000    0.624000    6.623500   \n",
              "max     88.976200  100.000000   27.740000    1.000000    0.871000    8.780000   \n",
              "\n",
              "              age         dis         rad         tax     ptratio       lstat  \\\n",
              "count  506.000000  506.000000  506.000000  506.000000  506.000000  506.000000   \n",
              "mean    68.574901    3.795043    9.549407  408.237154   18.455534   12.653063   \n",
              "std     28.148861    2.105710    8.707259  168.537116    2.164946    7.141062   \n",
              "min      2.900000    1.129600    1.000000  187.000000   12.600000    1.730000   \n",
              "25%     45.025000    2.100175    4.000000  279.000000   17.400000    6.950000   \n",
              "50%     77.500000    3.207450    5.000000  330.000000   19.050000   11.360000   \n",
              "75%     94.075000    5.188425   24.000000  666.000000   20.200000   16.955000   \n",
              "max    100.000000   12.126500   24.000000  711.000000   22.000000   37.970000   \n",
              "\n",
              "               mv  \n",
              "count  506.000000  \n",
              "mean    22.528854  \n",
              "std      9.182176  \n",
              "min      5.000000  \n",
              "25%     17.025000  \n",
              "50%     21.200000  \n",
              "75%     25.000000  \n",
              "max     50.000000  "
            ]
          },
          "metadata": {
            "tags": []
          },
          "execution_count": 7
        }
      ]
    },
    {
      "cell_type": "markdown",
      "metadata": {
        "id": "jtthegLWMgxB",
        "colab_type": "text"
      },
      "source": [
        "### Visualize Input Data"
      ]
    },
    {
      "cell_type": "markdown",
      "metadata": {
        "id": "yXBkegeHe4C5",
        "colab_type": "text"
      },
      "source": [
        "#### Numeric Parameter Histograms"
      ]
    },
    {
      "cell_type": "code",
      "metadata": {
        "id": "8LwCsjg-NxqI",
        "colab_type": "code",
        "outputId": "4f846bc5-f985-4229-d362-a8c4c9395250",
        "colab": {
          "base_uri": "https://localhost:8080/",
          "height": 879
        }
      },
      "source": [
        "boston_input[['age','dis','indus','lstat','mv','nox','ptratio','rad','rooms','tax','zn']].hist(figsize=(20,15))\n",
        "plt.show()"
      ],
      "execution_count": 0,
      "outputs": [
        {
          "output_type": "display_data",
          "data": {
            "image/png": "[encoded data removed]",
            "text/plain": [
              "<Figure size 1440x1080 with 12 Axes>"
            ]
          },
          "metadata": {
            "tags": []
          }
        }
      ]
    },
    {
      "cell_type": "markdown",
      "metadata": {
        "id": "f1V-6e_be80o",
        "colab_type": "text"
      },
      "source": [
        "#### Compare Average Respondees"
      ]
    },
    {
      "cell_type": "code",
      "metadata": {
        "id": "ifNo1N6u3AG0",
        "colab_type": "code",
        "outputId": "a5d907e0-7e7d-4287-e887-72b29f8b212e",
        "colab": {
          "base_uri": "https://localhost:8080/",
          "height": 457
        }
      },
      "source": [
        "pd.DataFrame(boston_input.mean())"
      ],
      "execution_count": 0,
      "outputs": [
        {
          "output_type": "execute_result",
          "data": {
            "text/html": [
              "<div>\n",
              "<style scoped>\n",
              "    .dataframe tbody tr th:only-of-type {\n",
              "        vertical-align: middle;\n",
              "    }\n",
              "\n",
              "    .dataframe tbody tr th {\n",
              "        vertical-align: top;\n",
              "    }\n",
              "\n",
              "    .dataframe thead th {\n",
              "        text-align: right;\n",
              "    }\n",
              "</style>\n",
              "<table border=\"1\" class=\"dataframe\">\n",
              "  <thead>\n",
              "    <tr style=\"text-align: right;\">\n",
              "      <th></th>\n",
              "      <th>0</th>\n",
              "    </tr>\n",
              "  </thead>\n",
              "  <tbody>\n",
              "    <tr>\n",
              "      <th>crim</th>\n",
              "      <td>3.613524</td>\n",
              "    </tr>\n",
              "    <tr>\n",
              "      <th>zn</th>\n",
              "      <td>11.363636</td>\n",
              "    </tr>\n",
              "    <tr>\n",
              "      <th>indus</th>\n",
              "      <td>11.136779</td>\n",
              "    </tr>\n",
              "    <tr>\n",
              "      <th>chas</th>\n",
              "      <td>0.069170</td>\n",
              "    </tr>\n",
              "    <tr>\n",
              "      <th>nox</th>\n",
              "      <td>0.554695</td>\n",
              "    </tr>\n",
              "    <tr>\n",
              "      <th>rooms</th>\n",
              "      <td>6.284634</td>\n",
              "    </tr>\n",
              "    <tr>\n",
              "      <th>age</th>\n",
              "      <td>68.574901</td>\n",
              "    </tr>\n",
              "    <tr>\n",
              "      <th>dis</th>\n",
              "      <td>3.795043</td>\n",
              "    </tr>\n",
              "    <tr>\n",
              "      <th>rad</th>\n",
              "      <td>9.549407</td>\n",
              "    </tr>\n",
              "    <tr>\n",
              "      <th>tax</th>\n",
              "      <td>408.237154</td>\n",
              "    </tr>\n",
              "    <tr>\n",
              "      <th>ptratio</th>\n",
              "      <td>18.455534</td>\n",
              "    </tr>\n",
              "    <tr>\n",
              "      <th>lstat</th>\n",
              "      <td>12.653063</td>\n",
              "    </tr>\n",
              "    <tr>\n",
              "      <th>mv</th>\n",
              "      <td>22.528854</td>\n",
              "    </tr>\n",
              "  </tbody>\n",
              "</table>\n",
              "</div>"
            ],
            "text/plain": [
              "                  0\n",
              "crim       3.613524\n",
              "zn        11.363636\n",
              "indus     11.136779\n",
              "chas       0.069170\n",
              "nox        0.554695\n",
              "rooms      6.284634\n",
              "age       68.574901\n",
              "dis        3.795043\n",
              "rad        9.549407\n",
              "tax      408.237154\n",
              "ptratio   18.455534\n",
              "lstat     12.653063\n",
              "mv        22.528854"
            ]
          },
          "metadata": {
            "tags": []
          },
          "execution_count": 9
        }
      ]
    },
    {
      "cell_type": "markdown",
      "metadata": {
        "id": "r_0eg0UMfE_a",
        "colab_type": "text"
      },
      "source": [
        "#### Identify Proportions associated with Response Data"
      ]
    },
    {
      "cell_type": "code",
      "metadata": {
        "id": "oFfVwE0FbABh",
        "colab_type": "code",
        "outputId": "5b03aef5-9f8c-4626-8461-91e0df55b74a",
        "colab": {
          "base_uri": "https://localhost:8080/",
          "height": 1156
        }
      },
      "source": [
        "# Percentage of Respondees in different groups\n",
        "(boston_input['neighborhood'].value_counts() / boston_input['neighborhood'].count()) * 100"
      ],
      "execution_count": 0,
      "outputs": [
        {
          "output_type": "execute_result",
          "data": {
            "text/plain": [
              "Cambridge           5.928854\n",
              "Savin_Hill          4.545455\n",
              "Lynn                4.347826\n",
              "Roxbury             3.754941\n",
              "Newton              3.557312\n",
              "Somerville          2.964427\n",
              "South_Boston        2.569170\n",
              "Quincy              2.371542\n",
              "Brookline           2.371542\n",
              "Medford             2.173913\n",
              "Waltham             2.173913\n",
              "Dorchester          2.173913\n",
              "East_Boston         2.173913\n",
              "Framingham          1.976285\n",
              "Peabody             1.778656\n",
              "Malden              1.778656\n",
              "Revere              1.581028\n",
              "Belmont             1.581028\n",
              "Allston-Brighton    1.581028\n",
              "Downtown            1.581028\n",
              "Weymouth            1.581028\n",
              "Braintree           1.581028\n",
              "Salem               1.383399\n",
              "Forest_Hills        1.383399\n",
              "Everett             1.383399\n",
              "Charlestown         1.383399\n",
              "Arlington           1.383399\n",
              "Natick              1.185771\n",
              "Back_Bay            1.185771\n",
              "Woburn              1.185771\n",
              "                      ...   \n",
              "Sudbury             0.395257\n",
              "North_Reading       0.395257\n",
              "Rockland            0.395257\n",
              "Scituate            0.395257\n",
              "Hingham             0.395257\n",
              "Bedford             0.395257\n",
              "Ashland             0.395257\n",
              "Holbrook            0.395257\n",
              "Marshfield          0.395257\n",
              "North_End           0.395257\n",
              "Lynnfield           0.395257\n",
              "Millis              0.197628\n",
              "Topsfield           0.197628\n",
              "Lincoln             0.197628\n",
              "Middleton           0.197628\n",
              "Sherborn            0.197628\n",
              "Cohasset            0.197628\n",
              "Dover               0.197628\n",
              "Swanpscott          0.197628\n",
              "Norfolk             0.197628\n",
              "Medfield            0.197628\n",
              "Swampscott          0.197628\n",
              "Duxbury             0.197628\n",
              "Hanover             0.197628\n",
              "Wenham              0.197628\n",
              "Manchester          0.197628\n",
              "Nahant              0.197628\n",
              "Norwell             0.197628\n",
              "Hamilton            0.197628\n",
              "Hull                0.197628\n",
              "Name: neighborhood, Length: 93, dtype: float64"
            ]
          },
          "metadata": {
            "tags": []
          },
          "execution_count": 10
        }
      ]
    },
    {
      "cell_type": "markdown",
      "metadata": {
        "id": "kiJo2MZffL68",
        "colab_type": "text"
      },
      "source": [
        "#### Correlation Analysis"
      ]
    },
    {
      "cell_type": "code",
      "metadata": {
        "id": "FJzJGdz9ahcV",
        "colab_type": "code",
        "outputId": "7709c4a7-2103-480e-c0dc-4227e843faf2",
        "colab": {
          "base_uri": "https://localhost:8080/",
          "height": 638
        }
      },
      "source": [
        "# Build a correlation chart to attempt to see which variables may be \n",
        "# most influential on responses\n",
        "def corr_chart(df_corr):\n",
        "    corr=df_corr.corr()\n",
        "    #screen top half to get a triangle\n",
        "    top = np.zeros_like(corr, dtype=np.bool)\n",
        "    top[np.triu_indices_from(top)] = True\n",
        "    fig=plt.figure()\n",
        "    fig, ax = plt.subplots(figsize=(12,12))\n",
        "    sns.heatmap(corr, mask=top, cmap='coolwarm', \n",
        "        center = 0, square=True, \n",
        "        linewidths=.5, cbar_kws={'shrink':.5}, \n",
        "        annot = True, annot_kws={'size': 9}, fmt = '.3f')           \n",
        "    plt.xticks(rotation=45) # rotate variable labels on columns (x axis)\n",
        "    plt.yticks(rotation=0) # use horizontal variable labels on rows (y axis)\n",
        "    plt.title('Correlation Heat Map')   \n",
        "    plt.savefig('plot-corr-map.pdf', \n",
        "        bbox_inches = 'tight', dpi=None, facecolor='w', edgecolor='b', \n",
        "        orientation='portrait', papertype=None, format=None, \n",
        "        transparent=True, pad_inches=0.25, frameon=None)   \n",
        "\n",
        "corr_chart(df_corr = boston_input)"
      ],
      "execution_count": 0,
      "outputs": [
        {
          "output_type": "display_data",
          "data": {
            "text/plain": [
              "<Figure size 432x288 with 0 Axes>"
            ]
          },
          "metadata": {
            "tags": []
          }
        },
        {
          "output_type": "display_data",
          "data": {
            "image/png": "[encoded data removed]",
            "text/plain": [
              "<Figure size 864x864 with 2 Axes>"
            ]
          },
          "metadata": {
            "tags": []
          }
        }
      ]
    },
    {
      "cell_type": "markdown",
      "metadata": {
        "id": "Wnmu8dIQfuij",
        "colab_type": "text"
      },
      "source": [
        "# Model Preparation"
      ]
    },
    {
      "cell_type": "markdown",
      "metadata": {
        "id": "7h4gzsgBkSOK",
        "colab_type": "text"
      },
      "source": [
        "### Define Model Parameters"
      ]
    },
    {
      "cell_type": "code",
      "metadata": {
        "id": "zCFP0KirYusp",
        "colab_type": "code",
        "outputId": "aefa05d2-5c22-4b06-859c-7a63ed911fb4",
        "colab": {
          "base_uri": "https://localhost:8080/",
          "height": 182
        }
      },
      "source": [
        "# drop neighborhood from the data being considered\n",
        "boston = boston_input.drop('neighborhood', 1)\n",
        "\n",
        "# set up preliminary data for data for fitting the models \n",
        "# the first column is the median housing value response\n",
        "# the remaining columns are the explanatory variables\n",
        "prelim_model_data = np.array([boston.mv,\\\n",
        "    boston.crim,\\\n",
        "    boston.zn,\\\n",
        "    boston.indus,\\\n",
        "    boston.chas,\\\n",
        "    boston.nox,\\\n",
        "    boston.rooms,\\\n",
        "    boston.age,\\\n",
        "    boston.dis,\\\n",
        "    boston.rad,\\\n",
        "    boston.tax,\\\n",
        "    boston.ptratio,\\\n",
        "    boston.lstat]).T\n",
        "\n",
        "# standard scores for the columns... along axis 0\n",
        "from sklearn.preprocessing import StandardScaler\n",
        "scaler = StandardScaler()\n",
        "print(scaler.fit(prelim_model_data))\n",
        "# show standardization constants being employed\n",
        "print(scaler.mean_)\n",
        "print(scaler.scale_)\n",
        "\n",
        "# the model data will be standardized form of preliminary model data\n",
        "model_data = scaler.fit_transform(prelim_model_data)"
      ],
      "execution_count": 0,
      "outputs": [
        {
          "output_type": "stream",
          "text": [
            "StandardScaler(copy=True, with_mean=True, with_std=True)\n",
            "[2.25288538e+01 3.61352356e+00 1.13636364e+01 1.11367787e+01\n",
            " 6.91699605e-02 5.54695059e-01 6.28463439e+00 6.85749012e+01\n",
            " 3.79504269e+00 9.54940711e+00 4.08237154e+02 1.84555336e+01\n",
            " 1.26530632e+01]\n",
            "[9.17309810e+00 8.59304135e+00 2.32993957e+01 6.85357058e+00\n",
            " 2.53742935e-01 1.15763115e-01 7.01922514e-01 2.81210326e+01\n",
            " 2.10362836e+00 8.69865112e+00 1.68370495e+02 2.16280519e+00\n",
            " 7.13400164e+00]\n"
          ],
          "name": "stdout"
        }
      ]
    },
    {
      "cell_type": "code",
      "metadata": {
        "id": "8Ptfhk3Ygsj-",
        "colab_type": "code",
        "colab": {}
      },
      "source": [
        "# cross-validation scoring code adapted from Scikit Learn documentation\n",
        "from sklearn.metrics import roc_auc_score\n",
        "\n",
        "# specify the set of classifiers being evaluated\n",
        "names = ['Linear_Regression', 'Ridge_Regression','Lasso_Regression','ElasticNet']\n",
        "regressors = [LinearRegression(fit_intercept = SET_FIT_INTERCEPT, \n",
        "                    normalize = False), \n",
        "              Ridge(alpha = 1, solver = 'cholesky', \n",
        "                    fit_intercept = SET_FIT_INTERCEPT, \n",
        "                    normalize = False, \n",
        "                    random_state = RANDOM_SEED),\n",
        "              Lasso(alpha = 0.01,\n",
        "                    fit_intercept = SET_FIT_INTERCEPT, \n",
        "                    normalize = False, \n",
        "                    random_state = RANDOM_SEED),\n",
        "              ElasticNet(alpha = 0.01,\n",
        "                    fit_intercept = SET_FIT_INTERCEPT, \n",
        "                    normalize = False, \n",
        "                    random_state = RANDOM_SEED)]"
      ],
      "execution_count": 0,
      "outputs": []
    },
    {
      "cell_type": "markdown",
      "metadata": {
        "colab_type": "text",
        "id": "vNtUT__x35s8"
      },
      "source": [
        "### Select Data for Model Array"
      ]
    },
    {
      "cell_type": "code",
      "metadata": {
        "colab_type": "code",
        "id": "koykj1pA35tE",
        "colab": {}
      },
      "source": [
        "model_data = scaler.fit_transform(prelim_model_data)"
      ],
      "execution_count": 0,
      "outputs": []
    },
    {
      "cell_type": "markdown",
      "metadata": {
        "id": "c7n3dtYKmRSJ",
        "colab_type": "text"
      },
      "source": [
        "### Initial Dataset Training and RMSE Calculation"
      ]
    },
    {
      "cell_type": "code",
      "metadata": {
        "id": "O_jW7LvLk0Vn",
        "colab_type": "code",
        "outputId": "c7beec76-512c-440c-eeea-e06e4f492188",
        "colab": {
          "base_uri": "https://localhost:8080/",
          "height": 394
        }
      },
      "source": [
        "# specify the k-fold cross-validation design\n",
        "from sklearn.model_selection import KFold\n",
        "\n",
        "# ten-fold cross-validation employed here\n",
        "N_FOLDS = 10\n",
        "\n",
        "max_df = pd.DataFrame(index=names, columns=['fold_method_result','y_test','y_test_predict'])\n",
        "max_df['fold_method_result']=0\n",
        "\n",
        "# set up numpy array for storing results\n",
        "cv_results = np.zeros((N_FOLDS, len(names)))\n",
        "\n",
        "kf = KFold(n_splits = N_FOLDS, shuffle=False, random_state = RANDOM_SEED)\n",
        "# check the splitting process by looking at fold observation counts\n",
        "index_for_fold = 0  # fold count initialized\n",
        "for train_index, test_index in kf.split(model_data):\n",
        "#   note that 0:model_data.shape[1]-1 slices for explanatory variables\n",
        "#   and model_data.shape[1]-1 is the index for the response variable\n",
        "    X_train = model_data[train_index, 1:model_data.shape[1]]\n",
        "    X_test = model_data[test_index, 1:model_data.shape[1]]\n",
        "    y_train = model_data[train_index, 0]\n",
        "    y_test = model_data[test_index, 0]   \n",
        "\n",
        "    index_for_method = 0  # initialize\n",
        "    for name, reg_model in zip(names, regressors):\n",
        "        reg_model.fit(X_train, y_train)  # fit on the train set for this fold\n",
        " \n",
        "        # evaluate on the test set for this fold\n",
        "        y_test_predict = reg_model.predict(X_test)\n",
        "        fold_method_result = sqrt(mean_squared_error(y_test, y_test_predict))\n",
        "        cv_results[index_for_fold, index_for_method] = fold_method_result\n",
        "\n",
        "        if fold_method_result < max_df.xs(name).fold_method_result:\n",
        "              max_df.at[name, 'fold_method_result'] = fold_method_result\n",
        "              max_df.at[name, 'y_test'] = y_test\n",
        "              max_df.at[name, 'y_test_predict'] = y_test_predict\n",
        "        index_for_method += 1\n",
        "    index_for_fold += 1\n",
        "\n",
        "cv_results_df = pd.DataFrame(cv_results)\n",
        "cv_results_df.columns = names\n",
        "cv_results_df.index.name = 'Fold Number'\n",
        "cv_results_df"
      ],
      "execution_count": 0,
      "outputs": [
        {
          "output_type": "execute_result",
          "data": {
            "text/html": [
              "<div>\n",
              "<style scoped>\n",
              "    .dataframe tbody tr th:only-of-type {\n",
              "        vertical-align: middle;\n",
              "    }\n",
              "\n",
              "    .dataframe tbody tr th {\n",
              "        vertical-align: top;\n",
              "    }\n",
              "\n",
              "    .dataframe thead th {\n",
              "        text-align: right;\n",
              "    }\n",
              "</style>\n",
              "<table border=\"1\" class=\"dataframe\">\n",
              "  <thead>\n",
              "    <tr style=\"text-align: right;\">\n",
              "      <th></th>\n",
              "      <th>Linear_Regression</th>\n",
              "      <th>Ridge_Regression</th>\n",
              "      <th>Lasso_Regression</th>\n",
              "      <th>ElasticNet</th>\n",
              "    </tr>\n",
              "    <tr>\n",
              "      <th>Fold Number</th>\n",
              "      <th></th>\n",
              "      <th></th>\n",
              "      <th></th>\n",
              "      <th></th>\n",
              "    </tr>\n",
              "  </thead>\n",
              "  <tbody>\n",
              "    <tr>\n",
              "      <th>0</th>\n",
              "      <td>0.308034</td>\n",
              "      <td>0.306744</td>\n",
              "      <td>0.297311</td>\n",
              "      <td>0.299706</td>\n",
              "    </tr>\n",
              "    <tr>\n",
              "      <th>1</th>\n",
              "      <td>0.414889</td>\n",
              "      <td>0.412916</td>\n",
              "      <td>0.392744</td>\n",
              "      <td>0.398704</td>\n",
              "    </tr>\n",
              "    <tr>\n",
              "      <th>2</th>\n",
              "      <td>0.438938</td>\n",
              "      <td>0.435998</td>\n",
              "      <td>0.401032</td>\n",
              "      <td>0.410101</td>\n",
              "    </tr>\n",
              "    <tr>\n",
              "      <th>3</th>\n",
              "      <td>0.652244</td>\n",
              "      <td>0.653196</td>\n",
              "      <td>0.672261</td>\n",
              "      <td>0.663719</td>\n",
              "    </tr>\n",
              "    <tr>\n",
              "      <th>4</th>\n",
              "      <td>0.621783</td>\n",
              "      <td>0.620399</td>\n",
              "      <td>0.590047</td>\n",
              "      <td>0.602275</td>\n",
              "    </tr>\n",
              "    <tr>\n",
              "      <th>5</th>\n",
              "      <td>0.496012</td>\n",
              "      <td>0.495756</td>\n",
              "      <td>0.505174</td>\n",
              "      <td>0.496054</td>\n",
              "    </tr>\n",
              "    <tr>\n",
              "      <th>6</th>\n",
              "      <td>0.343828</td>\n",
              "      <td>0.341483</td>\n",
              "      <td>0.329834</td>\n",
              "      <td>0.329220</td>\n",
              "    </tr>\n",
              "    <tr>\n",
              "      <th>7</th>\n",
              "      <td>1.340827</td>\n",
              "      <td>1.339664</td>\n",
              "      <td>1.364869</td>\n",
              "      <td>1.360497</td>\n",
              "    </tr>\n",
              "    <tr>\n",
              "      <th>8</th>\n",
              "      <td>0.669705</td>\n",
              "      <td>0.669238</td>\n",
              "      <td>0.663606</td>\n",
              "      <td>0.665421</td>\n",
              "    </tr>\n",
              "    <tr>\n",
              "      <th>9</th>\n",
              "      <td>0.333138</td>\n",
              "      <td>0.329718</td>\n",
              "      <td>0.297810</td>\n",
              "      <td>0.306323</td>\n",
              "    </tr>\n",
              "  </tbody>\n",
              "</table>\n",
              "</div>"
            ],
            "text/plain": [
              "             Linear_Regression  Ridge_Regression  Lasso_Regression  ElasticNet\n",
              "Fold Number                                                                   \n",
              "0                     0.308034          0.306744          0.297311    0.299706\n",
              "1                     0.414889          0.412916          0.392744    0.398704\n",
              "2                     0.438938          0.435998          0.401032    0.410101\n",
              "3                     0.652244          0.653196          0.672261    0.663719\n",
              "4                     0.621783          0.620399          0.590047    0.602275\n",
              "5                     0.496012          0.495756          0.505174    0.496054\n",
              "6                     0.343828          0.341483          0.329834    0.329220\n",
              "7                     1.340827          1.339664          1.364869    1.360497\n",
              "8                     0.669705          0.669238          0.663606    0.665421\n",
              "9                     0.333138          0.329718          0.297810    0.306323"
            ]
          },
          "metadata": {
            "tags": []
          },
          "execution_count": 15
        }
      ]
    },
    {
      "cell_type": "code",
      "metadata": {
        "colab_type": "code",
        "outputId": "b01630d5-0cf5-40ad-e45d-469ac1b1d33d",
        "id": "c8r4jj4UAjGT",
        "colab": {
          "base_uri": "https://localhost:8080/",
          "height": 175
        }
      },
      "source": [
        "cv_results_df.mean().to_frame(name='Average RMSE from 10 Folds')"
      ],
      "execution_count": 0,
      "outputs": [
        {
          "output_type": "execute_result",
          "data": {
            "text/html": [
              "<div>\n",
              "<style scoped>\n",
              "    .dataframe tbody tr th:only-of-type {\n",
              "        vertical-align: middle;\n",
              "    }\n",
              "\n",
              "    .dataframe tbody tr th {\n",
              "        vertical-align: top;\n",
              "    }\n",
              "\n",
              "    .dataframe thead th {\n",
              "        text-align: right;\n",
              "    }\n",
              "</style>\n",
              "<table border=\"1\" class=\"dataframe\">\n",
              "  <thead>\n",
              "    <tr style=\"text-align: right;\">\n",
              "      <th></th>\n",
              "      <th>Average RMSE from 10 Folds</th>\n",
              "    </tr>\n",
              "  </thead>\n",
              "  <tbody>\n",
              "    <tr>\n",
              "      <th>Linear_Regression</th>\n",
              "      <td>0.561940</td>\n",
              "    </tr>\n",
              "    <tr>\n",
              "      <th>Ridge_Regression</th>\n",
              "      <td>0.560511</td>\n",
              "    </tr>\n",
              "    <tr>\n",
              "      <th>Lasso_Regression</th>\n",
              "      <td>0.551469</td>\n",
              "    </tr>\n",
              "    <tr>\n",
              "      <th>ElasticNet</th>\n",
              "      <td>0.553202</td>\n",
              "    </tr>\n",
              "  </tbody>\n",
              "</table>\n",
              "</div>"
            ],
            "text/plain": [
              "                   Average RMSE from 10 Folds\n",
              "Linear_Regression                    0.561940\n",
              "Ridge_Regression                     0.560511\n",
              "Lasso_Regression                     0.551469\n",
              "ElasticNet                           0.553202"
            ]
          },
          "metadata": {
            "tags": []
          },
          "execution_count": 16
        }
      ]
    },
    {
      "cell_type": "markdown",
      "metadata": {
        "colab_type": "text",
        "id": "ZzxMtuHv39sm"
      },
      "source": [
        "### Evaluate Log Transformed Response"
      ]
    },
    {
      "cell_type": "markdown",
      "metadata": {
        "id": "jUYtMZ7u4E9L",
        "colab_type": "text"
      },
      "source": [
        "Based on our findings in the EDA phase, we can identify data which has a higher level of correlation, the therfore hopefully a higher level of predictibility."
      ]
    },
    {
      "cell_type": "code",
      "metadata": {
        "colab_type": "code",
        "id": "JaBYwIIV39sv",
        "outputId": "e60c4ebc-53d5-44f3-b214-d25942d8b6df",
        "colab": {
          "base_uri": "https://localhost:8080/",
          "height": 182
        }
      },
      "source": [
        "# drop neighborhood from the data being considered\n",
        "boston = boston_input.drop('neighborhood', 1)\n",
        "\n",
        "# set up preliminary data for data for fitting the models \n",
        "# the first column is the median housing value response\n",
        "# the remaining columns are the explanatory variables\n",
        "prelim_model_data = np.array([np.log(boston.mv),\\\n",
        "    boston.crim,\\\n",
        "    boston.zn,\\\n",
        "    boston.indus,\\\n",
        "    boston.chas,\\\n",
        "    boston.nox,\\\n",
        "    boston.rooms,\\\n",
        "    boston.age,\\\n",
        "    boston.dis,\\\n",
        "    boston.rad,\\\n",
        "    boston.tax,\\\n",
        "    boston.ptratio,\\\n",
        "    boston.lstat]).T\n",
        "\n",
        "# standard scores for the columns... along axis 0\n",
        "from sklearn.preprocessing import StandardScaler\n",
        "scaler = StandardScaler()\n",
        "print(scaler.fit(prelim_model_data))\n",
        "# show standardization constants being employed\n",
        "print(scaler.mean_)\n",
        "print(scaler.scale_)\n",
        "\n",
        "# the model data will be standardized form of preliminary model data\n",
        "model_data = scaler.fit_transform(prelim_model_data)"
      ],
      "execution_count": 0,
      "outputs": [
        {
          "output_type": "stream",
          "text": [
            "StandardScaler(copy=True, with_mean=True, with_std=True)\n",
            "[3.03455800e+00 3.61352356e+00 1.13636364e+01 1.11367787e+01\n",
            " 6.91699605e-02 5.54695059e-01 6.28463439e+00 6.85749012e+01\n",
            " 3.79504269e+00 9.54940711e+00 4.08237154e+02 1.84555336e+01\n",
            " 1.26530632e+01]\n",
            "[4.07871084e-01 8.59304135e+00 2.32993957e+01 6.85357058e+00\n",
            " 2.53742935e-01 1.15763115e-01 7.01922514e-01 2.81210326e+01\n",
            " 2.10362836e+00 8.69865112e+00 1.68370495e+02 2.16280519e+00\n",
            " 7.13400164e+00]\n"
          ],
          "name": "stdout"
        }
      ]
    },
    {
      "cell_type": "markdown",
      "metadata": {
        "colab_type": "text",
        "id": "LbBSNH4D4AFu"
      },
      "source": [
        "### Alternative Dataset Training and RMSE Calculation"
      ]
    },
    {
      "cell_type": "code",
      "metadata": {
        "colab_type": "code",
        "outputId": "4e8517dc-6182-4dab-b4c8-5980e284d1aa",
        "id": "HhP1XOu-4AFw",
        "colab": {
          "base_uri": "https://localhost:8080/",
          "height": 394
        }
      },
      "source": [
        "model_data = scaler.fit_transform(prelim_model_data)\n",
        "# specify the k-fold cross-validation design\n",
        "from sklearn.model_selection import KFold\n",
        "\n",
        "# ten-fold cross-validation employed here\n",
        "N_FOLDS = 10\n",
        "\n",
        "max_df = pd.DataFrame(index=names, columns=['fold_method_result','y_test','y_test_predict'])\n",
        "max_df['fold_method_result']=0\n",
        "\n",
        "# set up numpy array for storing results\n",
        "cv_results = np.zeros((N_FOLDS, len(names)))\n",
        "\n",
        "kf = KFold(n_splits = N_FOLDS, shuffle=False, random_state = RANDOM_SEED)\n",
        "# check the splitting process by looking at fold observation counts\n",
        "index_for_fold = 0  # fold count initialized\n",
        "for train_index, test_index in kf.split(model_data):\n",
        "#   note that 0:model_data.shape[1]-1 slices for explanatory variables\n",
        "#   and model_data.shape[1]-1 is the index for the response variable\n",
        "    X_train = model_data[train_index, 1:model_data.shape[1]]\n",
        "    X_test = model_data[test_index, 1:model_data.shape[1]]\n",
        "    y_train = model_data[train_index, 0]\n",
        "    y_test = model_data[test_index, 0]   \n",
        "\n",
        "    index_for_method = 0  # initialize\n",
        "    for name, reg_model in zip(names, regressors):\n",
        "        reg_model.fit(X_train, y_train)  # fit on the train set for this fold\n",
        " \n",
        "        # evaluate on the test set for this fold\n",
        "        y_test_predict = reg_model.predict(X_test)\n",
        "        fold_method_result = sqrt(mean_squared_error(y_test, y_test_predict))\n",
        "        cv_results[index_for_fold, index_for_method] = fold_method_result\n",
        "\n",
        "        if fold_method_result < max_df.xs(name).fold_method_result:\n",
        "              max_df.at[name, 'fold_method_result'] = fold_method_result\n",
        "              max_df.at[name, 'y_test'] = y_test\n",
        "              max_df.at[name, 'y_test_predict'] = y_test_predict\n",
        "        index_for_method += 1\n",
        "    index_for_fold += 1\n",
        "\n",
        "cv_results_df = pd.DataFrame(cv_results)\n",
        "cv_results_df.columns = names\n",
        "cv_results_df.index.name = 'Fold Number'\n",
        "cv_results_df"
      ],
      "execution_count": 0,
      "outputs": [
        {
          "output_type": "execute_result",
          "data": {
            "text/html": [
              "<div>\n",
              "<style scoped>\n",
              "    .dataframe tbody tr th:only-of-type {\n",
              "        vertical-align: middle;\n",
              "    }\n",
              "\n",
              "    .dataframe tbody tr th {\n",
              "        vertical-align: top;\n",
              "    }\n",
              "\n",
              "    .dataframe thead th {\n",
              "        text-align: right;\n",
              "    }\n",
              "</style>\n",
              "<table border=\"1\" class=\"dataframe\">\n",
              "  <thead>\n",
              "    <tr style=\"text-align: right;\">\n",
              "      <th></th>\n",
              "      <th>Linear_Regression</th>\n",
              "      <th>Ridge_Regression</th>\n",
              "      <th>Lasso_Regression</th>\n",
              "      <th>ElasticNet</th>\n",
              "    </tr>\n",
              "    <tr>\n",
              "      <th>Fold Number</th>\n",
              "      <th></th>\n",
              "      <th></th>\n",
              "      <th></th>\n",
              "      <th></th>\n",
              "    </tr>\n",
              "  </thead>\n",
              "  <tbody>\n",
              "    <tr>\n",
              "      <th>0</th>\n",
              "      <td>0.295720</td>\n",
              "      <td>0.295111</td>\n",
              "      <td>0.296382</td>\n",
              "      <td>0.295043</td>\n",
              "    </tr>\n",
              "    <tr>\n",
              "      <th>1</th>\n",
              "      <td>0.355736</td>\n",
              "      <td>0.353394</td>\n",
              "      <td>0.329133</td>\n",
              "      <td>0.335566</td>\n",
              "    </tr>\n",
              "    <tr>\n",
              "      <th>2</th>\n",
              "      <td>0.509060</td>\n",
              "      <td>0.505277</td>\n",
              "      <td>0.458022</td>\n",
              "      <td>0.473288</td>\n",
              "    </tr>\n",
              "    <tr>\n",
              "      <th>3</th>\n",
              "      <td>0.424556</td>\n",
              "      <td>0.424713</td>\n",
              "      <td>0.444242</td>\n",
              "      <td>0.432758</td>\n",
              "    </tr>\n",
              "    <tr>\n",
              "      <th>4</th>\n",
              "      <td>0.464477</td>\n",
              "      <td>0.462934</td>\n",
              "      <td>0.446472</td>\n",
              "      <td>0.451263</td>\n",
              "    </tr>\n",
              "    <tr>\n",
              "      <th>5</th>\n",
              "      <td>0.340430</td>\n",
              "      <td>0.339356</td>\n",
              "      <td>0.339026</td>\n",
              "      <td>0.332325</td>\n",
              "    </tr>\n",
              "    <tr>\n",
              "      <th>6</th>\n",
              "      <td>0.322138</td>\n",
              "      <td>0.320841</td>\n",
              "      <td>0.329480</td>\n",
              "      <td>0.321638</td>\n",
              "    </tr>\n",
              "    <tr>\n",
              "      <th>7</th>\n",
              "      <td>1.080823</td>\n",
              "      <td>1.082791</td>\n",
              "      <td>1.133027</td>\n",
              "      <td>1.108997</td>\n",
              "    </tr>\n",
              "    <tr>\n",
              "      <th>8</th>\n",
              "      <td>0.752312</td>\n",
              "      <td>0.752114</td>\n",
              "      <td>0.743625</td>\n",
              "      <td>0.747758</td>\n",
              "    </tr>\n",
              "    <tr>\n",
              "      <th>9</th>\n",
              "      <td>0.419270</td>\n",
              "      <td>0.420395</td>\n",
              "      <td>0.446136</td>\n",
              "      <td>0.432658</td>\n",
              "    </tr>\n",
              "  </tbody>\n",
              "</table>\n",
              "</div>"
            ],
            "text/plain": [
              "             Linear_Regression  Ridge_Regression  Lasso_Regression  ElasticNet\n",
              "Fold Number                                                                   \n",
              "0                     0.295720          0.295111          0.296382    0.295043\n",
              "1                     0.355736          0.353394          0.329133    0.335566\n",
              "2                     0.509060          0.505277          0.458022    0.473288\n",
              "3                     0.424556          0.424713          0.444242    0.432758\n",
              "4                     0.464477          0.462934          0.446472    0.451263\n",
              "5                     0.340430          0.339356          0.339026    0.332325\n",
              "6                     0.322138          0.320841          0.329480    0.321638\n",
              "7                     1.080823          1.082791          1.133027    1.108997\n",
              "8                     0.752312          0.752114          0.743625    0.747758\n",
              "9                     0.419270          0.420395          0.446136    0.432658"
            ]
          },
          "metadata": {
            "tags": []
          },
          "execution_count": 18
        }
      ]
    },
    {
      "cell_type": "code",
      "metadata": {
        "id": "Sy2fkUOn--lN",
        "colab_type": "code",
        "outputId": "62c02196-c74c-4696-fd5d-1bdc93f89b1a",
        "colab": {
          "base_uri": "https://localhost:8080/",
          "height": 175
        }
      },
      "source": [
        "cv_results_df.mean().to_frame(name='Average RMSE from 10 Folds')"
      ],
      "execution_count": 0,
      "outputs": [
        {
          "output_type": "execute_result",
          "data": {
            "text/html": [
              "<div>\n",
              "<style scoped>\n",
              "    .dataframe tbody tr th:only-of-type {\n",
              "        vertical-align: middle;\n",
              "    }\n",
              "\n",
              "    .dataframe tbody tr th {\n",
              "        vertical-align: top;\n",
              "    }\n",
              "\n",
              "    .dataframe thead th {\n",
              "        text-align: right;\n",
              "    }\n",
              "</style>\n",
              "<table border=\"1\" class=\"dataframe\">\n",
              "  <thead>\n",
              "    <tr style=\"text-align: right;\">\n",
              "      <th></th>\n",
              "      <th>Average RMSE from 10 Folds</th>\n",
              "    </tr>\n",
              "  </thead>\n",
              "  <tbody>\n",
              "    <tr>\n",
              "      <th>Linear_Regression</th>\n",
              "      <td>0.496452</td>\n",
              "    </tr>\n",
              "    <tr>\n",
              "      <th>Ridge_Regression</th>\n",
              "      <td>0.495693</td>\n",
              "    </tr>\n",
              "    <tr>\n",
              "      <th>Lasso_Regression</th>\n",
              "      <td>0.496555</td>\n",
              "    </tr>\n",
              "    <tr>\n",
              "      <th>ElasticNet</th>\n",
              "      <td>0.493129</td>\n",
              "    </tr>\n",
              "  </tbody>\n",
              "</table>\n",
              "</div>"
            ],
            "text/plain": [
              "                   Average RMSE from 10 Folds\n",
              "Linear_Regression                    0.496452\n",
              "Ridge_Regression                     0.495693\n",
              "Lasso_Regression                     0.496555\n",
              "ElasticNet                           0.493129"
            ]
          },
          "metadata": {
            "tags": []
          },
          "execution_count": 19
        }
      ]
    },
    {
      "cell_type": "markdown",
      "metadata": {
        "id": "a8sTTiU7mEO0",
        "colab_type": "text"
      },
      "source": [
        "# Recommendations"
      ]
    },
    {
      "cell_type": "markdown",
      "metadata": {
        "id": "rro60naomfPK",
        "colab_type": "text"
      },
      "source": [
        "With a very low alpha (0.01) set for ElasticNet and Lasso we see all models perform nearly the same. As lowering the alpha level produces more extreme and less resonable perdictions, and Linear and Ridge perform better at baseline (no alpha for Linear and alpha=1 for Ridge), our recommendation is to move forward with Ridge as the model of choice."
      ]
    }
  ]
}