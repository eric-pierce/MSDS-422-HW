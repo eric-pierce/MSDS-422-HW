{
  "nbformat": 4,
  "nbformat_minor": 0,
  "metadata": {
    "colab": {
      "name": "epierce_assignment_5.ipynb",
      "version": "0.3.2",
      "provenance": [],
      "collapsed_sections": [],
      "toc_visible": true,
      "include_colab_link": true
    },
    "kernelspec": {
      "name": "python3",
      "display_name": "Python 3"
    }
  },
  "cells": [
    {
      "cell_type": "markdown",
      "metadata": {
        "id": "view-in-github",
        "colab_type": "text"
      },
      "source": [
        "<a href=\"https://colab.research.google.com/github/eric-pierce/MSDS-422-HW/blob/master/epierce_assignment_5.ipynb\" target=\"_parent\"><img src=\"https://colab.research.google.com/assets/colab-badge.svg\" alt=\"Open In Colab\"/></a>"
      ]
    },
    {
      "cell_type": "markdown",
      "metadata": {
        "id": "-5zceVtRCaiv",
        "colab_type": "text"
      },
      "source": [
        "# Assignment 5: Principal Components Analysis\n",
        "## MSDS-422 Spring 2019 - Eric Pierce\n",
        "## Background  \n",
        "The manager of a data science team is looking to implement models for computer vision, and is leveraging the handwritten digit dataset known as MNIST (\"Modified National Institute of Standards and Technology\") dataset. This was made available in 1999, and is available in the comma delimited files <digit_recognition_train.csv> for the a labled dataset of 42k digits, and <digit_recognition_test.csv> for an unlabled dataset of 58k digits.\n",
        "## Objective\n",
        "The data science team manager is looking to find a balance between model accuracy, model development (time spend by data scientists creating model) and implementation (processing cost of models to run). As part of this assignment Random Forest Classification will be utilized, both with and without leveraging Principal Component Analysis."
      ]
    },
    {
      "cell_type": "markdown",
      "metadata": {
        "id": "nYEMbhy2CzhL",
        "colab_type": "text"
      },
      "source": [
        "# Setup and Data Import\n",
        "Initialize the data and libraries used as part of this project"
      ]
    },
    {
      "cell_type": "markdown",
      "metadata": {
        "id": "kGc5tYFCFJ_W",
        "colab_type": "text"
      },
      "source": [
        "### Library Import and Setting Initialization"
      ]
    },
    {
      "cell_type": "code",
      "metadata": {
        "id": "ePXywTrhwMY0",
        "colab_type": "code",
        "colab": {}
      },
      "source": [
        "# import base packages into the namespace for this program\n",
        "import numpy as np\n",
        "import pandas as pd\n",
        "import matplotlib\n",
        "import matplotlib.pyplot as plt\n",
        "import seaborn as sns\n",
        "import datetime\n",
        "import yellowbrick\n",
        "from sklearn.decomposition import PCA\n",
        "from sklearn.ensemble import RandomForestClassifier\n",
        "from yellowbrick.classifier import ClassificationReport\n",
        "\n",
        "# seed value for random number generators to obtain reproducible results\n",
        "RANDOM_SEED = 1"
      ],
      "execution_count": 0,
      "outputs": []
    },
    {
      "cell_type": "markdown",
      "metadata": {
        "id": "BWtxf9-nFyzK",
        "colab_type": "text"
      },
      "source": [
        "### Data Import"
      ]
    },
    {
      "cell_type": "code",
      "metadata": {
        "id": "nENa0SBjwUO1",
        "colab_type": "code",
        "colab": {}
      },
      "source": [
        "mnist_train = pd.read_csv(\"https://raw.githubusercontent.com/eric-pierce/MSDS-422/master/digit_recognition_train.csv\")\n",
        "mnist_test = pd.read_csv(\"https://raw.githubusercontent.com/eric-pierce/MSDS-422/master/digit_recognition_test.csv\")"
      ],
      "execution_count": 0,
      "outputs": []
    },
    {
      "cell_type": "markdown",
      "metadata": {
        "id": "VQrdb1UJGaan",
        "colab_type": "text"
      },
      "source": [
        "# Exploratory Data Analysis\n",
        "*   Clean Data\n",
        "*   Identify Data Descriptions and Statistics\n",
        "*   Visualize Input Data"
      ]
    },
    {
      "cell_type": "markdown",
      "metadata": {
        "id": "ks9OAB1ZHV2x",
        "colab_type": "text"
      },
      "source": [
        "### Clean Data"
      ]
    },
    {
      "cell_type": "markdown",
      "metadata": {
        "id": "-gHDXqHqfj0O",
        "colab_type": "text"
      },
      "source": [
        "Examine the shape of original input data"
      ]
    },
    {
      "cell_type": "code",
      "metadata": {
        "id": "svM252TmHZrl",
        "colab_type": "code",
        "outputId": "d9772591-2e55-4cec-ea8e-d0eac494fa0b",
        "colab": {
          "base_uri": "https://localhost:8080/",
          "height": 35
        }
      },
      "source": [
        "print(mnist_train.shape)"
      ],
      "execution_count": 0,
      "outputs": [
        {
          "output_type": "stream",
          "text": [
            "(42000, 785)\n"
          ],
          "name": "stdout"
        }
      ]
    },
    {
      "cell_type": "markdown",
      "metadata": {
        "id": "IbpEiKD8fqGc",
        "colab_type": "text"
      },
      "source": [
        "After dropping any non-populated values the shape is the same, therefore all values are populated"
      ]
    },
    {
      "cell_type": "code",
      "metadata": {
        "id": "iaC7IgSUG2Sv",
        "colab_type": "code",
        "outputId": "e105026c-c27f-4deb-d414-948c8b3c1272",
        "colab": {
          "base_uri": "https://localhost:8080/",
          "height": 35
        }
      },
      "source": [
        "mnist_train.dropna()\n",
        "print(mnist_train.shape)"
      ],
      "execution_count": 0,
      "outputs": [
        {
          "output_type": "stream",
          "text": [
            "(42000, 785)\n"
          ],
          "name": "stdout"
        }
      ]
    },
    {
      "cell_type": "markdown",
      "metadata": {
        "id": "bBOBIIH8f61p",
        "colab_type": "text"
      },
      "source": [
        "Sample rows, each row consists of a label identifying the actual number written, followed by 783 pixels (28x28 image)"
      ]
    },
    {
      "cell_type": "code",
      "metadata": {
        "id": "vgCH5X1zIQ_q",
        "colab_type": "code",
        "outputId": "3b2c03d2-0650-49c4-e673-2c4927b86e27",
        "colab": {
          "base_uri": "https://localhost:8080/",
          "height": 236
        }
      },
      "source": [
        "mnist_train.head()"
      ],
      "execution_count": 0,
      "outputs": [
        {
          "output_type": "execute_result",
          "data": {
            "text/html": [
              "<div>\n",
              "<style scoped>\n",
              "    .dataframe tbody tr th:only-of-type {\n",
              "        vertical-align: middle;\n",
              "    }\n",
              "\n",
              "    .dataframe tbody tr th {\n",
              "        vertical-align: top;\n",
              "    }\n",
              "\n",
              "    .dataframe thead th {\n",
              "        text-align: right;\n",
              "    }\n",
              "</style>\n",
              "<table border=\"1\" class=\"dataframe\">\n",
              "  <thead>\n",
              "    <tr style=\"text-align: right;\">\n",
              "      <th></th>\n",
              "      <th>label</th>\n",
              "      <th>pixel0</th>\n",
              "      <th>pixel1</th>\n",
              "      <th>pixel2</th>\n",
              "      <th>pixel3</th>\n",
              "      <th>pixel4</th>\n",
              "      <th>pixel5</th>\n",
              "      <th>pixel6</th>\n",
              "      <th>pixel7</th>\n",
              "      <th>pixel8</th>\n",
              "      <th>...</th>\n",
              "      <th>pixel774</th>\n",
              "      <th>pixel775</th>\n",
              "      <th>pixel776</th>\n",
              "      <th>pixel777</th>\n",
              "      <th>pixel778</th>\n",
              "      <th>pixel779</th>\n",
              "      <th>pixel780</th>\n",
              "      <th>pixel781</th>\n",
              "      <th>pixel782</th>\n",
              "      <th>pixel783</th>\n",
              "    </tr>\n",
              "  </thead>\n",
              "  <tbody>\n",
              "    <tr>\n",
              "      <th>0</th>\n",
              "      <td>1</td>\n",
              "      <td>0</td>\n",
              "      <td>0</td>\n",
              "      <td>0</td>\n",
              "      <td>0</td>\n",
              "      <td>0</td>\n",
              "      <td>0</td>\n",
              "      <td>0</td>\n",
              "      <td>0</td>\n",
              "      <td>0</td>\n",
              "      <td>...</td>\n",
              "      <td>0</td>\n",
              "      <td>0</td>\n",
              "      <td>0</td>\n",
              "      <td>0</td>\n",
              "      <td>0</td>\n",
              "      <td>0</td>\n",
              "      <td>0</td>\n",
              "      <td>0</td>\n",
              "      <td>0</td>\n",
              "      <td>0</td>\n",
              "    </tr>\n",
              "    <tr>\n",
              "      <th>1</th>\n",
              "      <td>0</td>\n",
              "      <td>0</td>\n",
              "      <td>0</td>\n",
              "      <td>0</td>\n",
              "      <td>0</td>\n",
              "      <td>0</td>\n",
              "      <td>0</td>\n",
              "      <td>0</td>\n",
              "      <td>0</td>\n",
              "      <td>0</td>\n",
              "      <td>...</td>\n",
              "      <td>0</td>\n",
              "      <td>0</td>\n",
              "      <td>0</td>\n",
              "      <td>0</td>\n",
              "      <td>0</td>\n",
              "      <td>0</td>\n",
              "      <td>0</td>\n",
              "      <td>0</td>\n",
              "      <td>0</td>\n",
              "      <td>0</td>\n",
              "    </tr>\n",
              "    <tr>\n",
              "      <th>2</th>\n",
              "      <td>1</td>\n",
              "      <td>0</td>\n",
              "      <td>0</td>\n",
              "      <td>0</td>\n",
              "      <td>0</td>\n",
              "      <td>0</td>\n",
              "      <td>0</td>\n",
              "      <td>0</td>\n",
              "      <td>0</td>\n",
              "      <td>0</td>\n",
              "      <td>...</td>\n",
              "      <td>0</td>\n",
              "      <td>0</td>\n",
              "      <td>0</td>\n",
              "      <td>0</td>\n",
              "      <td>0</td>\n",
              "      <td>0</td>\n",
              "      <td>0</td>\n",
              "      <td>0</td>\n",
              "      <td>0</td>\n",
              "      <td>0</td>\n",
              "    </tr>\n",
              "    <tr>\n",
              "      <th>3</th>\n",
              "      <td>4</td>\n",
              "      <td>0</td>\n",
              "      <td>0</td>\n",
              "      <td>0</td>\n",
              "      <td>0</td>\n",
              "      <td>0</td>\n",
              "      <td>0</td>\n",
              "      <td>0</td>\n",
              "      <td>0</td>\n",
              "      <td>0</td>\n",
              "      <td>...</td>\n",
              "      <td>0</td>\n",
              "      <td>0</td>\n",
              "      <td>0</td>\n",
              "      <td>0</td>\n",
              "      <td>0</td>\n",
              "      <td>0</td>\n",
              "      <td>0</td>\n",
              "      <td>0</td>\n",
              "      <td>0</td>\n",
              "      <td>0</td>\n",
              "    </tr>\n",
              "    <tr>\n",
              "      <th>4</th>\n",
              "      <td>0</td>\n",
              "      <td>0</td>\n",
              "      <td>0</td>\n",
              "      <td>0</td>\n",
              "      <td>0</td>\n",
              "      <td>0</td>\n",
              "      <td>0</td>\n",
              "      <td>0</td>\n",
              "      <td>0</td>\n",
              "      <td>0</td>\n",
              "      <td>...</td>\n",
              "      <td>0</td>\n",
              "      <td>0</td>\n",
              "      <td>0</td>\n",
              "      <td>0</td>\n",
              "      <td>0</td>\n",
              "      <td>0</td>\n",
              "      <td>0</td>\n",
              "      <td>0</td>\n",
              "      <td>0</td>\n",
              "      <td>0</td>\n",
              "    </tr>\n",
              "  </tbody>\n",
              "</table>\n",
              "<p>5 rows × 785 columns</p>\n",
              "</div>"
            ],
            "text/plain": [
              "   label  pixel0  pixel1  pixel2  pixel3  pixel4  pixel5  pixel6  pixel7  \\\n",
              "0      1       0       0       0       0       0       0       0       0   \n",
              "1      0       0       0       0       0       0       0       0       0   \n",
              "2      1       0       0       0       0       0       0       0       0   \n",
              "3      4       0       0       0       0       0       0       0       0   \n",
              "4      0       0       0       0       0       0       0       0       0   \n",
              "\n",
              "   pixel8  ...  pixel774  pixel775  pixel776  pixel777  pixel778  pixel779  \\\n",
              "0       0  ...         0         0         0         0         0         0   \n",
              "1       0  ...         0         0         0         0         0         0   \n",
              "2       0  ...         0         0         0         0         0         0   \n",
              "3       0  ...         0         0         0         0         0         0   \n",
              "4       0  ...         0         0         0         0         0         0   \n",
              "\n",
              "   pixel780  pixel781  pixel782  pixel783  \n",
              "0         0         0         0         0  \n",
              "1         0         0         0         0  \n",
              "2         0         0         0         0  \n",
              "3         0         0         0         0  \n",
              "4         0         0         0         0  \n",
              "\n",
              "[5 rows x 785 columns]"
            ]
          },
          "metadata": {
            "tags": []
          },
          "execution_count": 5
        }
      ]
    },
    {
      "cell_type": "markdown",
      "metadata": {
        "id": "16y21LacMWrO",
        "colab_type": "text"
      },
      "source": [
        "### Identify Data Descriptions and Statistics"
      ]
    },
    {
      "cell_type": "markdown",
      "metadata": {
        "id": "bBxWN6L6gYtH",
        "colab_type": "text"
      },
      "source": [
        "Descriptive statistics for all pixels won't be very helpful as there are so many of them.\n",
        "\n",
        "The mean value for label is 4.4 and the standard deviation is 2.8, so there is a good distribution across digits 0-9."
      ]
    },
    {
      "cell_type": "code",
      "metadata": {
        "id": "moQslPwWMrTv",
        "colab_type": "code",
        "outputId": "e231538e-f7fb-4f54-e408-6e633385c5bb",
        "colab": {
          "base_uri": "https://localhost:8080/",
          "height": 300
        }
      },
      "source": [
        "pd.DataFrame(mnist_train['label'].describe())"
      ],
      "execution_count": 0,
      "outputs": [
        {
          "output_type": "execute_result",
          "data": {
            "text/html": [
              "<div>\n",
              "<style scoped>\n",
              "    .dataframe tbody tr th:only-of-type {\n",
              "        vertical-align: middle;\n",
              "    }\n",
              "\n",
              "    .dataframe tbody tr th {\n",
              "        vertical-align: top;\n",
              "    }\n",
              "\n",
              "    .dataframe thead th {\n",
              "        text-align: right;\n",
              "    }\n",
              "</style>\n",
              "<table border=\"1\" class=\"dataframe\">\n",
              "  <thead>\n",
              "    <tr style=\"text-align: right;\">\n",
              "      <th></th>\n",
              "      <th>label</th>\n",
              "    </tr>\n",
              "  </thead>\n",
              "  <tbody>\n",
              "    <tr>\n",
              "      <th>count</th>\n",
              "      <td>42000.000000</td>\n",
              "    </tr>\n",
              "    <tr>\n",
              "      <th>mean</th>\n",
              "      <td>4.456643</td>\n",
              "    </tr>\n",
              "    <tr>\n",
              "      <th>std</th>\n",
              "      <td>2.887730</td>\n",
              "    </tr>\n",
              "    <tr>\n",
              "      <th>min</th>\n",
              "      <td>0.000000</td>\n",
              "    </tr>\n",
              "    <tr>\n",
              "      <th>25%</th>\n",
              "      <td>2.000000</td>\n",
              "    </tr>\n",
              "    <tr>\n",
              "      <th>50%</th>\n",
              "      <td>4.000000</td>\n",
              "    </tr>\n",
              "    <tr>\n",
              "      <th>75%</th>\n",
              "      <td>7.000000</td>\n",
              "    </tr>\n",
              "    <tr>\n",
              "      <th>max</th>\n",
              "      <td>9.000000</td>\n",
              "    </tr>\n",
              "  </tbody>\n",
              "</table>\n",
              "</div>"
            ],
            "text/plain": [
              "              label\n",
              "count  42000.000000\n",
              "mean       4.456643\n",
              "std        2.887730\n",
              "min        0.000000\n",
              "25%        2.000000\n",
              "50%        4.000000\n",
              "75%        7.000000\n",
              "max        9.000000"
            ]
          },
          "metadata": {
            "tags": []
          },
          "execution_count": 6
        }
      ]
    },
    {
      "cell_type": "markdown",
      "metadata": {
        "id": "jtthegLWMgxB",
        "colab_type": "text"
      },
      "source": [
        "### Visualize Input Data"
      ]
    },
    {
      "cell_type": "markdown",
      "metadata": {
        "id": "QB9gYK3YfHma",
        "colab_type": "text"
      },
      "source": [
        "#### Sample Digit Image"
      ]
    },
    {
      "cell_type": "markdown",
      "metadata": {
        "id": "BsJgkFjehA-e",
        "colab_type": "text"
      },
      "source": [
        "Selecting and rending one row as an image"
      ]
    },
    {
      "cell_type": "code",
      "metadata": {
        "id": "6-ehzCDAfH7F",
        "colab_type": "code",
        "outputId": "2ae3405b-6cb8-4d32-b578-2514e12e0b2c",
        "colab": {
          "base_uri": "https://localhost:8080/",
          "height": 347
        }
      },
      "source": [
        "plt.imshow(mnist_train.iloc[3500, 1:].values.reshape(28, 28), cmap=matplotlib.cm.binary, interpolation=\"nearest\")\n",
        "plt.axis(\"off\")\n",
        "plt.show()"
      ],
      "execution_count": 0,
      "outputs": [
        {
          "output_type": "display_data",
          "data": {
            "image/png": "[encoded data removed]",
            "text/plain": [
              "<Figure size 576x396 with 1 Axes>"
            ]
          },
          "metadata": {
            "tags": []
          }
        }
      ]
    },
    {
      "cell_type": "code",
      "metadata": {
        "id": "B3QDqvKdMTv7",
        "colab_type": "code",
        "outputId": "70a5f4b6-a7f1-4d74-d21b-fd32314ddbec",
        "colab": {
          "base_uri": "https://localhost:8080/",
          "height": 403
        }
      },
      "source": [
        "def plot_digits(instances, images_per_row = 10, **options):\n",
        "    size = 28\n",
        "    images_per_row = min(len(instances), images_per_row)\n",
        "    images = [instance.reshape(size,size) for instance in instances]\n",
        "    n_rows = (len(instances) - 1) // images_per_row + 1\n",
        "    row_images = []\n",
        "    n_empty = n_rows * images_per_row - len(instances)\n",
        "    images.append(np.zeros((size, size * n_empty)))\n",
        "    for row in range(n_rows):\n",
        "        rimages = images[row * images_per_row : (row + 1) * images_per_row]\n",
        "        row_images.append(np.concatenate(rimages, axis=1))\n",
        "    image = np.concatenate(row_images, axis=0)\n",
        "    plt.imshow(image, cmap = matplotlib.cm.binary, **options)\n",
        "    plt.axis('off')\n",
        "\n",
        "plt.figure(figsize=(9,9))\n",
        "example_images = np.r_[mnist_train.iloc[:12000:600, 1:], mnist_train.iloc[13000:30600:600, 1:], mnist_train.iloc[30600:60000:590, 1:]]\n",
        "plot_digits(example_images, images_per_row=10)\n",
        "plt.show()"
      ],
      "execution_count": 0,
      "outputs": [
        {
          "output_type": "display_data",
          "data": {
            "image/png": "[encoded data removed]",
            "text/plain": [
              "<Figure size 648x648 with 1 Axes>"
            ]
          },
          "metadata": {
            "tags": []
          }
        }
      ]
    },
    {
      "cell_type": "markdown",
      "metadata": {
        "id": "yXBkegeHe4C5",
        "colab_type": "text"
      },
      "source": [
        "#### Numeric Parameter Histograms"
      ]
    },
    {
      "cell_type": "markdown",
      "metadata": {
        "id": "anMNO5OmipOa",
        "colab_type": "text"
      },
      "source": [
        "The discriptive statistic analysis already indicated good coverage across digits in the training file, and a histogram visualizes that distribution."
      ]
    },
    {
      "cell_type": "code",
      "metadata": {
        "id": "8LwCsjg-NxqI",
        "colab_type": "code",
        "outputId": "1795ab9d-6620-4a76-d68d-237eba609526",
        "colab": {
          "base_uri": "https://localhost:8080/",
          "height": 389
        }
      },
      "source": [
        "mnist_train[['label']].hist(bins=20, figsize=(10,6))\n",
        "plt.show()"
      ],
      "execution_count": 0,
      "outputs": [
        {
          "output_type": "display_data",
          "data": {
            "image/png": "[encoded data removed]",
            "text/plain": [
              "<Figure size 720x432 with 1 Axes>"
            ]
          },
          "metadata": {
            "tags": []
          }
        }
      ]
    },
    {
      "cell_type": "markdown",
      "metadata": {
        "id": "aMwKv9ZBmjAr",
        "colab_type": "text"
      },
      "source": [
        "By examining a Histogram of the pixel values, we can see that the data ranges from 0-255, indicating that it is grayscale as opposed to 0 or 1 for black and white."
      ]
    },
    {
      "cell_type": "code",
      "metadata": {
        "id": "xs1M6IC4mjJR",
        "colab_type": "code",
        "outputId": "3b367baf-f305-4456-e032-bad78a6a2d26",
        "colab": {
          "base_uri": "https://localhost:8080/",
          "height": 374
        }
      },
      "source": [
        "mnist_train.iloc[:, 1:].iloc[1].hist(figsize=(10,6))\n",
        "plt.show()"
      ],
      "execution_count": 0,
      "outputs": [
        {
          "output_type": "display_data",
          "data": {
            "image/png": "[encoded data removed]",
            "text/plain": [
              "<Figure size 720x432 with 1 Axes>"
            ]
          },
          "metadata": {
            "tags": []
          }
        }
      ]
    },
    {
      "cell_type": "markdown",
      "metadata": {
        "id": "f1V-6e_be80o",
        "colab_type": "text"
      },
      "source": [
        "#### Construct Average Digit Images"
      ]
    },
    {
      "cell_type": "markdown",
      "metadata": {
        "id": "JhftOlO4DFOT",
        "colab_type": "text"
      },
      "source": [
        "First we can examine what the average digit looks like"
      ]
    },
    {
      "cell_type": "code",
      "metadata": {
        "id": "KKhOx_nKB_7x",
        "colab_type": "code",
        "outputId": "d281ea8d-b06a-481f-f8ae-8e9898b99555",
        "colab": {
          "base_uri": "https://localhost:8080/",
          "height": 347
        }
      },
      "source": [
        "plt.imshow(mnist_train.mean().iloc[1:].values.reshape(28, 28), cmap=matplotlib.cm.binary, interpolation=\"nearest\")\n",
        "plt.axis(\"off\")\n",
        "plt.show()"
      ],
      "execution_count": 0,
      "outputs": [
        {
          "output_type": "display_data",
          "data": {
            "image/png": "[encoded data removed]",
            "text/plain": [
              "<Figure size 576x396 with 1 Axes>"
            ]
          },
          "metadata": {
            "tags": []
          }
        }
      ]
    },
    {
      "cell_type": "markdown",
      "metadata": {
        "id": "7LY9-eDM-R4x",
        "colab_type": "text"
      },
      "source": [
        "Here we can construct average images for the 10 digits by taking the mean of all images with the same label"
      ]
    },
    {
      "cell_type": "code",
      "metadata": {
        "id": "ifNo1N6u3AG0",
        "colab_type": "code",
        "outputId": "f274e110-8936-42f8-e991-24decff6ad78",
        "colab": {
          "base_uri": "https://localhost:8080/",
          "height": 159
        }
      },
      "source": [
        "fig = plt.figure(figsize=(23,5))\n",
        "digit_count=len(mnist_train.groupby('label').mean())\n",
        "for i in range(digit_count):\n",
        "  fig.add_subplot(1,digit_count,i+1)\n",
        "  plt.imshow(mnist_train.groupby('label').mean().iloc[i, 0:].values.reshape(28, 28), cmap=matplotlib.cm.binary, interpolation=\"nearest\")\n",
        "  plt.axis(\"off\")"
      ],
      "execution_count": 0,
      "outputs": [
        {
          "output_type": "display_data",
          "data": {
            "image/png": "[encoded data removed]",
            "text/plain": [
              "<Figure size 1656x360 with 10 Axes>"
            ]
          },
          "metadata": {
            "tags": []
          }
        }
      ]
    },
    {
      "cell_type": "markdown",
      "metadata": {
        "id": "Wnmu8dIQfuij",
        "colab_type": "text"
      },
      "source": [
        "# Random Forest Model Submission 1"
      ]
    },
    {
      "cell_type": "markdown",
      "metadata": {
        "id": "7h4gzsgBkSOK",
        "colab_type": "text"
      },
      "source": [
        "### Model Definition and Training"
      ]
    },
    {
      "cell_type": "code",
      "metadata": {
        "id": "zCFP0KirYusp",
        "colab_type": "code",
        "colab": {}
      },
      "source": [
        "training_images = mnist_train.iloc[:, 1:]\n",
        "training_labels = mnist_train.iloc[:, 0]\n",
        "\n",
        "random_forest=RandomForestClassifier(max_features = 'sqrt', bootstrap = True, n_estimators = 10, random_state=RANDOM_SEED)"
      ],
      "execution_count": 0,
      "outputs": []
    },
    {
      "cell_type": "code",
      "metadata": {
        "colab_type": "code",
        "id": "7-Yl08byGXi3",
        "outputId": "215b98d6-dbd7-4570-e807-f1d50a9827b8",
        "colab": {
          "base_uri": "https://localhost:8080/",
          "height": 54
        }
      },
      "source": [
        "start=datetime.datetime.now()\n",
        "random_forest.fit(training_images, training_labels)\n",
        "end=datetime.datetime.now()\n",
        "r1_traintime=end-start\n",
        "print(\"Time required to fit\",r1_traintime)\n",
        "print(\"Score:\",random_forest.score(training_images, training_labels))"
      ],
      "execution_count": 0,
      "outputs": [
        {
          "output_type": "stream",
          "text": [
            "Time required to fit 0:00:03.836718\n",
            "Score: 0.9991190476190476\n"
          ],
          "name": "stdout"
        }
      ]
    },
    {
      "cell_type": "code",
      "metadata": {
        "id": "VIJ66ixmOq83",
        "colab_type": "code",
        "colab": {}
      },
      "source": [
        "visualizer = ClassificationReport(random_forest, support = 'percent')\n",
        "visualizer.fit(training_images, training_labels)\n",
        "#visualizer.score(X_test, y_test)\n",
        "visualizer.poof()"
      ],
      "execution_count": 0,
      "outputs": []
    },
    {
      "cell_type": "markdown",
      "metadata": {
        "id": "c7n3dtYKmRSJ",
        "colab_type": "text"
      },
      "source": [
        "### Model Results and Initial Submission"
      ]
    },
    {
      "cell_type": "code",
      "metadata": {
        "id": "O_jW7LvLk0Vn",
        "colab_type": "code",
        "outputId": "9c968b1b-5a4e-4c34-989a-45d940e521ee",
        "colab": {
          "base_uri": "https://localhost:8080/",
          "height": 362
        }
      },
      "source": [
        "r1_submission = pd.DataFrame()\n",
        "r1_submission['Label'] = random_forest.predict(mnist_test)\n",
        "r1_submission.index += 1\n",
        "r1_submission.index.name = 'ImageId'\n",
        "plt.imshow(mnist_test.iloc[12121, :].values.reshape(28, 28), cmap=matplotlib.cm.binary, interpolation=\"nearest\")\n",
        "plt.title('Prediction: {}'.format(r1_submission.iloc[12121, 0]))\n",
        "plt.axis(\"off\")\n",
        "plt.show()"
      ],
      "execution_count": 0,
      "outputs": [
        {
          "output_type": "display_data",
          "data": {
            "image/png": "[encoded data removed]",
            "text/plain": [
              "<Figure size 576x396 with 1 Axes>"
            ]
          },
          "metadata": {
            "tags": []
          }
        }
      ]
    },
    {
      "cell_type": "markdown",
      "metadata": {
        "id": "tbvKsUHPZs5v",
        "colab_type": "text"
      },
      "source": [
        "The average images generated by the model on the test dataset are clearly identifiable as 0-9"
      ]
    },
    {
      "cell_type": "code",
      "metadata": {
        "id": "0JoEylDOV2Wo",
        "colab_type": "code",
        "outputId": "d5945bc2-34f6-4730-c02a-43be7ae2e6bb",
        "colab": {
          "base_uri": "https://localhost:8080/",
          "height": 159
        }
      },
      "source": [
        "fig = plt.figure(figsize=(23,5))\n",
        "\n",
        "r1_submission_results=mnist_test.copy()\n",
        "r1_submission_results['label']=r1_submission['Label'].values\n",
        "digit_count=len(r1_submission_results.groupby('label').mean())\n",
        "\n",
        "for i in range(digit_count):\n",
        "  fig.add_subplot(1,digit_count,i+1)\n",
        "  plt.imshow(r1_submission_results.groupby('label').mean().iloc[i, 0:].values.reshape(28, 28), cmap=matplotlib.cm.binary, interpolation=\"nearest\")\n",
        "  plt.axis(\"off\")"
      ],
      "execution_count": 0,
      "outputs": [
        {
          "output_type": "display_data",
          "data": {
            "image/png": "[encoded data removed]",
            "text/plain": [
              "<Figure size 1656x360 with 10 Axes>"
            ]
          },
          "metadata": {
            "tags": []
          }
        }
      ]
    },
    {
      "cell_type": "markdown",
      "metadata": {
        "id": "_3HE_W99RLFc",
        "colab_type": "text"
      },
      "source": [
        "Save results to Google Drive"
      ]
    },
    {
      "cell_type": "code",
      "metadata": {
        "id": "0btsGf6kQ7NI",
        "colab_type": "code",
        "outputId": "89b23ded-1057-45b9-b9b5-cdd10db48994",
        "colab": {
          "base_uri": "https://localhost:8080/",
          "height": 35
        }
      },
      "source": [
        "from google.colab import drive\n",
        "drive.mount('/content/gdrive')\n",
        "\n",
        "r1_submission.to_csv('/content/gdrive/My Drive/MSDS-422-Gift/module_5/r1_submission.csv')"
      ],
      "execution_count": 0,
      "outputs": [
        {
          "output_type": "stream",
          "text": [
            "Drive already mounted at /content/gdrive; to attempt to forcibly remount, call drive.mount(\"/content/gdrive\", force_remount=True).\n"
          ],
          "name": "stdout"
        }
      ]
    },
    {
      "cell_type": "markdown",
      "metadata": {
        "id": "UJQRNWLBLyfp",
        "colab_type": "text"
      },
      "source": [
        "This data was submitted to Kaggle under the username ericpierce, and resulted in a score of 0.94242"
      ]
    },
    {
      "cell_type": "markdown",
      "metadata": {
        "colab_type": "text",
        "id": "fnG5tu46KWzE"
      },
      "source": [
        "# Principal Component Analysis"
      ]
    },
    {
      "cell_type": "markdown",
      "metadata": {
        "colab_type": "text",
        "id": "i_djTFJYKWzI"
      },
      "source": [
        "### Initialize Combined Dataset"
      ]
    },
    {
      "cell_type": "code",
      "metadata": {
        "colab_type": "code",
        "id": "EukVJPvOKWzW",
        "outputId": "7ab79800-3cfb-407f-f8da-6eef30167291",
        "colab": {
          "base_uri": "https://localhost:8080/",
          "height": 35
        }
      },
      "source": [
        "from sklearn.decomposition import PCA\n",
        "\n",
        "mnist_total_prescale = mnist_test.copy().append(mnist_train.copy().iloc[:,1:])\n",
        "mnist_total_prescale.shape"
      ],
      "execution_count": 0,
      "outputs": [
        {
          "output_type": "execute_result",
          "data": {
            "text/plain": [
              "(70000, 784)"
            ]
          },
          "metadata": {
            "tags": []
          },
          "execution_count": 19
        }
      ]
    },
    {
      "cell_type": "code",
      "metadata": {
        "id": "aDa3WB5egCW5",
        "colab_type": "code",
        "outputId": "678e983b-d1fa-4e83-f9d2-3b2eddaa224d",
        "colab": {
          "base_uri": "https://localhost:8080/",
          "height": 236
        }
      },
      "source": [
        "mnist_total_prescale.head()"
      ],
      "execution_count": 0,
      "outputs": [
        {
          "output_type": "execute_result",
          "data": {
            "text/html": [
              "<div>\n",
              "<style scoped>\n",
              "    .dataframe tbody tr th:only-of-type {\n",
              "        vertical-align: middle;\n",
              "    }\n",
              "\n",
              "    .dataframe tbody tr th {\n",
              "        vertical-align: top;\n",
              "    }\n",
              "\n",
              "    .dataframe thead th {\n",
              "        text-align: right;\n",
              "    }\n",
              "</style>\n",
              "<table border=\"1\" class=\"dataframe\">\n",
              "  <thead>\n",
              "    <tr style=\"text-align: right;\">\n",
              "      <th></th>\n",
              "      <th>pixel0</th>\n",
              "      <th>pixel1</th>\n",
              "      <th>pixel2</th>\n",
              "      <th>pixel3</th>\n",
              "      <th>pixel4</th>\n",
              "      <th>pixel5</th>\n",
              "      <th>pixel6</th>\n",
              "      <th>pixel7</th>\n",
              "      <th>pixel8</th>\n",
              "      <th>pixel9</th>\n",
              "      <th>...</th>\n",
              "      <th>pixel774</th>\n",
              "      <th>pixel775</th>\n",
              "      <th>pixel776</th>\n",
              "      <th>pixel777</th>\n",
              "      <th>pixel778</th>\n",
              "      <th>pixel779</th>\n",
              "      <th>pixel780</th>\n",
              "      <th>pixel781</th>\n",
              "      <th>pixel782</th>\n",
              "      <th>pixel783</th>\n",
              "    </tr>\n",
              "  </thead>\n",
              "  <tbody>\n",
              "    <tr>\n",
              "      <th>0</th>\n",
              "      <td>0</td>\n",
              "      <td>0</td>\n",
              "      <td>0</td>\n",
              "      <td>0</td>\n",
              "      <td>0</td>\n",
              "      <td>0</td>\n",
              "      <td>0</td>\n",
              "      <td>0</td>\n",
              "      <td>0</td>\n",
              "      <td>0</td>\n",
              "      <td>...</td>\n",
              "      <td>0</td>\n",
              "      <td>0</td>\n",
              "      <td>0</td>\n",
              "      <td>0</td>\n",
              "      <td>0</td>\n",
              "      <td>0</td>\n",
              "      <td>0</td>\n",
              "      <td>0</td>\n",
              "      <td>0</td>\n",
              "      <td>0</td>\n",
              "    </tr>\n",
              "    <tr>\n",
              "      <th>1</th>\n",
              "      <td>0</td>\n",
              "      <td>0</td>\n",
              "      <td>0</td>\n",
              "      <td>0</td>\n",
              "      <td>0</td>\n",
              "      <td>0</td>\n",
              "      <td>0</td>\n",
              "      <td>0</td>\n",
              "      <td>0</td>\n",
              "      <td>0</td>\n",
              "      <td>...</td>\n",
              "      <td>0</td>\n",
              "      <td>0</td>\n",
              "      <td>0</td>\n",
              "      <td>0</td>\n",
              "      <td>0</td>\n",
              "      <td>0</td>\n",
              "      <td>0</td>\n",
              "      <td>0</td>\n",
              "      <td>0</td>\n",
              "      <td>0</td>\n",
              "    </tr>\n",
              "    <tr>\n",
              "      <th>2</th>\n",
              "      <td>0</td>\n",
              "      <td>0</td>\n",
              "      <td>0</td>\n",
              "      <td>0</td>\n",
              "      <td>0</td>\n",
              "      <td>0</td>\n",
              "      <td>0</td>\n",
              "      <td>0</td>\n",
              "      <td>0</td>\n",
              "      <td>0</td>\n",
              "      <td>...</td>\n",
              "      <td>0</td>\n",
              "      <td>0</td>\n",
              "      <td>0</td>\n",
              "      <td>0</td>\n",
              "      <td>0</td>\n",
              "      <td>0</td>\n",
              "      <td>0</td>\n",
              "      <td>0</td>\n",
              "      <td>0</td>\n",
              "      <td>0</td>\n",
              "    </tr>\n",
              "    <tr>\n",
              "      <th>3</th>\n",
              "      <td>0</td>\n",
              "      <td>0</td>\n",
              "      <td>0</td>\n",
              "      <td>0</td>\n",
              "      <td>0</td>\n",
              "      <td>0</td>\n",
              "      <td>0</td>\n",
              "      <td>0</td>\n",
              "      <td>0</td>\n",
              "      <td>0</td>\n",
              "      <td>...</td>\n",
              "      <td>0</td>\n",
              "      <td>0</td>\n",
              "      <td>0</td>\n",
              "      <td>0</td>\n",
              "      <td>0</td>\n",
              "      <td>0</td>\n",
              "      <td>0</td>\n",
              "      <td>0</td>\n",
              "      <td>0</td>\n",
              "      <td>0</td>\n",
              "    </tr>\n",
              "    <tr>\n",
              "      <th>4</th>\n",
              "      <td>0</td>\n",
              "      <td>0</td>\n",
              "      <td>0</td>\n",
              "      <td>0</td>\n",
              "      <td>0</td>\n",
              "      <td>0</td>\n",
              "      <td>0</td>\n",
              "      <td>0</td>\n",
              "      <td>0</td>\n",
              "      <td>0</td>\n",
              "      <td>...</td>\n",
              "      <td>0</td>\n",
              "      <td>0</td>\n",
              "      <td>0</td>\n",
              "      <td>0</td>\n",
              "      <td>0</td>\n",
              "      <td>0</td>\n",
              "      <td>0</td>\n",
              "      <td>0</td>\n",
              "      <td>0</td>\n",
              "      <td>0</td>\n",
              "    </tr>\n",
              "  </tbody>\n",
              "</table>\n",
              "<p>5 rows × 784 columns</p>\n",
              "</div>"
            ],
            "text/plain": [
              "   pixel0  pixel1  pixel2  pixel3  pixel4  pixel5  pixel6  pixel7  pixel8  \\\n",
              "0       0       0       0       0       0       0       0       0       0   \n",
              "1       0       0       0       0       0       0       0       0       0   \n",
              "2       0       0       0       0       0       0       0       0       0   \n",
              "3       0       0       0       0       0       0       0       0       0   \n",
              "4       0       0       0       0       0       0       0       0       0   \n",
              "\n",
              "   pixel9  ...  pixel774  pixel775  pixel776  pixel777  pixel778  pixel779  \\\n",
              "0       0  ...         0         0         0         0         0         0   \n",
              "1       0  ...         0         0         0         0         0         0   \n",
              "2       0  ...         0         0         0         0         0         0   \n",
              "3       0  ...         0         0         0         0         0         0   \n",
              "4       0  ...         0         0         0         0         0         0   \n",
              "\n",
              "   pixel780  pixel781  pixel782  pixel783  \n",
              "0         0         0         0         0  \n",
              "1         0         0         0         0  \n",
              "2         0         0         0         0  \n",
              "3         0         0         0         0  \n",
              "4         0         0         0         0  \n",
              "\n",
              "[5 rows x 784 columns]"
            ]
          },
          "metadata": {
            "tags": []
          },
          "execution_count": 20
        }
      ]
    },
    {
      "cell_type": "markdown",
      "metadata": {
        "id": "sUaULG6WTBWD",
        "colab_type": "text"
      },
      "source": [
        "While Random Forests don't require scaling, the PCA process does"
      ]
    },
    {
      "cell_type": "code",
      "metadata": {
        "id": "SDkiXc0RTAXY",
        "colab_type": "code",
        "colab": {}
      },
      "source": [
        "from sklearn.preprocessing import StandardScaler\n",
        "scaler = StandardScaler()\n",
        "mnist_total = scaler.fit_transform(mnist_total_prescale.astype(float))"
      ],
      "execution_count": 0,
      "outputs": []
    },
    {
      "cell_type": "markdown",
      "metadata": {
        "colab_type": "text",
        "id": "uImsOW7zKW0H"
      },
      "source": [
        "### Conduct PCA"
      ]
    },
    {
      "cell_type": "code",
      "metadata": {
        "colab_type": "code",
        "id": "jWY5SL8dKW0M",
        "outputId": "088ea853-43cd-4e06-945f-3e065d31cfd6",
        "colab": {
          "base_uri": "https://localhost:8080/",
          "height": 35
        }
      },
      "source": [
        "pca = PCA(n_components=0.95, random_state=RANDOM_SEED)\n",
        "\n",
        "start=datetime.datetime.now()\n",
        "mnist_reduced = pca.fit_transform(mnist_total)\n",
        "end=datetime.datetime.now()\n",
        "print(\"Time required to fit\",end-start)"
      ],
      "execution_count": 0,
      "outputs": [
        {
          "output_type": "stream",
          "text": [
            "Time required to fit 0:00:14.464985\n"
          ],
          "name": "stdout"
        }
      ]
    },
    {
      "cell_type": "markdown",
      "metadata": {
        "colab_type": "text",
        "id": "uZ1-NL_mKW0U"
      },
      "source": [
        "### Results of PCA"
      ]
    },
    {
      "cell_type": "code",
      "metadata": {
        "colab_type": "code",
        "outputId": "b916f290-ccc6-47a6-b167-9835d906eb58",
        "id": "P5vLKJqCKW0W",
        "colab": {
          "base_uri": "https://localhost:8080/",
          "height": 35
        }
      },
      "source": [
        "sum(pca.explained_variance_ratio_)"
      ],
      "execution_count": 0,
      "outputs": [
        {
          "output_type": "execute_result",
          "data": {
            "text/plain": [
              "0.9500311796713794"
            ]
          },
          "metadata": {
            "tags": []
          },
          "execution_count": 23
        }
      ]
    },
    {
      "cell_type": "code",
      "metadata": {
        "id": "mgQsDinHfSlj",
        "colab_type": "code",
        "outputId": "d441e084-af8e-4764-874f-de8326ebaa41",
        "colab": {
          "base_uri": "https://localhost:8080/",
          "height": 347
        }
      },
      "source": [
        "plt.hist(pca.explained_variance_ratio_, bins=10)\n",
        "plt.show()"
      ],
      "execution_count": 0,
      "outputs": [
        {
          "output_type": "display_data",
          "data": {
            "image/png": "[encoded data removed]",
            "text/plain": [
              "<Figure size 576x396 with 1 Axes>"
            ]
          },
          "metadata": {
            "tags": []
          }
        }
      ]
    },
    {
      "cell_type": "code",
      "metadata": {
        "id": "4p77Sk9Cgsg8",
        "colab_type": "code",
        "colab": {}
      },
      "source": [
        "mnist_train_pca = pca.transform(training_images)"
      ],
      "execution_count": 0,
      "outputs": []
    },
    {
      "cell_type": "code",
      "metadata": {
        "colab_type": "code",
        "outputId": "2e684a97-94cb-462b-b4dd-dbd91d677f3c",
        "id": "lhGo7ro4KW0d",
        "colab": {
          "base_uri": "https://localhost:8080/",
          "height": 35
        }
      },
      "source": [
        "mnist_train_pca.shape"
      ],
      "execution_count": 0,
      "outputs": [
        {
          "output_type": "execute_result",
          "data": {
            "text/plain": [
              "(42000, 332)"
            ]
          },
          "metadata": {
            "tags": []
          },
          "execution_count": 26
        }
      ]
    },
    {
      "cell_type": "code",
      "metadata": {
        "id": "-X5XXiRzUJ0G",
        "colab_type": "code",
        "outputId": "d22d7598-ddb2-47ac-a802-7e8d87d606d0",
        "colab": {
          "base_uri": "https://localhost:8080/",
          "height": 236
        }
      },
      "source": [
        "pd.DataFrame(mnist_train_pca).head()"
      ],
      "execution_count": 0,
      "outputs": [
        {
          "output_type": "execute_result",
          "data": {
            "text/html": [
              "<div>\n",
              "<style scoped>\n",
              "    .dataframe tbody tr th:only-of-type {\n",
              "        vertical-align: middle;\n",
              "    }\n",
              "\n",
              "    .dataframe tbody tr th {\n",
              "        vertical-align: top;\n",
              "    }\n",
              "\n",
              "    .dataframe thead th {\n",
              "        text-align: right;\n",
              "    }\n",
              "</style>\n",
              "<table border=\"1\" class=\"dataframe\">\n",
              "  <thead>\n",
              "    <tr style=\"text-align: right;\">\n",
              "      <th></th>\n",
              "      <th>0</th>\n",
              "      <th>1</th>\n",
              "      <th>2</th>\n",
              "      <th>3</th>\n",
              "      <th>4</th>\n",
              "      <th>5</th>\n",
              "      <th>6</th>\n",
              "      <th>7</th>\n",
              "      <th>8</th>\n",
              "      <th>9</th>\n",
              "      <th>...</th>\n",
              "      <th>322</th>\n",
              "      <th>323</th>\n",
              "      <th>324</th>\n",
              "      <th>325</th>\n",
              "      <th>326</th>\n",
              "      <th>327</th>\n",
              "      <th>328</th>\n",
              "      <th>329</th>\n",
              "      <th>330</th>\n",
              "      <th>331</th>\n",
              "    </tr>\n",
              "  </thead>\n",
              "  <tbody>\n",
              "    <tr>\n",
              "      <th>0</th>\n",
              "      <td>111.556031</td>\n",
              "      <td>-515.380019</td>\n",
              "      <td>393.325986</td>\n",
              "      <td>-422.646161</td>\n",
              "      <td>-106.158783</td>\n",
              "      <td>715.515430</td>\n",
              "      <td>8.391745</td>\n",
              "      <td>-299.059986</td>\n",
              "      <td>376.455725</td>\n",
              "      <td>-707.381371</td>\n",
              "      <td>...</td>\n",
              "      <td>-32.018353</td>\n",
              "      <td>1.377294</td>\n",
              "      <td>-31.798992</td>\n",
              "      <td>-22.947709</td>\n",
              "      <td>7.197356</td>\n",
              "      <td>12.609094</td>\n",
              "      <td>-34.125341</td>\n",
              "      <td>-3.471179</td>\n",
              "      <td>22.962898</td>\n",
              "      <td>-5.478403</td>\n",
              "    </tr>\n",
              "    <tr>\n",
              "      <th>1</th>\n",
              "      <td>2318.640969</td>\n",
              "      <td>320.199678</td>\n",
              "      <td>89.564563</td>\n",
              "      <td>-682.413483</td>\n",
              "      <td>-537.974538</td>\n",
              "      <td>315.099803</td>\n",
              "      <td>-836.867802</td>\n",
              "      <td>230.513885</td>\n",
              "      <td>-92.785597</td>\n",
              "      <td>-944.623214</td>\n",
              "      <td>...</td>\n",
              "      <td>-31.377974</td>\n",
              "      <td>33.108946</td>\n",
              "      <td>-2.740220</td>\n",
              "      <td>-22.188909</td>\n",
              "      <td>-25.335172</td>\n",
              "      <td>-43.155438</td>\n",
              "      <td>7.886460</td>\n",
              "      <td>25.084911</td>\n",
              "      <td>-51.126847</td>\n",
              "      <td>2.595640</td>\n",
              "    </tr>\n",
              "    <tr>\n",
              "      <th>2</th>\n",
              "      <td>-119.201624</td>\n",
              "      <td>-252.215344</td>\n",
              "      <td>184.683132</td>\n",
              "      <td>-117.126977</td>\n",
              "      <td>-137.479373</td>\n",
              "      <td>87.646222</td>\n",
              "      <td>-520.076448</td>\n",
              "      <td>377.278478</td>\n",
              "      <td>427.101502</td>\n",
              "      <td>-540.041861</td>\n",
              "      <td>...</td>\n",
              "      <td>-3.587095</td>\n",
              "      <td>11.011712</td>\n",
              "      <td>24.379383</td>\n",
              "      <td>-23.330191</td>\n",
              "      <td>-9.075096</td>\n",
              "      <td>-29.655765</td>\n",
              "      <td>10.669068</td>\n",
              "      <td>-14.363629</td>\n",
              "      <td>-15.958419</td>\n",
              "      <td>-13.770153</td>\n",
              "    </tr>\n",
              "    <tr>\n",
              "      <th>3</th>\n",
              "      <td>545.496856</td>\n",
              "      <td>300.038990</td>\n",
              "      <td>-31.310611</td>\n",
              "      <td>137.969638</td>\n",
              "      <td>-445.094951</td>\n",
              "      <td>575.075978</td>\n",
              "      <td>-40.413723</td>\n",
              "      <td>105.534642</td>\n",
              "      <td>209.500957</td>\n",
              "      <td>-66.778682</td>\n",
              "      <td>...</td>\n",
              "      <td>27.715134</td>\n",
              "      <td>44.959831</td>\n",
              "      <td>22.965528</td>\n",
              "      <td>34.551195</td>\n",
              "      <td>45.163553</td>\n",
              "      <td>31.479478</td>\n",
              "      <td>-65.870982</td>\n",
              "      <td>-17.325779</td>\n",
              "      <td>38.635335</td>\n",
              "      <td>44.878420</td>\n",
              "    </tr>\n",
              "    <tr>\n",
              "      <th>4</th>\n",
              "      <td>2732.203891</td>\n",
              "      <td>273.134787</td>\n",
              "      <td>53.998155</td>\n",
              "      <td>-830.536037</td>\n",
              "      <td>-164.812514</td>\n",
              "      <td>280.665451</td>\n",
              "      <td>-956.703919</td>\n",
              "      <td>84.970430</td>\n",
              "      <td>-120.301759</td>\n",
              "      <td>-990.893395</td>\n",
              "      <td>...</td>\n",
              "      <td>12.808796</td>\n",
              "      <td>80.394669</td>\n",
              "      <td>0.314415</td>\n",
              "      <td>98.923561</td>\n",
              "      <td>-32.371599</td>\n",
              "      <td>-38.162853</td>\n",
              "      <td>-13.569534</td>\n",
              "      <td>0.675837</td>\n",
              "      <td>-36.143435</td>\n",
              "      <td>20.688108</td>\n",
              "    </tr>\n",
              "  </tbody>\n",
              "</table>\n",
              "<p>5 rows × 332 columns</p>\n",
              "</div>"
            ],
            "text/plain": [
              "           0           1           2           3           4           5    \\\n",
              "0   111.556031 -515.380019  393.325986 -422.646161 -106.158783  715.515430   \n",
              "1  2318.640969  320.199678   89.564563 -682.413483 -537.974538  315.099803   \n",
              "2  -119.201624 -252.215344  184.683132 -117.126977 -137.479373   87.646222   \n",
              "3   545.496856  300.038990  -31.310611  137.969638 -445.094951  575.075978   \n",
              "4  2732.203891  273.134787   53.998155 -830.536037 -164.812514  280.665451   \n",
              "\n",
              "          6           7           8           9    ...        322        323  \\\n",
              "0    8.391745 -299.059986  376.455725 -707.381371  ... -32.018353   1.377294   \n",
              "1 -836.867802  230.513885  -92.785597 -944.623214  ... -31.377974  33.108946   \n",
              "2 -520.076448  377.278478  427.101502 -540.041861  ...  -3.587095  11.011712   \n",
              "3  -40.413723  105.534642  209.500957  -66.778682  ...  27.715134  44.959831   \n",
              "4 -956.703919   84.970430 -120.301759 -990.893395  ...  12.808796  80.394669   \n",
              "\n",
              "         324        325        326        327        328        329  \\\n",
              "0 -31.798992 -22.947709   7.197356  12.609094 -34.125341  -3.471179   \n",
              "1  -2.740220 -22.188909 -25.335172 -43.155438   7.886460  25.084911   \n",
              "2  24.379383 -23.330191  -9.075096 -29.655765  10.669068 -14.363629   \n",
              "3  22.965528  34.551195  45.163553  31.479478 -65.870982 -17.325779   \n",
              "4   0.314415  98.923561 -32.371599 -38.162853 -13.569534   0.675837   \n",
              "\n",
              "         330        331  \n",
              "0  22.962898  -5.478403  \n",
              "1 -51.126847   2.595640  \n",
              "2 -15.958419 -13.770153  \n",
              "3  38.635335  44.878420  \n",
              "4 -36.143435  20.688108  \n",
              "\n",
              "[5 rows x 332 columns]"
            ]
          },
          "metadata": {
            "tags": []
          },
          "execution_count": 27
        }
      ]
    },
    {
      "cell_type": "markdown",
      "metadata": {
        "id": "e2GvbHWiqy41",
        "colab_type": "text"
      },
      "source": [
        "# Random Forest Model Submission 2"
      ]
    },
    {
      "cell_type": "markdown",
      "metadata": {
        "id": "E60E0PPK6MuS",
        "colab_type": "text"
      },
      "source": [
        "### Initialize PCA Random Forest Classifier"
      ]
    },
    {
      "cell_type": "code",
      "metadata": {
        "colab_type": "code",
        "id": "EKimDNivhG6H",
        "colab": {}
      },
      "source": [
        "random_forest_pca=RandomForestClassifier(max_features = 'sqrt', bootstrap = True, n_estimators = 10, random_state=RANDOM_SEED)"
      ],
      "execution_count": 0,
      "outputs": []
    },
    {
      "cell_type": "code",
      "metadata": {
        "colab_type": "code",
        "outputId": "2b99d2e2-02b9-4ddf-ec66-11ac165a723a",
        "id": "5MCO2UjbhG6T",
        "colab": {
          "base_uri": "https://localhost:8080/",
          "height": 54
        }
      },
      "source": [
        "start=datetime.datetime.now()\n",
        "random_forest_pca.fit(mnist_train_pca, training_labels)\n",
        "end=datetime.datetime.now()\n",
        "r2_traintime=end-start\n",
        "print(\"Time required to fit\",r2_traintime)\n",
        "print(\"Score:\",random_forest_pca.score(mnist_train_pca, training_labels))"
      ],
      "execution_count": 0,
      "outputs": [
        {
          "output_type": "stream",
          "text": [
            "Time required to fit 0:00:11.191414\n",
            "Score: 0.9989761904761905\n"
          ],
          "name": "stdout"
        }
      ]
    },
    {
      "cell_type": "markdown",
      "metadata": {
        "colab_type": "text",
        "id": "nZKPFJQuhG6g"
      },
      "source": [
        "### Model Results and Second Submission"
      ]
    },
    {
      "cell_type": "code",
      "metadata": {
        "colab_type": "code",
        "outputId": "ecff7cf1-3651-44c1-ac07-93eba9c0bd78",
        "id": "fzh6IWoQhG6j",
        "colab": {
          "base_uri": "https://localhost:8080/",
          "height": 362
        }
      },
      "source": [
        "r2_submission = pd.DataFrame()\n",
        "r2_submission['Label'] = random_forest_pca.predict(pca.transform(mnist_test))\n",
        "r2_submission.index += 1\n",
        "r2_submission.index.name = 'ImageId'\n",
        "plt.imshow(mnist_test.iloc[12121, :].values.reshape(28, 28), cmap=matplotlib.cm.binary, interpolation=\"nearest\")\n",
        "plt.title('Prediction: {}'.format(r2_submission.iloc[12121, 0]))\n",
        "plt.axis(\"off\")\n",
        "plt.show()"
      ],
      "execution_count": 0,
      "outputs": [
        {
          "output_type": "display_data",
          "data": {
            "image/png": "[encoded data removed]",
            "text/plain": [
              "<Figure size 576x396 with 1 Axes>"
            ]
          },
          "metadata": {
            "tags": []
          }
        }
      ]
    },
    {
      "cell_type": "markdown",
      "metadata": {
        "colab_type": "text",
        "id": "raw0zA9fhG6s"
      },
      "source": [
        "The average score images here are similar"
      ]
    },
    {
      "cell_type": "code",
      "metadata": {
        "colab_type": "code",
        "outputId": "c9a7bd4d-3300-43c3-9415-64df4e4a89aa",
        "id": "gf1_kUqBhG6v",
        "colab": {
          "base_uri": "https://localhost:8080/",
          "height": 159
        }
      },
      "source": [
        "fig = plt.figure(figsize=(23,5))\n",
        "\n",
        "r2_submission_results=mnist_test.copy()\n",
        "r2_submission_results['label']=r2_submission['Label'].values\n",
        "digit_count=len(r2_submission_results.groupby('label').mean())\n",
        "\n",
        "for i in range(digit_count):\n",
        "  fig.add_subplot(1,digit_count,i+1)\n",
        "  plt.imshow(r2_submission_results.groupby('label').mean().iloc[i, 0:].values.reshape(28, 28), cmap=matplotlib.cm.binary, interpolation=\"nearest\")\n",
        "  plt.axis(\"off\")"
      ],
      "execution_count": 0,
      "outputs": [
        {
          "output_type": "display_data",
          "data": {
            "image/png": "[encoded data removed]",
            "text/plain": [
              "<Figure size 1656x360 with 10 Axes>"
            ]
          },
          "metadata": {
            "tags": []
          }
        }
      ]
    },
    {
      "cell_type": "markdown",
      "metadata": {
        "colab_type": "text",
        "id": "abNEHtHbhG62"
      },
      "source": [
        "Save results to Google Drive"
      ]
    },
    {
      "cell_type": "code",
      "metadata": {
        "colab_type": "code",
        "outputId": "69a1899f-b49f-4300-d79e-d17fd353cf0f",
        "id": "bPrF10P_hG63",
        "colab": {
          "base_uri": "https://localhost:8080/",
          "height": 35
        }
      },
      "source": [
        "from google.colab import drive\n",
        "drive.mount('/content/gdrive')\n",
        "\n",
        "r2_submission.to_csv('/content/gdrive/My Drive/MSDS-422-Gift/module_5/r2_submission.csv')"
      ],
      "execution_count": 0,
      "outputs": [
        {
          "output_type": "stream",
          "text": [
            "Drive already mounted at /content/gdrive; to attempt to forcibly remount, call drive.mount(\"/content/gdrive\", force_remount=True).\n"
          ],
          "name": "stdout"
        }
      ]
    },
    {
      "cell_type": "markdown",
      "metadata": {
        "colab_type": "text",
        "id": "-73OivHHhG7A"
      },
      "source": [
        "This data was submitted to Kaggle under the username ericpierce, and resulted in a score of 0.88157"
      ]
    },
    {
      "cell_type": "markdown",
      "metadata": {
        "colab_type": "text",
        "id": "yF8MXUo8x12g"
      },
      "source": [
        "# PCA Correction and Random Forest Model Submission 3"
      ]
    },
    {
      "cell_type": "markdown",
      "metadata": {
        "colab_type": "text",
        "id": "6YpMn_9TyCQX"
      },
      "source": [
        "Our PCA corrected feature reduction scored lower than our full dataset, and took longer. The purpose of PCA is to reduce features needed and not overfit. This time we'll use a much lower component count to try to avoid overfitting.\n",
        "\n",
        "Another step that was skipped earlier was training the PCA on the entire dataset, rather than a subset of the training set."
      ]
    },
    {
      "cell_type": "markdown",
      "metadata": {
        "colab_type": "text",
        "id": "A337ouqGyCQf"
      },
      "source": [
        "### Conduct Corrected PCA"
      ]
    },
    {
      "cell_type": "code",
      "metadata": {
        "colab_type": "code",
        "outputId": "11420e27-422b-4b01-966d-e094ae440ed3",
        "id": "oDKr4qT1yCQf",
        "colab": {
          "base_uri": "https://localhost:8080/",
          "height": 35
        }
      },
      "source": [
        "from sklearn.model_selection import train_test_split\n",
        "\n",
        "pca_corrected = PCA(n_components=0.95, random_state=RANDOM_SEED)\n",
        "\n",
        "scaler_corrected = StandardScaler()\n",
        "\n",
        "training_images_scaled = scaler_corrected.fit_transform(training_images.astype(float))\n",
        "\n",
        "x_pca_train, x_pca_test, y_pca_train, y_pca_test = train_test_split(training_images_scaled, training_labels, random_state=RANDOM_SEED)\n",
        "\n",
        "start=datetime.datetime.now()\n",
        "x_pca_train_transformed = pca_corrected.fit_transform(x_pca_train)\n",
        "end=datetime.datetime.now()\n",
        "print(\"Time required to fit\",end-start)"
      ],
      "execution_count": 0,
      "outputs": [
        {
          "output_type": "stream",
          "text": [
            "Time required to fit 0:00:07.012874\n"
          ],
          "name": "stdout"
        }
      ]
    },
    {
      "cell_type": "markdown",
      "metadata": {
        "colab_type": "text",
        "id": "LC-3PFxIyCQl"
      },
      "source": [
        "### Results of Corrected PCA"
      ]
    },
    {
      "cell_type": "code",
      "metadata": {
        "colab_type": "code",
        "outputId": "ffe8e662-fa86-4514-b190-b2fbd8582406",
        "id": "k05l4QjpyCQo",
        "colab": {
          "base_uri": "https://localhost:8080/",
          "height": 35
        }
      },
      "source": [
        "sum(pca_corrected.explained_variance_ratio_)"
      ],
      "execution_count": 0,
      "outputs": [
        {
          "output_type": "execute_result",
          "data": {
            "text/plain": [
              "0.9502330819287848"
            ]
          },
          "metadata": {
            "tags": []
          },
          "execution_count": 34
        }
      ]
    },
    {
      "cell_type": "code",
      "metadata": {
        "colab_type": "code",
        "outputId": "9ff7b182-6cc4-45fd-d583-f57a109e4f19",
        "id": "qIGG2ocMyCQv",
        "colab": {
          "base_uri": "https://localhost:8080/",
          "height": 347
        }
      },
      "source": [
        "plt.hist(pca_corrected.explained_variance_ratio_, bins=10)\n",
        "plt.show()"
      ],
      "execution_count": 0,
      "outputs": [
        {
          "output_type": "display_data",
          "data": {
            "image/png": "[encoded data removed]",
            "text/plain": [
              "<Figure size 576x396 with 1 Axes>"
            ]
          },
          "metadata": {
            "tags": []
          }
        }
      ]
    },
    {
      "cell_type": "code",
      "metadata": {
        "colab_type": "code",
        "outputId": "4ccba5d6-b6d3-4cbc-9abf-750238a83820",
        "id": "0i3ldOiFyCRM",
        "colab": {
          "base_uri": "https://localhost:8080/",
          "height": 35
        }
      },
      "source": [
        "x_pca_train_transformed.shape"
      ],
      "execution_count": 0,
      "outputs": [
        {
          "output_type": "execute_result",
          "data": {
            "text/plain": [
              "(31500, 313)"
            ]
          },
          "metadata": {
            "tags": []
          },
          "execution_count": 36
        }
      ]
    },
    {
      "cell_type": "code",
      "metadata": {
        "colab_type": "code",
        "outputId": "383c502c-998b-4fb7-ffa7-58101a8473c5",
        "id": "3AOL2ww7yCRW",
        "colab": {
          "base_uri": "https://localhost:8080/",
          "height": 236
        }
      },
      "source": [
        "pd.DataFrame(x_pca_train_transformed).head()"
      ],
      "execution_count": 0,
      "outputs": [
        {
          "output_type": "execute_result",
          "data": {
            "text/html": [
              "<div>\n",
              "<style scoped>\n",
              "    .dataframe tbody tr th:only-of-type {\n",
              "        vertical-align: middle;\n",
              "    }\n",
              "\n",
              "    .dataframe tbody tr th {\n",
              "        vertical-align: top;\n",
              "    }\n",
              "\n",
              "    .dataframe thead th {\n",
              "        text-align: right;\n",
              "    }\n",
              "</style>\n",
              "<table border=\"1\" class=\"dataframe\">\n",
              "  <thead>\n",
              "    <tr style=\"text-align: right;\">\n",
              "      <th></th>\n",
              "      <th>0</th>\n",
              "      <th>1</th>\n",
              "      <th>2</th>\n",
              "      <th>3</th>\n",
              "      <th>4</th>\n",
              "      <th>5</th>\n",
              "      <th>6</th>\n",
              "      <th>7</th>\n",
              "      <th>8</th>\n",
              "      <th>9</th>\n",
              "      <th>...</th>\n",
              "      <th>303</th>\n",
              "      <th>304</th>\n",
              "      <th>305</th>\n",
              "      <th>306</th>\n",
              "      <th>307</th>\n",
              "      <th>308</th>\n",
              "      <th>309</th>\n",
              "      <th>310</th>\n",
              "      <th>311</th>\n",
              "      <th>312</th>\n",
              "    </tr>\n",
              "  </thead>\n",
              "  <tbody>\n",
              "    <tr>\n",
              "      <th>0</th>\n",
              "      <td>-6.025583</td>\n",
              "      <td>7.072394</td>\n",
              "      <td>-5.583653</td>\n",
              "      <td>-0.906020</td>\n",
              "      <td>2.176660</td>\n",
              "      <td>-1.715088</td>\n",
              "      <td>2.555869</td>\n",
              "      <td>3.663239</td>\n",
              "      <td>-1.845622</td>\n",
              "      <td>-2.609548</td>\n",
              "      <td>...</td>\n",
              "      <td>-0.249887</td>\n",
              "      <td>-0.113351</td>\n",
              "      <td>-0.563969</td>\n",
              "      <td>-0.418323</td>\n",
              "      <td>-0.057355</td>\n",
              "      <td>-0.395330</td>\n",
              "      <td>-0.837239</td>\n",
              "      <td>0.186158</td>\n",
              "      <td>0.055588</td>\n",
              "      <td>-0.417887</td>\n",
              "    </tr>\n",
              "    <tr>\n",
              "      <th>1</th>\n",
              "      <td>-3.541280</td>\n",
              "      <td>-6.281570</td>\n",
              "      <td>-0.518463</td>\n",
              "      <td>-3.258764</td>\n",
              "      <td>-2.060592</td>\n",
              "      <td>4.484329</td>\n",
              "      <td>-3.522536</td>\n",
              "      <td>-1.544705</td>\n",
              "      <td>0.884610</td>\n",
              "      <td>-3.763372</td>\n",
              "      <td>...</td>\n",
              "      <td>-0.282289</td>\n",
              "      <td>-0.372159</td>\n",
              "      <td>0.505148</td>\n",
              "      <td>0.433154</td>\n",
              "      <td>0.216698</td>\n",
              "      <td>-0.089895</td>\n",
              "      <td>0.420537</td>\n",
              "      <td>0.075463</td>\n",
              "      <td>-0.274258</td>\n",
              "      <td>-0.338482</td>\n",
              "    </tr>\n",
              "    <tr>\n",
              "      <th>2</th>\n",
              "      <td>4.798834</td>\n",
              "      <td>12.598354</td>\n",
              "      <td>-1.370398</td>\n",
              "      <td>5.516975</td>\n",
              "      <td>-2.315825</td>\n",
              "      <td>6.287403</td>\n",
              "      <td>6.197454</td>\n",
              "      <td>-1.624107</td>\n",
              "      <td>4.114841</td>\n",
              "      <td>-0.238254</td>\n",
              "      <td>...</td>\n",
              "      <td>-0.380048</td>\n",
              "      <td>-0.049830</td>\n",
              "      <td>-0.387266</td>\n",
              "      <td>-0.737764</td>\n",
              "      <td>0.057723</td>\n",
              "      <td>1.893318</td>\n",
              "      <td>-0.417669</td>\n",
              "      <td>-0.039641</td>\n",
              "      <td>0.040118</td>\n",
              "      <td>-0.174317</td>\n",
              "    </tr>\n",
              "    <tr>\n",
              "      <th>3</th>\n",
              "      <td>-3.486557</td>\n",
              "      <td>-7.775906</td>\n",
              "      <td>-1.559795</td>\n",
              "      <td>-1.673021</td>\n",
              "      <td>4.456255</td>\n",
              "      <td>1.694771</td>\n",
              "      <td>2.559371</td>\n",
              "      <td>2.407253</td>\n",
              "      <td>2.342450</td>\n",
              "      <td>2.181343</td>\n",
              "      <td>...</td>\n",
              "      <td>-0.694881</td>\n",
              "      <td>-0.064708</td>\n",
              "      <td>-0.060020</td>\n",
              "      <td>-0.643658</td>\n",
              "      <td>0.278300</td>\n",
              "      <td>0.409916</td>\n",
              "      <td>-0.869824</td>\n",
              "      <td>0.071110</td>\n",
              "      <td>-0.129766</td>\n",
              "      <td>-0.144434</td>\n",
              "    </tr>\n",
              "    <tr>\n",
              "      <th>4</th>\n",
              "      <td>0.990661</td>\n",
              "      <td>-6.793943</td>\n",
              "      <td>3.229550</td>\n",
              "      <td>9.700226</td>\n",
              "      <td>-8.461758</td>\n",
              "      <td>-0.682198</td>\n",
              "      <td>2.597801</td>\n",
              "      <td>4.386194</td>\n",
              "      <td>6.302550</td>\n",
              "      <td>-5.376540</td>\n",
              "      <td>...</td>\n",
              "      <td>-0.007225</td>\n",
              "      <td>0.375308</td>\n",
              "      <td>-0.265340</td>\n",
              "      <td>0.008643</td>\n",
              "      <td>-0.334381</td>\n",
              "      <td>-0.213911</td>\n",
              "      <td>0.003638</td>\n",
              "      <td>0.293049</td>\n",
              "      <td>-0.484196</td>\n",
              "      <td>-0.131207</td>\n",
              "    </tr>\n",
              "  </tbody>\n",
              "</table>\n",
              "<p>5 rows × 313 columns</p>\n",
              "</div>"
            ],
            "text/plain": [
              "        0          1         2         3         4         5         6    \\\n",
              "0 -6.025583   7.072394 -5.583653 -0.906020  2.176660 -1.715088  2.555869   \n",
              "1 -3.541280  -6.281570 -0.518463 -3.258764 -2.060592  4.484329 -3.522536   \n",
              "2  4.798834  12.598354 -1.370398  5.516975 -2.315825  6.287403  6.197454   \n",
              "3 -3.486557  -7.775906 -1.559795 -1.673021  4.456255  1.694771  2.559371   \n",
              "4  0.990661  -6.793943  3.229550  9.700226 -8.461758 -0.682198  2.597801   \n",
              "\n",
              "        7         8         9    ...       303       304       305       306  \\\n",
              "0  3.663239 -1.845622 -2.609548  ... -0.249887 -0.113351 -0.563969 -0.418323   \n",
              "1 -1.544705  0.884610 -3.763372  ... -0.282289 -0.372159  0.505148  0.433154   \n",
              "2 -1.624107  4.114841 -0.238254  ... -0.380048 -0.049830 -0.387266 -0.737764   \n",
              "3  2.407253  2.342450  2.181343  ... -0.694881 -0.064708 -0.060020 -0.643658   \n",
              "4  4.386194  6.302550 -5.376540  ... -0.007225  0.375308 -0.265340  0.008643   \n",
              "\n",
              "        307       308       309       310       311       312  \n",
              "0 -0.057355 -0.395330 -0.837239  0.186158  0.055588 -0.417887  \n",
              "1  0.216698 -0.089895  0.420537  0.075463 -0.274258 -0.338482  \n",
              "2  0.057723  1.893318 -0.417669 -0.039641  0.040118 -0.174317  \n",
              "3  0.278300  0.409916 -0.869824  0.071110 -0.129766 -0.144434  \n",
              "4 -0.334381 -0.213911  0.003638  0.293049 -0.484196 -0.131207  \n",
              "\n",
              "[5 rows x 313 columns]"
            ]
          },
          "metadata": {
            "tags": []
          },
          "execution_count": 37
        }
      ]
    },
    {
      "cell_type": "code",
      "metadata": {
        "colab_type": "code",
        "id": "Q9djGtElx12q",
        "colab": {}
      },
      "source": [
        "random_forest_pca_corrected=RandomForestClassifier(max_features = 'sqrt', bootstrap = True, n_estimators = 100, random_state=RANDOM_SEED)"
      ],
      "execution_count": 0,
      "outputs": []
    },
    {
      "cell_type": "code",
      "metadata": {
        "colab_type": "code",
        "outputId": "50dc6ff8-d298-4c9e-9364-27c35b3a1488",
        "id": "r_E7pqyDx123",
        "colab": {
          "base_uri": "https://localhost:8080/",
          "height": 54
        }
      },
      "source": [
        "x_pca_test_pca_corrected = pca_corrected.transform(x_pca_test)\n",
        "start=datetime.datetime.now()\n",
        "random_forest_pca_corrected.fit(x_pca_train_transformed, y_pca_train)\n",
        "end=datetime.datetime.now()\n",
        "r3_traintime=end-start\n",
        "print(\"Time required to fit\",r3_traintime)\n",
        "print(\"Score:\",random_forest_pca_corrected.score(x_pca_test_pca_corrected, y_pca_test))"
      ],
      "execution_count": 0,
      "outputs": [
        {
          "output_type": "stream",
          "text": [
            "Time required to fit 0:01:12.613098\n",
            "Score: 0.9316190476190476\n"
          ],
          "name": "stdout"
        }
      ]
    },
    {
      "cell_type": "markdown",
      "metadata": {
        "colab_type": "text",
        "id": "oDhkV9edx13E"
      },
      "source": [
        "### Model Results and Final Submission"
      ]
    },
    {
      "cell_type": "code",
      "metadata": {
        "colab_type": "code",
        "id": "CK4P7ZPgx13G",
        "colab": {}
      },
      "source": [
        "r3_submission = pd.DataFrame()\n",
        "\n",
        "r3_submission['Label'] = random_forest_pca_corrected.predict(pca_corrected.transform(scaler_corrected.transform(mnist_test.astype(float))))\n",
        "r3_submission.index += 1\n",
        "r3_submission.index.name = 'ImageId'\n",
        "plt.imshow(mnist_test.iloc[12121, :].values.reshape(28, 28), cmap=matplotlib.cm.binary, interpolation=\"nearest\")\n",
        "plt.title('Prediction: {}'.format(r3_submission.iloc[12121, 0]))\n",
        "plt.axis(\"off\")\n",
        "plt.show()"
      ],
      "execution_count": 0,
      "outputs": []
    },
    {
      "cell_type": "markdown",
      "metadata": {
        "colab_type": "text",
        "id": "sfFPHNoRx13P"
      },
      "source": [
        "The average score images here are similar"
      ]
    },
    {
      "cell_type": "code",
      "metadata": {
        "colab_type": "code",
        "id": "qp9E1W4Gx13Q",
        "colab": {}
      },
      "source": [
        "fig = plt.figure(figsize=(23,5))\n",
        "\n",
        "r3_submission_results=mnist_test.copy()\n",
        "r3_submission_results['label']=r2_submission['Label'].values\n",
        "digit_count=len(r3_submission_results.groupby('label').mean())\n",
        "\n",
        "for i in range(digit_count):\n",
        "  fig.add_subplot(1,digit_count,i+1)\n",
        "  plt.imshow(r3_submission_results.groupby('label').mean().iloc[i, 0:].values.reshape(28, 28), cmap=matplotlib.cm.binary, interpolation=\"nearest\")\n",
        "  plt.axis(\"off\")"
      ],
      "execution_count": 0,
      "outputs": []
    },
    {
      "cell_type": "markdown",
      "metadata": {
        "colab_type": "text",
        "id": "q7QnKadMx13X"
      },
      "source": [
        "Save results to Google Drive"
      ]
    },
    {
      "cell_type": "code",
      "metadata": {
        "colab_type": "code",
        "id": "2yPoXC53x13Y",
        "colab": {}
      },
      "source": [
        "from google.colab import drive\n",
        "drive.mount('/content/gdrive')\n",
        "\n",
        "r3_submission.to_csv('/content/gdrive/My Drive/MSDS-422-Gift/module_5/r3_submission.csv')"
      ],
      "execution_count": 0,
      "outputs": []
    },
    {
      "cell_type": "markdown",
      "metadata": {
        "colab_type": "text",
        "id": "qRb4EzeRx13f"
      },
      "source": [
        "This data was submitted to Kaggle under the username ericpierce, and resulted in a score of 0.93200"
      ]
    },
    {
      "cell_type": "code",
      "metadata": {
        "id": "Y0cNUAdbyAqJ",
        "colab_type": "code",
        "outputId": "3c37ab17-0db1-4ce5-93b5-a7869da45f25",
        "colab": {
          "base_uri": "https://localhost:8080/",
          "height": 175
        }
      },
      "source": [
        "results_df = pd.DataFrame({'TestName': ['Random Forest with no PCA', 'Random Forest with PCA', 'Corrected Random Forest with PCA'],\n",
        "   'TestScore': [0.94242, 0.88157, 0.93200],\n",
        "   'TestTimeToFit': [r1_traintime, r2_traintime, r3_traintime]})\n",
        "results_df.set_index('TestName', inplace=True)\n",
        "\n",
        "results_df"
      ],
      "execution_count": 0,
      "outputs": [
        {
          "output_type": "execute_result",
          "data": {
            "text/html": [
              "<div>\n",
              "<style scoped>\n",
              "    .dataframe tbody tr th:only-of-type {\n",
              "        vertical-align: middle;\n",
              "    }\n",
              "\n",
              "    .dataframe tbody tr th {\n",
              "        vertical-align: top;\n",
              "    }\n",
              "\n",
              "    .dataframe thead th {\n",
              "        text-align: right;\n",
              "    }\n",
              "</style>\n",
              "<table border=\"1\" class=\"dataframe\">\n",
              "  <thead>\n",
              "    <tr style=\"text-align: right;\">\n",
              "      <th></th>\n",
              "      <th>TestScore</th>\n",
              "      <th>TestTimeToFit</th>\n",
              "    </tr>\n",
              "    <tr>\n",
              "      <th>TestName</th>\n",
              "      <th></th>\n",
              "      <th></th>\n",
              "    </tr>\n",
              "  </thead>\n",
              "  <tbody>\n",
              "    <tr>\n",
              "      <th>Random Forest with no PCA</th>\n",
              "      <td>0.94242</td>\n",
              "      <td>00:00:03.836718</td>\n",
              "    </tr>\n",
              "    <tr>\n",
              "      <th>Random Forest with PCA</th>\n",
              "      <td>0.88157</td>\n",
              "      <td>00:00:11.191414</td>\n",
              "    </tr>\n",
              "    <tr>\n",
              "      <th>Corrected Random Forest with PCA</th>\n",
              "      <td>0.93200</td>\n",
              "      <td>00:01:12.613098</td>\n",
              "    </tr>\n",
              "  </tbody>\n",
              "</table>\n",
              "</div>"
            ],
            "text/plain": [
              "                                  TestScore   TestTimeToFit\n",
              "TestName                                                   \n",
              "Random Forest with no PCA           0.94242 00:00:03.836718\n",
              "Random Forest with PCA              0.88157 00:00:11.191414\n",
              "Corrected Random Forest with PCA    0.93200 00:01:12.613098"
            ]
          },
          "metadata": {
            "tags": []
          },
          "execution_count": 52
        }
      ]
    },
    {
      "cell_type": "code",
      "metadata": {
        "id": "fvqyngsunE8A",
        "colab_type": "code",
        "outputId": "c45f92c3-9d2e-4b03-fedf-cb4e9d72fe60",
        "colab": {
          "base_uri": "https://localhost:8080/",
          "height": 757
        }
      },
      "source": [
        "results_df[['TestScore']].plot(kind='barh', title='Test Scores')\n",
        "results_df[['TestTimeToFit']].plot(kind='barh', title='Test Time to Fit')\n",
        "plt.show()"
      ],
      "execution_count": 0,
      "outputs": [
        {
          "output_type": "stream",
          "text": [
            "/usr/local/lib/python3.6/dist-packages/pandas/plotting/_core.py:223: FutureWarning: Passing integers to fillna is deprecated, will raise a TypeError in a future version.  To retain the old behavior, pass pd.Timedelta(seconds=n) instead.\n",
            "  data = data.fillna(fillna)\n"
          ],
          "name": "stderr"
        },
        {
          "output_type": "display_data",
          "data": {
            "image/png": "[encoded data removed]",
            "text/plain": [
              "<Figure size 576x396 with 1 Axes>"
            ]
          },
          "metadata": {
            "tags": []
          }
        },
        {
          "output_type": "display_data",
          "data": {
            "image/png": "[encoded data removed]",
            "text/plain": [
              "<Figure size 576x396 with 1 Axes>"
            ]
          },
          "metadata": {
            "tags": []
          }
        }
      ]
    },
    {
      "cell_type": "markdown",
      "metadata": {
        "id": "a8sTTiU7mEO0",
        "colab_type": "text"
      },
      "source": [
        "# Recommendations"
      ]
    },
    {
      "cell_type": "markdown",
      "metadata": {
        "id": "rro60naomfPK",
        "colab_type": "text"
      },
      "source": [
        "The results of this particular dataset indicated that the PCA process did not significantly reduce time to train (in fact it significantly incresed it), and it had a minor impact on the ultimate score (about 1% less accurate)."
      ]
    }
  ]
}